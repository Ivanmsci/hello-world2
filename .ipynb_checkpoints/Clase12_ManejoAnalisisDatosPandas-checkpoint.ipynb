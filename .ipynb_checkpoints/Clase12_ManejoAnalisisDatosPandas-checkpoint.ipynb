{
 "cells": [
  {
   "cell_type": "markdown",
   "metadata": {},
   "source": [
    "# Aplicando Python para análisis de precios: descarga, manejo y análisis de datos"
   ]
  },
  {
   "cell_type": "markdown",
   "metadata": {},
   "source": [
    "<img style=\"float: right; margin: 0px 0px 15px 15px;\" src=\"https://upload.wikimedia.org/wikipedia/commons/0/0a/Python.svg\" width=\"300px\" height=\"100px\" />\n",
    "\n",
    "> En esta y en las siguientes dos clases veremos un caso de aplicación de simulación montecarlo en la toma de decisiones. Para lograr este objetivo, primero veremos (en esta clase) como manipular datos con *pandas*, tanto desde un archivo local de excel como remotamente desde Yahoo Finance.\n",
    "\n",
    "> Python Data Analysis Library: pandas es una librería de código abierto, fácil de usar y que provee alto rendimiento en estructuras de datos y herramientas de análisis de datos para el lenguaje de programación Python.\n",
    "\n",
    "**Referencias:**\n",
    "- http://pandas.pydata.org/\n",
    "- http://www.learndatasci.com/python-finance-part-yahoo-finance-api-pandas-matplotlib/\n",
    "- https://www.datacamp.com/community/tutorials/python-excel-tutorial"
   ]
  },
  {
   "cell_type": "markdown",
   "metadata": {},
   "source": [
    "## 0. Motivación\n",
    "\n",
    "<img style=\"float: right; margin: 0px 0px 15px 15px;\" src=\"https://upload.wikimedia.org/wikipedia/commons/d/d7/Philippine-stock-market-board.jpg\" width=\"400px\" height=\"125px\" />\n",
    "\n",
    "Hace menos de una década, los instrumentos financieros estaban en la cúspide de la popularidad. Las instituciones financieras de todo el mundo estaban negociando miles de millones de dólares de estos instrumentos a diario, y los analistas cuantitativos estaban modelándolos utilizando el cálculo estocástico y el poderoso `C++`.\n",
    "\n",
    "Sin embargo, el avance en los últimos años ha sido impresionante y las cosas han cambiado. Por una parte, la [crisis financiera del 2008](https://es.wikipedia.org/wiki/Crisis_financiera_de_2008) fue producida por los instrumentos financieros llamados *derivados*. Por otra parte, los volúmenes transaccionales han bajado y la demanda de modelado con `C++` se ha marchitado con ellos. Además, un nuevo jugador entró en la competencia... `¡Python!`\n",
    "\n",
    "`Python` ha estado ganando muchos seguidores en la industria financiera en los últimos años y con razón. No en vano, junto a `R` son los lenguajes de programación más utilizados en cuanto a análisis financiero."
   ]
  },
  {
   "cell_type": "markdown",
   "metadata": {},
   "source": [
    "## 1. Descarga de datos de Yahoo! Finance\n",
    "Para esto utilizaremos el paquete *pandas_datareader*.\n",
    "\n",
    "**Nota**: Usualmente, las distribuciones de Python no cuentan, por defecto, con el paquete *pandas_datareader*. Por lo que será necesario instalarlo aparte:\n",
    "- buscar en inicio \"Anaconda prompt\" y ejecutarlo como administrador;\n",
    "- el siguiente comando instala el paquete en Anaconda: *conda install pandas-datareader*;\n",
    "- una vez finalice la instalación correr el comando: *conda list*, y buscar que sí se haya instalado pandas-datareader"
   ]
  },
  {
   "cell_type": "code",
   "execution_count": 2,
   "metadata": {},
   "outputs": [],
   "source": [
    "# Importar el modulo data del paquete pandas_datareader. La comunidad lo importa con el nombre de web\n",
    "\n",
    "import pandas as pd\n",
    "import pandas_datareader.data as web\n"
   ]
  },
  {
   "cell_type": "code",
   "execution_count": 3,
   "metadata": {},
   "outputs": [],
   "source": [
    "# Librerías estándar para arreglos y gráficos\n",
    "import numpy as np\n",
    "import matplotlib.pyplot as plt\n",
    "%matplotlib inline\n"
   ]
  },
  {
   "cell_type": "markdown",
   "metadata": {},
   "source": [
    "\n",
    "Primero importaremos datos desde un archivo con extensión `.csv`"
   ]
  },
  {
   "cell_type": "code",
   "execution_count": 7,
   "metadata": {},
   "outputs": [
    {
     "data": {
      "text/plain": [
       "Date         2015-08-25\n",
       "Open             614.91\n",
       "High             617.45\n",
       "Low              581.11\n",
       "Close            582.06\n",
       "Adj Close        582.06\n",
       "Volume          3538000\n",
       "Name: 89, dtype: object"
      ]
     },
     "execution_count": 7,
     "metadata": {},
     "output_type": "execute_result"
    }
   ],
   "source": [
    "#Importar datos de un archivo csv\n",
    "\n",
    "file_name = 'GOOG.csv'\n",
    "data = pd.read_csv(file_name)\n",
    "data.iloc[89,:]"
   ]
  },
  {
   "cell_type": "markdown",
   "metadata": {},
   "source": [
    "Ahora lo haremos desde Yahoo Finance"
   ]
  },
  {
   "cell_type": "code",
   "execution_count": 8,
   "metadata": {},
   "outputs": [
    {
     "name": "stdout",
     "output_type": "stream",
     "text": [
      "Help on function DataReader in module pandas_datareader.data:\n",
      "\n",
      "DataReader(name, data_source=None, start=None, end=None, retry_count=3, pause=0.1, session=None, api_key=None)\n",
      "    Imports data from a number of online sources.\n",
      "    \n",
      "    Currently supports Google Finance, St. Louis FED (FRED),\n",
      "    and Kenneth French's data library, among others.\n",
      "    \n",
      "    Parameters\n",
      "    ----------\n",
      "    name : str or list of strs\n",
      "        the name of the dataset. Some data sources (IEX, fred) will\n",
      "        accept a list of names.\n",
      "    data_source: {str, None}\n",
      "        the data source (\"iex\", \"fred\", \"ff\")\n",
      "    start : string, int, date, datetime, Timestamp\n",
      "        left boundary for range (defaults to 1/1/2010)\n",
      "    end : string, int, date, datetime, Timestamp\n",
      "        right boundary for range (defaults to today)\n",
      "    retry_count : {int, 3}\n",
      "        Number of times to retry query request.\n",
      "    pause : {numeric, 0.001}\n",
      "        Time, in seconds, to pause between consecutive queries of chunks. If\n",
      "        single value given for symbol, represents the pause between retries.\n",
      "    session : Session, default None\n",
      "        requests.sessions.Session instance to be used\n",
      "    api_key : (str, None)\n",
      "        Optional parameter to specify an API key for certain data sources.\n",
      "    \n",
      "    Examples\n",
      "    ----------\n",
      "    # Data from Google Finance\n",
      "    aapl = DataReader(\"AAPL\", \"iex\")\n",
      "    \n",
      "    # Price and volume data from IEX\n",
      "    tops = DataReader([\"GS\", \"AAPL\"], \"iex-tops\")\n",
      "    # Top of book executions from IEX\n",
      "    gs = DataReader(\"GS\", \"iex-last\")\n",
      "    # Real-time depth of book data from IEX\n",
      "    gs = DataReader(\"GS\", \"iex-book\")\n",
      "    \n",
      "    # Data from FRED\n",
      "    vix = DataReader(\"VIXCLS\", \"fred\")\n",
      "    \n",
      "    # Data from Fama/French\n",
      "    ff = DataReader(\"F-F_Research_Data_Factors\", \"famafrench\")\n",
      "    ff = DataReader(\"F-F_Research_Data_Factors_weekly\", \"famafrench\")\n",
      "    ff = DataReader(\"6_Portfolios_2x3\", \"famafrench\")\n",
      "    ff = DataReader(\"F-F_ST_Reversal_Factor\", \"famafrench\")\n",
      "\n"
     ]
    }
   ],
   "source": [
    "help(web.DataReader)"
   ]
  },
  {
   "cell_type": "code",
   "execution_count": 13,
   "metadata": {},
   "outputs": [
    {
     "data": {
      "text/html": [
       "<div>\n",
       "<style scoped>\n",
       "    .dataframe tbody tr th:only-of-type {\n",
       "        vertical-align: middle;\n",
       "    }\n",
       "\n",
       "    .dataframe tbody tr th {\n",
       "        vertical-align: top;\n",
       "    }\n",
       "\n",
       "    .dataframe thead th {\n",
       "        text-align: right;\n",
       "    }\n",
       "</style>\n",
       "<table border=\"1\" class=\"dataframe\">\n",
       "  <thead>\n",
       "    <tr style=\"text-align: right;\">\n",
       "      <th></th>\n",
       "      <th>High</th>\n",
       "      <th>Low</th>\n",
       "      <th>Open</th>\n",
       "      <th>Close</th>\n",
       "      <th>Volume</th>\n",
       "      <th>Adj Close</th>\n",
       "    </tr>\n",
       "    <tr>\n",
       "      <th>Date</th>\n",
       "      <th></th>\n",
       "      <th></th>\n",
       "      <th></th>\n",
       "      <th></th>\n",
       "      <th></th>\n",
       "      <th></th>\n",
       "    </tr>\n",
       "  </thead>\n",
       "  <tbody>\n",
       "    <tr>\n",
       "      <td>2015-04-20</td>\n",
       "      <td>89.110001</td>\n",
       "      <td>87.510002</td>\n",
       "      <td>89.110001</td>\n",
       "      <td>87.809998</td>\n",
       "      <td>8360102.0</td>\n",
       "      <td>74.981796</td>\n",
       "    </tr>\n",
       "    <tr>\n",
       "      <td>2015-04-21</td>\n",
       "      <td>89.089996</td>\n",
       "      <td>87.809998</td>\n",
       "      <td>87.879997</td>\n",
       "      <td>88.220001</td>\n",
       "      <td>4889502.0</td>\n",
       "      <td>75.331902</td>\n",
       "    </tr>\n",
       "    <tr>\n",
       "      <td>2015-04-22</td>\n",
       "      <td>88.849998</td>\n",
       "      <td>87.269997</td>\n",
       "      <td>88.849998</td>\n",
       "      <td>87.769997</td>\n",
       "      <td>6350768.0</td>\n",
       "      <td>74.947639</td>\n",
       "    </tr>\n",
       "    <tr>\n",
       "      <td>2015-04-23</td>\n",
       "      <td>87.949997</td>\n",
       "      <td>86.150002</td>\n",
       "      <td>87.510002</td>\n",
       "      <td>87.279999</td>\n",
       "      <td>4435224.0</td>\n",
       "      <td>74.529221</td>\n",
       "    </tr>\n",
       "    <tr>\n",
       "      <td>2015-04-24</td>\n",
       "      <td>87.949997</td>\n",
       "      <td>86.400002</td>\n",
       "      <td>87.690002</td>\n",
       "      <td>87.720001</td>\n",
       "      <td>4493704.0</td>\n",
       "      <td>74.904938</td>\n",
       "    </tr>\n",
       "    <tr>\n",
       "      <td>...</td>\n",
       "      <td>...</td>\n",
       "      <td>...</td>\n",
       "      <td>...</td>\n",
       "      <td>...</td>\n",
       "      <td>...</td>\n",
       "      <td>...</td>\n",
       "    </tr>\n",
       "    <tr>\n",
       "      <td>2020-04-14</td>\n",
       "      <td>67.489998</td>\n",
       "      <td>63.209999</td>\n",
       "      <td>67.000000</td>\n",
       "      <td>64.449997</td>\n",
       "      <td>8965119.0</td>\n",
       "      <td>64.449997</td>\n",
       "    </tr>\n",
       "    <tr>\n",
       "      <td>2020-04-15</td>\n",
       "      <td>64.000000</td>\n",
       "      <td>59.410000</td>\n",
       "      <td>63.810001</td>\n",
       "      <td>59.610001</td>\n",
       "      <td>16067198.0</td>\n",
       "      <td>59.610001</td>\n",
       "    </tr>\n",
       "    <tr>\n",
       "      <td>2020-04-16</td>\n",
       "      <td>61.970001</td>\n",
       "      <td>58.009998</td>\n",
       "      <td>59.000000</td>\n",
       "      <td>59.919998</td>\n",
       "      <td>15607618.0</td>\n",
       "      <td>59.919998</td>\n",
       "    </tr>\n",
       "    <tr>\n",
       "      <td>2020-04-17</td>\n",
       "      <td>64.500000</td>\n",
       "      <td>60.689999</td>\n",
       "      <td>60.689999</td>\n",
       "      <td>63.470001</td>\n",
       "      <td>10770160.0</td>\n",
       "      <td>63.470001</td>\n",
       "    </tr>\n",
       "    <tr>\n",
       "      <td>2020-04-20</td>\n",
       "      <td>64.489998</td>\n",
       "      <td>61.160000</td>\n",
       "      <td>62.700001</td>\n",
       "      <td>63.779999</td>\n",
       "      <td>1477789.0</td>\n",
       "      <td>63.779999</td>\n",
       "    </tr>\n",
       "  </tbody>\n",
       "</table>\n",
       "<p>1258 rows × 6 columns</p>\n",
       "</div>"
      ],
      "text/plain": [
       "                 High        Low       Open      Close      Volume  Adj Close\n",
       "Date                                                                         \n",
       "2015-04-20  89.110001  87.510002  89.110001  87.809998   8360102.0  74.981796\n",
       "2015-04-21  89.089996  87.809998  87.879997  88.220001   4889502.0  75.331902\n",
       "2015-04-22  88.849998  87.269997  88.849998  87.769997   6350768.0  74.947639\n",
       "2015-04-23  87.949997  86.150002  87.510002  87.279999   4435224.0  74.529221\n",
       "2015-04-24  87.949997  86.400002  87.690002  87.720001   4493704.0  74.904938\n",
       "...               ...        ...        ...        ...         ...        ...\n",
       "2020-04-14  67.489998  63.209999  67.000000  64.449997   8965119.0  64.449997\n",
       "2020-04-15  64.000000  59.410000  63.810001  59.610001  16067198.0  59.610001\n",
       "2020-04-16  61.970001  58.009998  59.000000  59.919998  15607618.0  59.919998\n",
       "2020-04-17  64.500000  60.689999  60.689999  63.470001  10770160.0  63.470001\n",
       "2020-04-20  64.489998  61.160000  62.700001  63.779999   1477789.0  63.779999\n",
       "\n",
       "[1258 rows x 6 columns]"
      ]
     },
     "execution_count": 13,
     "metadata": {},
     "output_type": "execute_result"
    }
   ],
   "source": [
    "data2 = web.DataReader( name = 'GFNORTEO.MX', data_source = 'yahoo', start = '2015-04-20', end = '2020-04-20' )\n",
    "data2"
   ]
  },
  {
   "cell_type": "code",
   "execution_count": 18,
   "metadata": {},
   "outputs": [
    {
     "data": {
      "text/plain": [
       "Date\n",
       "2015-04-20    74.981796\n",
       "2015-04-21    75.331902\n",
       "2015-04-22    74.947639\n",
       "2015-04-23    74.529221\n",
       "2015-04-24    74.904938\n",
       "                ...    \n",
       "2020-04-14    64.449997\n",
       "2020-04-15    59.610001\n",
       "2020-04-16    59.919998\n",
       "2020-04-17    63.470001\n",
       "2020-04-20    63.779999\n",
       "Name: Adj Close, Length: 1258, dtype: float64"
      ]
     },
     "execution_count": 18,
     "metadata": {},
     "output_type": "execute_result"
    }
   ],
   "source": [
    "data2['Adj Close']"
   ]
  },
  {
   "cell_type": "code",
   "execution_count": 22,
   "metadata": {},
   "outputs": [
    {
     "data": {
      "text/plain": [
       "<function __main__.get_closes(names, start, end)>"
      ]
     },
     "execution_count": 22,
     "metadata": {},
     "output_type": "execute_result"
    }
   ],
   "source": [
    "# Escribir una función para generalizar la exportación desde Yahoo\n",
    "\n",
    "def get_closes(names,start,end):\n",
    "    close = web.DataReader(names,'yahoo', start, end)\n",
    "    return close['Adj Close']\n",
    "\n"
   ]
  },
  {
   "cell_type": "code",
   "execution_count": 33,
   "metadata": {},
   "outputs": [],
   "source": [
    "# Instrumentos a descargar \n",
    "\n",
    "names = ['WMT.MX','BIMBOA.MX','BSMXB.MX']\n",
    "# Fechas: inicios 2013 a finales de 2018\n",
    "\n",
    "\n",
    "start = '2015-01-01'\n",
    "end = '2019-12-31'"
   ]
  },
  {
   "cell_type": "code",
   "execution_count": 34,
   "metadata": {
    "scrolled": true
   },
   "outputs": [
    {
     "data": {
      "text/html": [
       "<div>\n",
       "<style scoped>\n",
       "    .dataframe tbody tr th:only-of-type {\n",
       "        vertical-align: middle;\n",
       "    }\n",
       "\n",
       "    .dataframe tbody tr th {\n",
       "        vertical-align: top;\n",
       "    }\n",
       "\n",
       "    .dataframe thead th {\n",
       "        text-align: right;\n",
       "    }\n",
       "</style>\n",
       "<table border=\"1\" class=\"dataframe\">\n",
       "  <thead>\n",
       "    <tr style=\"text-align: right;\">\n",
       "      <th>Symbols</th>\n",
       "      <th>WMT.MX</th>\n",
       "      <th>BIMBOA.MX</th>\n",
       "      <th>BSMXB.MX</th>\n",
       "    </tr>\n",
       "    <tr>\n",
       "      <th>Date</th>\n",
       "      <th></th>\n",
       "      <th></th>\n",
       "      <th></th>\n",
       "    </tr>\n",
       "  </thead>\n",
       "  <tbody>\n",
       "    <tr>\n",
       "      <td>2015-01-02</td>\n",
       "      <td>1271.624512</td>\n",
       "      <td>38.604809</td>\n",
       "      <td>NaN</td>\n",
       "    </tr>\n",
       "    <tr>\n",
       "      <td>2015-01-05</td>\n",
       "      <td>1271.624512</td>\n",
       "      <td>38.546562</td>\n",
       "      <td>NaN</td>\n",
       "    </tr>\n",
       "    <tr>\n",
       "      <td>2015-01-06</td>\n",
       "      <td>1279.031982</td>\n",
       "      <td>38.265064</td>\n",
       "      <td>NaN</td>\n",
       "    </tr>\n",
       "    <tr>\n",
       "      <td>2015-01-07</td>\n",
       "      <td>1294.641602</td>\n",
       "      <td>39.206646</td>\n",
       "      <td>NaN</td>\n",
       "    </tr>\n",
       "    <tr>\n",
       "      <td>2015-01-08</td>\n",
       "      <td>1311.720947</td>\n",
       "      <td>39.818188</td>\n",
       "      <td>NaN</td>\n",
       "    </tr>\n",
       "    <tr>\n",
       "      <td>...</td>\n",
       "      <td>...</td>\n",
       "      <td>...</td>\n",
       "      <td>...</td>\n",
       "    </tr>\n",
       "    <tr>\n",
       "      <td>2019-12-24</td>\n",
       "      <td>2289.958008</td>\n",
       "      <td>33.810001</td>\n",
       "      <td>26.010000</td>\n",
       "    </tr>\n",
       "    <tr>\n",
       "      <td>2019-12-26</td>\n",
       "      <td>2289.958008</td>\n",
       "      <td>33.740002</td>\n",
       "      <td>26.040001</td>\n",
       "    </tr>\n",
       "    <tr>\n",
       "      <td>2019-12-27</td>\n",
       "      <td>2254.074707</td>\n",
       "      <td>34.880001</td>\n",
       "      <td>25.850000</td>\n",
       "    </tr>\n",
       "    <tr>\n",
       "      <td>2019-12-30</td>\n",
       "      <td>2259.573730</td>\n",
       "      <td>34.880001</td>\n",
       "      <td>25.719999</td>\n",
       "    </tr>\n",
       "    <tr>\n",
       "      <td>2019-12-31</td>\n",
       "      <td>2259.573730</td>\n",
       "      <td>34.880001</td>\n",
       "      <td>25.719999</td>\n",
       "    </tr>\n",
       "  </tbody>\n",
       "</table>\n",
       "<p>1256 rows × 3 columns</p>\n",
       "</div>"
      ],
      "text/plain": [
       "Symbols          WMT.MX  BIMBOA.MX   BSMXB.MX\n",
       "Date                                         \n",
       "2015-01-02  1271.624512  38.604809        NaN\n",
       "2015-01-05  1271.624512  38.546562        NaN\n",
       "2015-01-06  1279.031982  38.265064        NaN\n",
       "2015-01-07  1294.641602  39.206646        NaN\n",
       "2015-01-08  1311.720947  39.818188        NaN\n",
       "...                 ...        ...        ...\n",
       "2019-12-24  2289.958008  33.810001  26.010000\n",
       "2019-12-26  2289.958008  33.740002  26.040001\n",
       "2019-12-27  2254.074707  34.880001  25.850000\n",
       "2019-12-30  2259.573730  34.880001  25.719999\n",
       "2019-12-31  2259.573730  34.880001  25.719999\n",
       "\n",
       "[1256 rows x 3 columns]"
      ]
     },
     "execution_count": 34,
     "metadata": {},
     "output_type": "execute_result"
    }
   ],
   "source": [
    "# Obtenemos los precios ajustados en el cierre\n",
    "\n",
    "closes = get_closes(names,start,end)\n",
    "closes\n"
   ]
  },
  {
   "cell_type": "markdown",
   "metadata": {},
   "source": [
    "¿Cómo lucen estos datos?"
   ]
  },
  {
   "cell_type": "code",
   "execution_count": 35,
   "metadata": {},
   "outputs": [
    {
     "data": {
      "text/plain": [
       "<matplotlib.axes._subplots.AxesSubplot at 0x1a7ceb2b308>"
      ]
     },
     "execution_count": 35,
     "metadata": {},
     "output_type": "execute_result"
    },
    {
     "data": {
      "image/png": "[encoded data removed]",
      "text/plain": [
       "<Figure size 432x288 with 1 Axes>"
      ]
     },
     "metadata": {
      "needs_background": "light"
     },
     "output_type": "display_data"
    }
   ],
   "source": [
    "# Graficar\n",
    "closes.plot()"
   ]
  },
  {
   "cell_type": "markdown",
   "metadata": {},
   "source": [
    "Una vez tenemos los datos, podemos operar con ellos. Por ejemplo un resumen de datos estadísticos se podría obtener con"
   ]
  },
  {
   "cell_type": "code",
   "execution_count": 37,
   "metadata": {},
   "outputs": [
    {
     "data": {
      "text/html": [
       "<div>\n",
       "<style scoped>\n",
       "    .dataframe tbody tr th:only-of-type {\n",
       "        vertical-align: middle;\n",
       "    }\n",
       "\n",
       "    .dataframe tbody tr th {\n",
       "        vertical-align: top;\n",
       "    }\n",
       "\n",
       "    .dataframe thead th {\n",
       "        text-align: right;\n",
       "    }\n",
       "</style>\n",
       "<table border=\"1\" class=\"dataframe\">\n",
       "  <thead>\n",
       "    <tr style=\"text-align: right;\">\n",
       "      <th>Symbols</th>\n",
       "      <th>WMT.MX</th>\n",
       "      <th>BIMBOA.MX</th>\n",
       "      <th>BSMXB.MX</th>\n",
       "    </tr>\n",
       "  </thead>\n",
       "  <tbody>\n",
       "    <tr>\n",
       "      <td>count</td>\n",
       "      <td>1256.000000</td>\n",
       "      <td>1256.000000</td>\n",
       "      <td>566.000000</td>\n",
       "    </tr>\n",
       "    <tr>\n",
       "      <td>mean</td>\n",
       "      <td>1556.188869</td>\n",
       "      <td>42.768688</td>\n",
       "      <td>26.886640</td>\n",
       "    </tr>\n",
       "    <tr>\n",
       "      <td>std</td>\n",
       "      <td>367.854631</td>\n",
       "      <td>5.213731</td>\n",
       "      <td>2.078734</td>\n",
       "    </tr>\n",
       "    <tr>\n",
       "      <td>min</td>\n",
       "      <td>942.479980</td>\n",
       "      <td>32.830002</td>\n",
       "      <td>22.737309</td>\n",
       "    </tr>\n",
       "    <tr>\n",
       "      <td>25%</td>\n",
       "      <td>1268.799316</td>\n",
       "      <td>39.095111</td>\n",
       "      <td>25.368007</td>\n",
       "    </tr>\n",
       "    <tr>\n",
       "      <td>50%</td>\n",
       "      <td>1434.845459</td>\n",
       "      <td>41.997976</td>\n",
       "      <td>26.451841</td>\n",
       "    </tr>\n",
       "    <tr>\n",
       "      <td>75%</td>\n",
       "      <td>1855.103973</td>\n",
       "      <td>45.526080</td>\n",
       "      <td>28.310457</td>\n",
       "    </tr>\n",
       "    <tr>\n",
       "      <td>max</td>\n",
       "      <td>2347.020508</td>\n",
       "      <td>58.383011</td>\n",
       "      <td>33.815308</td>\n",
       "    </tr>\n",
       "  </tbody>\n",
       "</table>\n",
       "</div>"
      ],
      "text/plain": [
       "Symbols       WMT.MX    BIMBOA.MX    BSMXB.MX\n",
       "count    1256.000000  1256.000000  566.000000\n",
       "mean     1556.188869    42.768688   26.886640\n",
       "std       367.854631     5.213731    2.078734\n",
       "min       942.479980    32.830002   22.737309\n",
       "25%      1268.799316    39.095111   25.368007\n",
       "50%      1434.845459    41.997976   26.451841\n",
       "75%      1855.103973    45.526080   28.310457\n",
       "max      2347.020508    58.383011   33.815308"
      ]
     },
     "execution_count": 37,
     "metadata": {},
     "output_type": "execute_result"
    }
   ],
   "source": [
    "# Método describe\n",
    "closes.describe()\n"
   ]
  },
  {
   "cell_type": "markdown",
   "metadata": {},
   "source": [
    "## 2. Rendimientos diarios\n",
    "\n",
    "Para una sucesión de precios $\\{S_t\\}_{t=0}^{n}$, el rendimiento simple $R_t$ se define como el el cambio porcentual\n",
    "$$\n",
    "R_t=\\frac{S_t-S_{t-1}}{S_{t-1}}\n",
    "$$\n",
    "para $t=1,\\ldots,n$.\n",
    "\n",
    "Para el ejemplo en curso, ¿cómo calcular esto?"
   ]
  },
  {
   "cell_type": "code",
   "execution_count": 39,
   "metadata": {
    "scrolled": true
   },
   "outputs": [
    {
     "data": {
      "text/html": [
       "<div>\n",
       "<style scoped>\n",
       "    .dataframe tbody tr th:only-of-type {\n",
       "        vertical-align: middle;\n",
       "    }\n",
       "\n",
       "    .dataframe tbody tr th {\n",
       "        vertical-align: top;\n",
       "    }\n",
       "\n",
       "    .dataframe thead th {\n",
       "        text-align: right;\n",
       "    }\n",
       "</style>\n",
       "<table border=\"1\" class=\"dataframe\">\n",
       "  <thead>\n",
       "    <tr style=\"text-align: right;\">\n",
       "      <th>Symbols</th>\n",
       "      <th>WMT.MX</th>\n",
       "      <th>BIMBOA.MX</th>\n",
       "      <th>BSMXB.MX</th>\n",
       "    </tr>\n",
       "    <tr>\n",
       "      <th>Date</th>\n",
       "      <th></th>\n",
       "      <th></th>\n",
       "      <th></th>\n",
       "    </tr>\n",
       "  </thead>\n",
       "  <tbody>\n",
       "    <tr>\n",
       "      <td>2015-01-02</td>\n",
       "      <td>NaN</td>\n",
       "      <td>NaN</td>\n",
       "      <td>NaN</td>\n",
       "    </tr>\n",
       "    <tr>\n",
       "      <td>2015-01-05</td>\n",
       "      <td>1271.624512</td>\n",
       "      <td>38.604809</td>\n",
       "      <td>NaN</td>\n",
       "    </tr>\n",
       "    <tr>\n",
       "      <td>2015-01-06</td>\n",
       "      <td>1271.624512</td>\n",
       "      <td>38.546562</td>\n",
       "      <td>NaN</td>\n",
       "    </tr>\n",
       "    <tr>\n",
       "      <td>2015-01-07</td>\n",
       "      <td>1279.031982</td>\n",
       "      <td>38.265064</td>\n",
       "      <td>NaN</td>\n",
       "    </tr>\n",
       "    <tr>\n",
       "      <td>2015-01-08</td>\n",
       "      <td>1294.641602</td>\n",
       "      <td>39.206646</td>\n",
       "      <td>NaN</td>\n",
       "    </tr>\n",
       "    <tr>\n",
       "      <td>...</td>\n",
       "      <td>...</td>\n",
       "      <td>...</td>\n",
       "      <td>...</td>\n",
       "    </tr>\n",
       "    <tr>\n",
       "      <td>2019-12-24</td>\n",
       "      <td>2289.958008</td>\n",
       "      <td>34.130001</td>\n",
       "      <td>26.760000</td>\n",
       "    </tr>\n",
       "    <tr>\n",
       "      <td>2019-12-26</td>\n",
       "      <td>2289.958008</td>\n",
       "      <td>33.810001</td>\n",
       "      <td>26.010000</td>\n",
       "    </tr>\n",
       "    <tr>\n",
       "      <td>2019-12-27</td>\n",
       "      <td>2289.958008</td>\n",
       "      <td>33.740002</td>\n",
       "      <td>26.040001</td>\n",
       "    </tr>\n",
       "    <tr>\n",
       "      <td>2019-12-30</td>\n",
       "      <td>2254.074707</td>\n",
       "      <td>34.880001</td>\n",
       "      <td>25.850000</td>\n",
       "    </tr>\n",
       "    <tr>\n",
       "      <td>2019-12-31</td>\n",
       "      <td>2259.573730</td>\n",
       "      <td>34.880001</td>\n",
       "      <td>25.719999</td>\n",
       "    </tr>\n",
       "  </tbody>\n",
       "</table>\n",
       "<p>1256 rows × 3 columns</p>\n",
       "</div>"
      ],
      "text/plain": [
       "Symbols          WMT.MX  BIMBOA.MX   BSMXB.MX\n",
       "Date                                         \n",
       "2015-01-02          NaN        NaN        NaN\n",
       "2015-01-05  1271.624512  38.604809        NaN\n",
       "2015-01-06  1271.624512  38.546562        NaN\n",
       "2015-01-07  1279.031982  38.265064        NaN\n",
       "2015-01-08  1294.641602  39.206646        NaN\n",
       "...                 ...        ...        ...\n",
       "2019-12-24  2289.958008  34.130001  26.760000\n",
       "2019-12-26  2289.958008  33.810001  26.010000\n",
       "2019-12-27  2289.958008  33.740002  26.040001\n",
       "2019-12-30  2254.074707  34.880001  25.850000\n",
       "2019-12-31  2259.573730  34.880001  25.719999\n",
       "\n",
       "[1256 rows x 3 columns]"
      ]
     },
     "execution_count": 39,
     "metadata": {},
     "output_type": "execute_result"
    }
   ],
   "source": [
    "# Método shift\n",
    "\n",
    "closes.shift()"
   ]
  },
  {
   "cell_type": "code",
   "execution_count": 43,
   "metadata": {
    "scrolled": true
   },
   "outputs": [
    {
     "data": {
      "text/html": [
       "<div>\n",
       "<style scoped>\n",
       "    .dataframe tbody tr th:only-of-type {\n",
       "        vertical-align: middle;\n",
       "    }\n",
       "\n",
       "    .dataframe tbody tr th {\n",
       "        vertical-align: top;\n",
       "    }\n",
       "\n",
       "    .dataframe thead th {\n",
       "        text-align: right;\n",
       "    }\n",
       "</style>\n",
       "<table border=\"1\" class=\"dataframe\">\n",
       "  <thead>\n",
       "    <tr style=\"text-align: right;\">\n",
       "      <th>Symbols</th>\n",
       "      <th>WMT.MX</th>\n",
       "      <th>BIMBOA.MX</th>\n",
       "      <th>BSMXB.MX</th>\n",
       "    </tr>\n",
       "    <tr>\n",
       "      <th>Date</th>\n",
       "      <th></th>\n",
       "      <th></th>\n",
       "      <th></th>\n",
       "    </tr>\n",
       "  </thead>\n",
       "  <tbody>\n",
       "    <tr>\n",
       "      <td>2017-09-28</td>\n",
       "      <td>0.000000</td>\n",
       "      <td>0.018523</td>\n",
       "      <td>0.007455</td>\n",
       "    </tr>\n",
       "    <tr>\n",
       "      <td>2017-09-29</td>\n",
       "      <td>0.000000</td>\n",
       "      <td>-0.000455</td>\n",
       "      <td>0.013154</td>\n",
       "    </tr>\n",
       "    <tr>\n",
       "      <td>2017-10-02</td>\n",
       "      <td>0.000000</td>\n",
       "      <td>0.012281</td>\n",
       "      <td>-0.004598</td>\n",
       "    </tr>\n",
       "    <tr>\n",
       "      <td>2017-10-03</td>\n",
       "      <td>0.011988</td>\n",
       "      <td>0.008537</td>\n",
       "      <td>0.001630</td>\n",
       "    </tr>\n",
       "    <tr>\n",
       "      <td>2017-10-04</td>\n",
       "      <td>0.000908</td>\n",
       "      <td>0.022054</td>\n",
       "      <td>-0.001628</td>\n",
       "    </tr>\n",
       "    <tr>\n",
       "      <td>...</td>\n",
       "      <td>...</td>\n",
       "      <td>...</td>\n",
       "      <td>...</td>\n",
       "    </tr>\n",
       "    <tr>\n",
       "      <td>2019-12-24</td>\n",
       "      <td>0.000000</td>\n",
       "      <td>-0.009376</td>\n",
       "      <td>-0.028027</td>\n",
       "    </tr>\n",
       "    <tr>\n",
       "      <td>2019-12-26</td>\n",
       "      <td>0.000000</td>\n",
       "      <td>-0.002070</td>\n",
       "      <td>0.001153</td>\n",
       "    </tr>\n",
       "    <tr>\n",
       "      <td>2019-12-27</td>\n",
       "      <td>-0.015670</td>\n",
       "      <td>0.033788</td>\n",
       "      <td>-0.007296</td>\n",
       "    </tr>\n",
       "    <tr>\n",
       "      <td>2019-12-30</td>\n",
       "      <td>0.002440</td>\n",
       "      <td>0.000000</td>\n",
       "      <td>-0.005029</td>\n",
       "    </tr>\n",
       "    <tr>\n",
       "      <td>2019-12-31</td>\n",
       "      <td>0.000000</td>\n",
       "      <td>0.000000</td>\n",
       "      <td>0.000000</td>\n",
       "    </tr>\n",
       "  </tbody>\n",
       "</table>\n",
       "<p>565 rows × 3 columns</p>\n",
       "</div>"
      ],
      "text/plain": [
       "Symbols       WMT.MX  BIMBOA.MX  BSMXB.MX\n",
       "Date                                     \n",
       "2017-09-28  0.000000   0.018523  0.007455\n",
       "2017-09-29  0.000000  -0.000455  0.013154\n",
       "2017-10-02  0.000000   0.012281 -0.004598\n",
       "2017-10-03  0.011988   0.008537  0.001630\n",
       "2017-10-04  0.000908   0.022054 -0.001628\n",
       "...              ...        ...       ...\n",
       "2019-12-24  0.000000  -0.009376 -0.028027\n",
       "2019-12-26  0.000000  -0.002070  0.001153\n",
       "2019-12-27 -0.015670   0.033788 -0.007296\n",
       "2019-12-30  0.002440   0.000000 -0.005029\n",
       "2019-12-31  0.000000   0.000000  0.000000\n",
       "\n",
       "[565 rows x 3 columns]"
      ]
     },
     "execution_count": 43,
     "metadata": {},
     "output_type": "execute_result"
    }
   ],
   "source": [
    "# Entonces los rendimientos se calculan como\n",
    "\n",
    "Ret = (closes - closes.shift())/closes.shift() \n",
    "\n",
    "\n",
    "Ret = Ret.dropna()\n",
    "Ret"
   ]
  },
  {
   "cell_type": "code",
   "execution_count": 9,
   "metadata": {
    "scrolled": true
   },
   "outputs": [],
   "source": [
    "# Método pct_change\n"
   ]
  },
  {
   "cell_type": "markdown",
   "metadata": {},
   "source": [
    "y la gráfica de los rendimientos se puede obtener como..."
   ]
  },
  {
   "cell_type": "code",
   "execution_count": 44,
   "metadata": {},
   "outputs": [
    {
     "data": {
      "text/plain": [
       "<matplotlib.axes._subplots.AxesSubplot at 0x1a7ced14508>"
      ]
     },
     "execution_count": 44,
     "metadata": {},
     "output_type": "execute_result"
    },
    {
     "data": {
      "image/png": "[encoded data removed]",
      "text/plain": [
       "<Figure size 1080x720 with 1 Axes>"
      ]
     },
     "metadata": {
      "needs_background": "light"
     },
     "output_type": "display_data"
    }
   ],
   "source": [
    "# Gráfica\n",
    "Ret.plot(figsize = (15,10))"
   ]
  },
  {
   "cell_type": "markdown",
   "metadata": {},
   "source": [
    "Donde se observa que el rendimiento tiene una tendencia constante y, por tanto, se puede plantear la hipótesis de que se puede modelar usando un proceso estocástico estacionario en media."
   ]
  },
  {
   "cell_type": "markdown",
   "metadata": {},
   "source": [
    "Otro rendimiento usado con frecuencia es el rendimiento continuamente compuesto o rendimiento logaritmico. Éste, está definido como\n",
    "\n",
    "$$\n",
    "r_t=\\ln\\left(\\frac{S_t}{S_{t-1}}\\right).\n",
    "$$\n",
    "\n",
    "**Esta ecuación sólo es válida cuando se tienen periodos cortos de tiempo**\n",
    "Es fácil darse cuenta que $r_t=\\ln(1+R_t)$.\n",
    "\n",
    "**Nota:** ver gráficamente que si $0\\leq|x|\\ll 1$, entonces $\\ln(1+x)\\approx x$.\n",
    "\n",
    "Para este caso, la fórmula del rendimiento continuamente compuesto se translada facilmente a código Python (obtener, graficar y comparar)."
   ]
  },
  {
   "cell_type": "code",
   "execution_count": 46,
   "metadata": {
    "scrolled": true
   },
   "outputs": [
    {
     "data": {
      "text/html": [
       "<div>\n",
       "<style scoped>\n",
       "    .dataframe tbody tr th:only-of-type {\n",
       "        vertical-align: middle;\n",
       "    }\n",
       "\n",
       "    .dataframe tbody tr th {\n",
       "        vertical-align: top;\n",
       "    }\n",
       "\n",
       "    .dataframe thead th {\n",
       "        text-align: right;\n",
       "    }\n",
       "</style>\n",
       "<table border=\"1\" class=\"dataframe\">\n",
       "  <thead>\n",
       "    <tr style=\"text-align: right;\">\n",
       "      <th>Symbols</th>\n",
       "      <th>WMT.MX</th>\n",
       "      <th>BIMBOA.MX</th>\n",
       "      <th>BSMXB.MX</th>\n",
       "    </tr>\n",
       "    <tr>\n",
       "      <th>Date</th>\n",
       "      <th></th>\n",
       "      <th></th>\n",
       "      <th></th>\n",
       "    </tr>\n",
       "  </thead>\n",
       "  <tbody>\n",
       "    <tr>\n",
       "      <td>2017-09-28</td>\n",
       "      <td>0.000000</td>\n",
       "      <td>0.018354</td>\n",
       "      <td>0.007427</td>\n",
       "    </tr>\n",
       "    <tr>\n",
       "      <td>2017-09-29</td>\n",
       "      <td>0.000000</td>\n",
       "      <td>-0.000455</td>\n",
       "      <td>0.013068</td>\n",
       "    </tr>\n",
       "    <tr>\n",
       "      <td>2017-10-02</td>\n",
       "      <td>0.000000</td>\n",
       "      <td>0.012206</td>\n",
       "      <td>-0.004609</td>\n",
       "    </tr>\n",
       "    <tr>\n",
       "      <td>2017-10-03</td>\n",
       "      <td>0.011917</td>\n",
       "      <td>0.008501</td>\n",
       "      <td>0.001629</td>\n",
       "    </tr>\n",
       "    <tr>\n",
       "      <td>2017-10-04</td>\n",
       "      <td>0.000907</td>\n",
       "      <td>0.021814</td>\n",
       "      <td>-0.001629</td>\n",
       "    </tr>\n",
       "    <tr>\n",
       "      <td>...</td>\n",
       "      <td>...</td>\n",
       "      <td>...</td>\n",
       "      <td>...</td>\n",
       "    </tr>\n",
       "    <tr>\n",
       "      <td>2019-12-24</td>\n",
       "      <td>0.000000</td>\n",
       "      <td>-0.009420</td>\n",
       "      <td>-0.028427</td>\n",
       "    </tr>\n",
       "    <tr>\n",
       "      <td>2019-12-26</td>\n",
       "      <td>0.000000</td>\n",
       "      <td>-0.002073</td>\n",
       "      <td>0.001153</td>\n",
       "    </tr>\n",
       "    <tr>\n",
       "      <td>2019-12-27</td>\n",
       "      <td>-0.015794</td>\n",
       "      <td>0.033230</td>\n",
       "      <td>-0.007323</td>\n",
       "    </tr>\n",
       "    <tr>\n",
       "      <td>2019-12-30</td>\n",
       "      <td>0.002437</td>\n",
       "      <td>0.000000</td>\n",
       "      <td>-0.005042</td>\n",
       "    </tr>\n",
       "    <tr>\n",
       "      <td>2019-12-31</td>\n",
       "      <td>0.000000</td>\n",
       "      <td>0.000000</td>\n",
       "      <td>0.000000</td>\n",
       "    </tr>\n",
       "  </tbody>\n",
       "</table>\n",
       "<p>565 rows × 3 columns</p>\n",
       "</div>"
      ],
      "text/plain": [
       "Symbols       WMT.MX  BIMBOA.MX  BSMXB.MX\n",
       "Date                                     \n",
       "2017-09-28  0.000000   0.018354  0.007427\n",
       "2017-09-29  0.000000  -0.000455  0.013068\n",
       "2017-10-02  0.000000   0.012206 -0.004609\n",
       "2017-10-03  0.011917   0.008501  0.001629\n",
       "2017-10-04  0.000907   0.021814 -0.001629\n",
       "...              ...        ...       ...\n",
       "2019-12-24  0.000000  -0.009420 -0.028427\n",
       "2019-12-26  0.000000  -0.002073  0.001153\n",
       "2019-12-27 -0.015794   0.033230 -0.007323\n",
       "2019-12-30  0.002437   0.000000 -0.005042\n",
       "2019-12-31  0.000000   0.000000  0.000000\n",
       "\n",
       "[565 rows x 3 columns]"
      ]
     },
     "execution_count": 46,
     "metadata": {},
     "output_type": "execute_result"
    }
   ],
   "source": [
    "# Rendimiento logarítmico\n",
    "Ret_log = np.log(closes/closes.shift()).dropna()\n",
    "Ret_log"
   ]
  },
  {
   "cell_type": "code",
   "execution_count": 48,
   "metadata": {},
   "outputs": [
    {
     "ename": "NameError",
     "evalue": "name 'subplot' is not defined",
     "output_type": "error",
     "traceback": [
      "\u001b[1;31m---------------------------------------------------------------------------\u001b[0m",
      "\u001b[1;31mNameError\u001b[0m                                 Traceback (most recent call last)",
      "\u001b[1;32m<ipython-input-48-c4a2e6b99d44>\u001b[0m in \u001b[0;36m<module>\u001b[1;34m\u001b[0m\n\u001b[0;32m      1\u001b[0m \u001b[1;31m# Gráfica\u001b[0m\u001b[1;33m\u001b[0m\u001b[1;33m\u001b[0m\u001b[1;33m\u001b[0m\u001b[0m\n\u001b[1;32m----> 2\u001b[1;33m \u001b[0msubplot\u001b[0m\u001b[1;33m\u001b[0m\u001b[1;33m\u001b[0m\u001b[0m\n\u001b[0m\u001b[0;32m      3\u001b[0m \u001b[0mRet_log\u001b[0m\u001b[1;33m.\u001b[0m\u001b[0mplot\u001b[0m\u001b[1;33m(\u001b[0m\u001b[0mfigsize\u001b[0m \u001b[1;33m=\u001b[0m \u001b[1;33m(\u001b[0m\u001b[1;36m15\u001b[0m\u001b[1;33m,\u001b[0m\u001b[1;36m10\u001b[0m\u001b[1;33m)\u001b[0m\u001b[1;33m)\u001b[0m\u001b[1;33m\u001b[0m\u001b[1;33m\u001b[0m\u001b[0m\n",
      "\u001b[1;31mNameError\u001b[0m: name 'subplot' is not defined"
     ]
    }
   ],
   "source": [
    "# Gráfica\n",
    "subplot\n",
    "Ret_log.plot(figsize = (15,10))\n"
   ]
  },
  {
   "cell_type": "code",
   "execution_count": 49,
   "metadata": {},
   "outputs": [
    {
     "data": {
      "text/html": [
       "<div>\n",
       "<style scoped>\n",
       "    .dataframe tbody tr th:only-of-type {\n",
       "        vertical-align: middle;\n",
       "    }\n",
       "\n",
       "    .dataframe tbody tr th {\n",
       "        vertical-align: top;\n",
       "    }\n",
       "\n",
       "    .dataframe thead th {\n",
       "        text-align: right;\n",
       "    }\n",
       "</style>\n",
       "<table border=\"1\" class=\"dataframe\">\n",
       "  <thead>\n",
       "    <tr style=\"text-align: right;\">\n",
       "      <th>Symbols</th>\n",
       "      <th>WMT.MX</th>\n",
       "      <th>BIMBOA.MX</th>\n",
       "      <th>BSMXB.MX</th>\n",
       "    </tr>\n",
       "    <tr>\n",
       "      <th>Date</th>\n",
       "      <th></th>\n",
       "      <th></th>\n",
       "      <th></th>\n",
       "    </tr>\n",
       "  </thead>\n",
       "  <tbody>\n",
       "    <tr>\n",
       "      <td>2017-09-28</td>\n",
       "      <td>0.000000e+00</td>\n",
       "      <td>1.694612e-04</td>\n",
       "      <td>2.764771e-05</td>\n",
       "    </tr>\n",
       "    <tr>\n",
       "      <td>2017-09-29</td>\n",
       "      <td>0.000000e+00</td>\n",
       "      <td>1.034525e-07</td>\n",
       "      <td>8.576488e-05</td>\n",
       "    </tr>\n",
       "    <tr>\n",
       "      <td>2017-10-02</td>\n",
       "      <td>0.000000e+00</td>\n",
       "      <td>7.480086e-05</td>\n",
       "      <td>1.060442e-05</td>\n",
       "    </tr>\n",
       "    <tr>\n",
       "      <td>2017-10-03</td>\n",
       "      <td>7.129165e-05</td>\n",
       "      <td>3.623781e-05</td>\n",
       "      <td>1.327808e-06</td>\n",
       "    </tr>\n",
       "    <tr>\n",
       "      <td>2017-10-04</td>\n",
       "      <td>4.115851e-07</td>\n",
       "      <td>2.396715e-04</td>\n",
       "      <td>1.326367e-06</td>\n",
       "    </tr>\n",
       "    <tr>\n",
       "      <td>...</td>\n",
       "      <td>...</td>\n",
       "      <td>...</td>\n",
       "      <td>...</td>\n",
       "    </tr>\n",
       "    <tr>\n",
       "      <td>2019-12-24</td>\n",
       "      <td>0.000000e+00</td>\n",
       "      <td>4.423049e-05</td>\n",
       "      <td>4.002500e-04</td>\n",
       "    </tr>\n",
       "    <tr>\n",
       "      <td>2019-12-26</td>\n",
       "      <td>0.000000e+00</td>\n",
       "      <td>2.146208e-06</td>\n",
       "      <td>6.646881e-07</td>\n",
       "    </tr>\n",
       "    <tr>\n",
       "      <td>2019-12-27</td>\n",
       "      <td>1.240699e-04</td>\n",
       "      <td>5.582664e-04</td>\n",
       "      <td>2.674956e-05</td>\n",
       "    </tr>\n",
       "    <tr>\n",
       "      <td>2019-12-30</td>\n",
       "      <td>2.970974e-06</td>\n",
       "      <td>0.000000e+00</td>\n",
       "      <td>1.268825e-05</td>\n",
       "    </tr>\n",
       "    <tr>\n",
       "      <td>2019-12-31</td>\n",
       "      <td>0.000000e+00</td>\n",
       "      <td>0.000000e+00</td>\n",
       "      <td>0.000000e+00</td>\n",
       "    </tr>\n",
       "  </tbody>\n",
       "</table>\n",
       "<p>565 rows × 3 columns</p>\n",
       "</div>"
      ],
      "text/plain": [
       "Symbols           WMT.MX     BIMBOA.MX      BSMXB.MX\n",
       "Date                                                \n",
       "2017-09-28  0.000000e+00  1.694612e-04  2.764771e-05\n",
       "2017-09-29  0.000000e+00  1.034525e-07  8.576488e-05\n",
       "2017-10-02  0.000000e+00  7.480086e-05  1.060442e-05\n",
       "2017-10-03  7.129165e-05  3.623781e-05  1.327808e-06\n",
       "2017-10-04  4.115851e-07  2.396715e-04  1.326367e-06\n",
       "...                  ...           ...           ...\n",
       "2019-12-24  0.000000e+00  4.423049e-05  4.002500e-04\n",
       "2019-12-26  0.000000e+00  2.146208e-06  6.646881e-07\n",
       "2019-12-27  1.240699e-04  5.582664e-04  2.674956e-05\n",
       "2019-12-30  2.970974e-06  0.000000e+00  1.268825e-05\n",
       "2019-12-31  0.000000e+00  0.000000e+00  0.000000e+00\n",
       "\n",
       "[565 rows x 3 columns]"
      ]
     },
     "execution_count": 49,
     "metadata": {},
     "output_type": "execute_result"
    }
   ],
   "source": [
    "# Valor absoluto de la diferencia\n",
    "np.abs(Ret-Ret_log)\n"
   ]
  },
  {
   "cell_type": "markdown",
   "metadata": {},
   "source": [
    "Donde se observa que el rendimiento tiene una tendencia constante y, por tanto, se puede plantear la hipótesis de que se puede modelar usando un proceso estocástico estacionario en media.\n",
    "\n",
    "Podemos incluso plantear la hipótesis de que los log rendimientos son normales..."
   ]
  },
  {
   "cell_type": "code",
   "execution_count": 14,
   "metadata": {},
   "outputs": [],
   "source": [
    "# Media y volatilidad de rendimientos\n"
   ]
  },
  {
   "cell_type": "code",
   "execution_count": 53,
   "metadata": {},
   "outputs": [
    {
     "data": {
      "text/plain": [
       "Symbols\n",
       "WMT.MX       0.000926\n",
       "BIMBOA.MX   -0.000216\n",
       "BSMXB.MX    -0.000297\n",
       "dtype: float64"
      ]
     },
     "execution_count": 53,
     "metadata": {},
     "output_type": "execute_result"
    }
   ],
   "source": [
    "mu = Ret.mean()\n",
    "mu"
   ]
  },
  {
   "cell_type": "code",
   "execution_count": 54,
   "metadata": {},
   "outputs": [
    {
     "data": {
      "text/plain": [
       "Symbols\n",
       "WMT.MX       0.014649\n",
       "BIMBOA.MX    0.016083\n",
       "BSMXB.MX     0.017438\n",
       "dtype: float64"
      ]
     },
     "execution_count": 54,
     "metadata": {},
     "output_type": "execute_result"
    }
   ],
   "source": [
    "sigma = Ret.std()\n",
    "sigma"
   ]
  },
  {
   "cell_type": "code",
   "execution_count": 55,
   "metadata": {},
   "outputs": [
    {
     "data": {
      "text/plain": [
       "(0.0009263220485007133, 0.017437614731579697)"
      ]
     },
     "execution_count": 55,
     "metadata": {},
     "output_type": "execute_result"
    }
   ],
   "source": [
    "mu['WMT.MX'], sigma['BSMXB.MX']"
   ]
  },
  {
   "cell_type": "markdown",
   "metadata": {},
   "source": [
    "___\n",
    "Recapitulando, hoy aprendimos a obtener datos con pandas-datareader directamente desde un archivo local ó fuentes remotas.\n",
    "\n",
    "Por otra parte, estudiamos los rendimientos diarios y dimos con la conclusión de que se podrían modelar como un proceso estocástico estacionario normal."
   ]
  },
  {
   "cell_type": "markdown",
   "metadata": {},
   "source": [
    "La siguiente clase veremos como simular escenarios de comportamiento de los precios futuros (no determinístico, no sabemos como se comporta, muchas posibilidades: montecarlo) a partir de datos de ingresos diarios.\n",
    "\n",
    "Luego, con esas predicciones veremos la probabilidad de que el precio de las acciones quede por encima (debajo) de cierto umbral y con ello tomar decisiones de vender (comprar) estas acciones."
   ]
  },
  {
   "cell_type": "code",
   "execution_count": null,
   "metadata": {},
   "outputs": [],
   "source": []
  },
  {
   "cell_type": "markdown",
   "metadata": {},
   "source": [
    "<script>\n",
    "  $(document).ready(function(){\n",
    "    $('div.prompt').hide();\n",
    "    $('div.back-to-top').hide();\n",
    "    $('nav#menubar').hide();\n",
    "    $('.breadcrumb').hide();\n",
    "    $('.hidden-print').hide();\n",
    "  });\n",
    "</script>\n",
    "\n",
    "<footer id=\"attribution\" style=\"float:right; color:#808080; background:#fff;\">\n",
    "Created with Jupyter by Cristian Camilo Zapata Zuluaga.\n",
    "</footer>"
   ]
  },
  {
   "cell_type": "code",
   "execution_count": null,
   "metadata": {},
   "outputs": [],
   "source": []
  }
 ],
 "metadata": {
  "kernelspec": {
   "display_name": "Python 3",
   "language": "python",
   "name": "python3"
  },
  "language_info": {
   "codemirror_mode": {
    "name": "ipython",
    "version": 3
   },
   "file_extension": ".py",
   "mimetype": "text/x-python",
   "name": "python",
   "nbconvert_exporter": "python",
   "pygments_lexer": "ipython3",
   "version": "3.7.4"
  }
 },
 "nbformat": 4,
 "nbformat_minor": 2
}
