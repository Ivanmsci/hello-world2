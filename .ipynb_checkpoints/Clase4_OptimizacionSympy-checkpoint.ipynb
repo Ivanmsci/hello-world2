{
 "cells": [
  {
   "cell_type": "markdown",
   "metadata": {},
   "source": [
    "# Optimización de funciones escalares diferenciables con `SymPy`\n",
    "\n",
    "<img style=\"float: right; margin: 0px 0px 15px 15px;\" src=\"https://upload.wikimedia.org/wikipedia/commons/thumb/b/b6/Extrema_example_es.svg/1200px-Extrema_example_es.svg.png\" width=\"300px\" height=\"100px\" />\n",
    "\n",
    "- Mediante optimización se obtienen soluciones elegantes tanto en teoría como en ciertas aplicaciones. \n",
    "- La teoría de optimización usa elementos comenzando con cálculo elemental y álgebra lineal básica, y luego se extiende con análisis funcional y convexo.\n",
    "- Las aplicaciones en optimización involucran ciencia, ingeniería, economía, finanzas e industria.\n",
    "- El amplio y creciente uso de la optimización lo hace escencial para estudiantes y profesionales de cualquier rama de la ciencia y la tecnología.\n",
    "\n",
    "**Referencia:**\n",
    "- http://www.math.uwaterloo.ca/~hwolkowi//henry/reports/talks.d/t06talks.d/06msribirs.d/optimportance.shtml\n",
    "\n"
   ]
  },
  {
   "cell_type": "markdown",
   "metadata": {},
   "source": [
    "<img style=\"float: right; margin: 0px 0px 15px 15px;\" src=\"https://upload.wikimedia.org/wikipedia/commons/thumb/e/e7/OpenStreetMap_routing_service.png/300px-OpenStreetMap_routing_service.png\" width=\"300px\" height=\"100px\" />\n",
    "\n",
    "### Algunas aplicaciones son:\n",
    "\n",
    "1. **Ingeniería:**\n",
    " - Encontrar la composición de equilibrio de una mezcla de diferentes átomos.\n",
    " - Planeación de ruta para un robot (o vehículo aéreo no tripulado).\n",
    " - Planeación de la mano de obra óptima en una construcción o planta de producción.\n",
    " - Análisis conformacional - Isomería conformacional en modelado molecular\n",
    " - Desempeño en fermentación de productos.\n",
    " - Estimación de parámetros en bioquímica e ingeniería metabólica.\n",
    " \n",
    " \n",
    "2. **Distribución óptima de recursos:**\n",
    " - Distribución de rutas de vuelo.\n",
    " - Encontrar una dieta óptima.\n",
    " - Planeación de ruta óptima.\n",
    " \n",
    " \n",
    "3. **Optimización financiera:**\n",
    " - Administración de riesgos.\n",
    " - Portafolios de inversión.\n",
    " - Problema de maximización de la utilidad.\n",
    " - "
   ]
  },
  {
   "cell_type": "markdown",
   "metadata": {},
   "source": [
    "### <p style=\"color:green;\">En esta clase veremos aspectos básicos de optimización. Específicamente, veremos cómo obtener máximos y mínimos de una función escalar de una variable (como en cálculo diferencial).</p>\n",
    "\n",
    "<img style=\"float: center\" src=\"https://matematicasies.com/local/cache-vignettes/L337xH278/extremos-77d0a.png\" width=\"400px\" height=\"100px\" />"
   ]
  },
  {
   "cell_type": "markdown",
   "metadata": {},
   "source": [
    "___\n",
    "## 0. Librerías que usaremos\n",
    "<img style=\"float: center\" src=\"https://upload.wikimedia.org/wikipedia/commons/thumb/4/4a/Python3-powered_hello-world.svg/1000px-Python3-powered_hello-world.svg.png\" width=\"300px\" height=\"100px\" />\n",
    "\n",
    "Como ya dijimos en la primer clase `python` es el lenguaje de programación (el cual es de alto nivel). Sin embargo, `python` solo tiene unos pocos comandos primitivos y para hacer más fácil su uso en nuestras actividades de simulación en ingeniería, otras personas ya han escrito ciertas librerías por nosotros."
   ]
  },
  {
   "cell_type": "markdown",
   "metadata": {},
   "source": [
    "### 0.1 `NumPy`\n",
    "\n",
    "<img style=\"float: right; margin: 0px 0px 15px 15px;\" src=\"http://www.numpy.org/_static/numpy_logo.png\" width=\"300px\" height=\"100px\" />\n",
    "\n",
    "`NumPy` (Numerical Python) es la librería fundamental para computación científica (numérica) con `Python`. Contiene, entre otras cosas:\n",
    "- un objeto tipo arreglo N-dimensional muy poderoso\n",
    "- funciones sofisticadas\n",
    "- funciones de álgebra lineal, transformada de Fourier y números aleatorios.\n",
    "\n",
    "Por lo anterior, `NumPy` es de amplio uso entre la comunidad científica e ingenieril (por su manejo de cantidades vectoriales). De la misma manera, se usa para guardar datos. Para nuestros propósitos, se puede usar libremente.\n",
    "\n",
    "**Referencia:**\n",
    "- http://www.numpy.org/"
   ]
  },
  {
   "cell_type": "markdown",
   "metadata": {},
   "source": [
    "`NumPy` ya viene incluido en la instalación estándar de Anaconda por defecto. Para comenzar a usarlo, solo debemos de importarlo:"
   ]
  },
  {
   "cell_type": "code",
   "execution_count": 1,
   "metadata": {},
   "outputs": [],
   "source": [
    "# Importar librería numpy\n",
    "\n",
    "import numpy as np\n"
   ]
  },
  {
   "cell_type": "markdown",
   "metadata": {},
   "source": [
    "### 0.2 `SymPy`\n",
    "\n",
    "<img style=\"float: right; margin: 0px 0px 15px 15px;\" src=\"http://www.sympy.org/static/images/logo.png\" width=\"300px\" height=\"100px\" />\n",
    "\n",
    "`SymPy` (Symbolic Python) es una librería de `Python` para matemáticas simbólicas. Su objetivo es convertirse en un sistema de álgebra computacional con las mejores características, manteniendo el código lo más simple posible para que sea comprensible.\n",
    "\n",
    "**Referencia:**\n",
    "- http://www.sympy.org/en/index.html"
   ]
  },
  {
   "cell_type": "markdown",
   "metadata": {},
   "source": [
    ",,,,,,,,,,,,,,,,,,,,,,,,,,,,,,,,,,,,,,,,,,,,,,,,,,,,,,,,"
   ]
  },
  {
   "cell_type": "markdown",
   "metadata": {},
   "source": [
    "`SymPy` ya viene incluido en la instalación estándar de Anaconda por defecto. Para comenzar a usarlo, solo debemos de importarlo:"
   ]
  },
  {
   "cell_type": "code",
   "execution_count": 2,
   "metadata": {},
   "outputs": [],
   "source": [
    "#Importarmos la librería sympy\n",
    "\n",
    "import sympy as sym\n",
    "\n",
    "# Imprimir datos en formato Latex\n",
    "\n",
    "sym.init_printing(use_latex = 'mathjax')"
   ]
  },
  {
   "cell_type": "markdown",
   "metadata": {},
   "source": [
    "La funcionalidad de imprimir en formato LaTex que nos da `SymPy` mediante el proyecto `mathjax` hace de `SymPy` una herramienta muy atractiva..."
   ]
  },
  {
   "cell_type": "markdown",
   "metadata": {},
   "source": [
    "Notar que en `SymPy` y en `NumPy` existen funciones con el mismo nombre, pero reciben tipos de datos diferentes..."
   ]
  },
  {
   "cell_type": "code",
   "execution_count": 3,
   "metadata": {},
   "outputs": [
    {
     "data": {
      "text/latex": [
       "$$\\cos{\\left (x \\right )}$$"
      ],
      "text/plain": [
       "cos(x)"
      ]
     },
     "execution_count": 3,
     "metadata": {},
     "output_type": "execute_result"
    }
   ],
   "source": [
    "sym.var('x')\n",
    "sym.cos(x)"
   ]
  },
  {
   "cell_type": "code",
   "execution_count": 4,
   "metadata": {},
   "outputs": [
    {
     "data": {
      "text/latex": [
       "$$-0.9999999999964793$$"
      ],
      "text/plain": [
       "-0.9999999999964793"
      ]
     },
     "execution_count": 4,
     "metadata": {},
     "output_type": "execute_result"
    }
   ],
   "source": [
    "np.cos(3.14159)"
   ]
  },
  {
   "cell_type": "markdown",
   "metadata": {},
   "source": [
    "Explicar el uso de la sintaxis `from numpy import *` y sus peligros (no recomendable)."
   ]
  },
  {
   "cell_type": "markdown",
   "metadata": {},
   "source": [
    "### 0.3 `PyPlot` de `matplotlib`\n",
    "\n",
    "<img style=\"float: right; margin: 0px 0px 15px 15px;\" src=\"https://matplotlib.org/_static/logo2.svg\" width=\"300px\" height=\"100px\" />\n",
    "\n",
    "El módulo `PyPlot` de la librería `matplotlib` contiene funciones que nos permite generar una gran cantidad de gráficas rápidamente. Las funciones de este módulo están escritas con el mismo nombre que las funciones para graficar en `Matlab`.\n",
    "\n",
    "**Referencia:**\n",
    "- https://matplotlib.org/api/pyplot_summary.html"
   ]
  },
  {
   "cell_type": "code",
   "execution_count": 5,
   "metadata": {},
   "outputs": [],
   "source": [
    "# importar matplotlib.pyplot\n",
    "\n",
    "import matplotlib.pyplot as plt\n",
    "\n",
    "# comando para que las gráficas salgan en la misma ventana}\n",
    "\n",
    "%matplotlib inline\n"
   ]
  },
  {
   "cell_type": "markdown",
   "metadata": {},
   "source": [
    "Ya que revisamos todas las librerías que usaremos, empecemos con la clase como tal..."
   ]
  },
  {
   "cell_type": "code",
   "execution_count": null,
   "metadata": {},
   "outputs": [],
   "source": []
  },
  {
   "cell_type": "markdown",
   "metadata": {},
   "source": [
    "___\n",
    "<p style=\"color:red;\">Todos los resultados que veremos son basados en el siguiente teorema:</p>"
   ]
  },
  {
   "cell_type": "markdown",
   "metadata": {},
   "source": [
    "## 1. Teorema de Fermat (análisis)\n",
    "\n",
    "Si una función $f(x)$ alcanza un máximo o mínimo local en $x=c$, y si la derivada $f'(c)$ existe en el punto $c$, entonces $f'(c) = 0$."
   ]
  },
  {
   "cell_type": "markdown",
   "metadata": {},
   "source": [
    "### Ejemplo\n",
    "\n",
    "Sabemos que la función $f(x)=(x-2)^2$ tiene un mínimo global en $x=2$, pues\n",
    "\n",
    "$$f(x)=(x-2)^2\\geq0,\\qquad\\text{y}\\qquad f(x)=(x-2)^2=0 \\qquad\\text{si y solo si}\\qquad x=2.$$"
   ]
  },
  {
   "cell_type": "code",
   "execution_count": 6,
   "metadata": {},
   "outputs": [
    {
     "data": {
      "text/latex": [
       "$$x$$"
      ],
      "text/plain": [
       "x"
      ]
     },
     "execution_count": 6,
     "metadata": {},
     "output_type": "execute_result"
    }
   ],
   "source": [
    "#Declarar variable x como real\n",
    "\n",
    "sym.var('x', real = True)\n"
   ]
  },
  {
   "cell_type": "code",
   "execution_count": 7,
   "metadata": {},
   "outputs": [
    {
     "data": {
      "text/latex": [
       "$$\\left(x - 2\\right)^{2}$$"
      ],
      "text/plain": [
       "       2\n",
       "(x - 2) "
      ]
     },
     "execution_count": 7,
     "metadata": {},
     "output_type": "execute_result"
    }
   ],
   "source": [
    "# Declarar función f y mostrar\n",
    "\n",
    "f = (x-2)**2\n",
    "f\n"
   ]
  },
  {
   "cell_type": "code",
   "execution_count": 8,
   "metadata": {},
   "outputs": [
    {
     "data": {
      "text/latex": [
       "$$2 x - 4$$"
      ],
      "text/plain": [
       "2⋅x - 4"
      ]
     },
     "execution_count": 8,
     "metadata": {},
     "output_type": "execute_result"
    }
   ],
   "source": [
    "# Encontrar la primera derivada de la función f\n",
    "\n",
    "df = sym.diff(f,x)\n",
    "df\n",
    "\n"
   ]
  },
  {
   "cell_type": "code",
   "execution_count": 9,
   "metadata": {},
   "outputs": [
    {
     "data": {
      "text/latex": [
       "$$\\left [ 2\\right ]$$"
      ],
      "text/plain": [
       "[2]"
      ]
     },
     "execution_count": 9,
     "metadata": {},
     "output_type": "execute_result"
    }
   ],
   "source": [
    "#Resolver f'(x)= 0 y mostrar punto\n",
    "\n",
    "xc = sym.solve(df,x)\n",
    "xc\n"
   ]
  },
  {
   "cell_type": "markdown",
   "metadata": {},
   "source": [
    "Veamos la gráfica..."
   ]
  },
  {
   "cell_type": "code",
   "execution_count": 10,
   "metadata": {},
   "outputs": [],
   "source": [
    "# Convertir función simbólica f a una función numérica\n",
    "\n",
    "fnum = sym.lambdify (x,f)\n"
   ]
  },
  {
   "cell_type": "code",
   "execution_count": 11,
   "metadata": {
    "scrolled": false
   },
   "outputs": [],
   "source": [
    "# Definir coordenas x\n",
    "\n",
    "xnum = np.linspace(-5,9,150)\n",
    "\n",
    "ynum = fnum(xnum)\n"
   ]
  },
  {
   "cell_type": "code",
   "execution_count": 12,
   "metadata": {},
   "outputs": [
    {
     "data": {
      "image/png": "[encoded data removed]",
      "text/plain": [
       "<Figure size 576x432 with 1 Axes>"
      ]
     },
     "metadata": {},
     "output_type": "display_data"
    }
   ],
   "source": [
    "# Graficar\n",
    "# Crear nueva ventana de gráficos y se da medida a la ventana\n",
    "\n",
    "plt.figure(figsize = (8,6))\n",
    "\n",
    "plt.plot(xnum,ynum, 'k', label = '$y = (x-2)^2$')\n",
    "plt.plot([2],[0], '*g', ms =15, label = '$ (2,0$)$')\n",
    "\n",
    "#Nombrar los ejes de la gráfica\n",
    "\n",
    "plt.xlabel ('$x$')\n",
    "plt.ylabel('$f(x) = (x-2)^2$')\n",
    "\n",
    "\n",
    "plt.legend(loc = 'best')\n",
    "\n",
    "plt.grid()\n",
    "\n",
    "plt.show()\n"
   ]
  },
  {
   "cell_type": "markdown",
   "metadata": {},
   "source": [
    "### **Otra manera de hacer lo anterior**\n",
    "\n",
    "Revisemos el concepto de función en `Python`"
   ]
  },
  {
   "cell_type": "code",
   "execution_count": 13,
   "metadata": {},
   "outputs": [],
   "source": [
    "#Definimos una función en Python\n",
    "\n",
    "def nuestra_f(x):\n",
    "    return (x-2)**2\n"
   ]
  },
  {
   "cell_type": "code",
   "execution_count": 14,
   "metadata": {},
   "outputs": [
    {
     "data": {
      "text/latex": [
       "$$x$$"
      ],
      "text/plain": [
       "x"
      ]
     },
     "execution_count": 14,
     "metadata": {},
     "output_type": "execute_result"
    }
   ],
   "source": [
    "sym.var ('x', real = True)"
   ]
  },
  {
   "cell_type": "code",
   "execution_count": 15,
   "metadata": {},
   "outputs": [
    {
     "data": {
      "text/latex": [
       "$$2 x - 4$$"
      ],
      "text/plain": [
       "2⋅x - 4"
      ]
     },
     "execution_count": 15,
     "metadata": {},
     "output_type": "execute_result"
    }
   ],
   "source": [
    "df = sym.diff(nuestra_f(x),x)\n",
    "df"
   ]
  },
  {
   "cell_type": "code",
   "execution_count": 16,
   "metadata": {},
   "outputs": [
    {
     "data": {
      "text/latex": [
       "$$\\left [ 2\\right ]$$"
      ],
      "text/plain": [
       "[2]"
      ]
     },
     "execution_count": 16,
     "metadata": {},
     "output_type": "execute_result"
    }
   ],
   "source": [
    "xc = sym.solve(df,x)\n",
    "xc"
   ]
  },
  {
   "cell_type": "code",
   "execution_count": 17,
   "metadata": {},
   "outputs": [],
   "source": [
    "xnum = np.linspace (-3,5,10000)\n",
    "ynum = nuestra_f(xnum)"
   ]
  },
  {
   "cell_type": "code",
   "execution_count": 18,
   "metadata": {},
   "outputs": [
    {
     "data": {
      "image/png": "[encoded data removed]",
      "text/plain": [
       "<Figure size 1080x576 with 1 Axes>"
      ]
     },
     "metadata": {},
     "output_type": "display_data"
    }
   ],
   "source": [
    "# Graficar\n",
    "\n",
    "\n",
    "plt.figure(figsize=(15,8))\n",
    "\n",
    "# Crear el tamaño de la figura a graficar\n",
    "plt.plot(xnum, ynum, '--b', lw = 3, label = '$yf(x) = (x-2)^2$$')\n",
    "plt.plot([2],[0], 'pg', ms =15, label = '$ (2,0$)$')\n",
    "\n",
    "\n",
    "\n",
    "#Nombrar los ejes de la gráfica\n",
    "plt.xlabel ('$x$')\n",
    "plt.ylabel('$f(x) = (x-2)^2$')\n",
    "\n",
    "\n",
    "#mostrar la cuadricula\n",
    "\n",
    "plt.legend(loc = 'best')    #acomoda las eqtiquetas donde al programa le convenga XD\n",
    "\n",
    "plt.grid()     #muestra la cuadricula\n",
    "\n",
    "plt.show()     #muestra lo que se ha hecho\n",
    "\n",
    "\n",
    "\n"
   ]
  },
  {
   "cell_type": "markdown",
   "metadata": {},
   "source": [
    "# prueba de codigo"
   ]
  },
  {
   "cell_type": "code",
   "execution_count": 19,
   "metadata": {},
   "outputs": [
    {
     "data": {
      "image/png": "[encoded data removed]",
      "text/plain": [
       "<Figure size 432x288 with 1 Axes>"
      ]
     },
     "metadata": {},
     "output_type": "display_data"
    }
   ],
   "source": [
    "color = 'cornflowerblue'\n",
    "points = np.ones(5)  # Draw 5 points for each line\n",
    "text_style = dict(horizontalalignment='right', verticalalignment='center',\n",
    "                  fontsize=12, fontdict={'family': 'monospace'})\n",
    "\n",
    "\n",
    "def format_axes(ax):\n",
    "    ax.margins(0.2)\n",
    "    ax.set_axis_off()\n",
    "\n",
    "\n",
    "# Plot all line styles.\n",
    "fig, ax = plt.subplots()\n",
    "\n",
    "linestyles = ['-', '--', '-.', ':']\n",
    "for y, linestyle in enumerate(linestyles):\n",
    "    ax.text(-0.1, y, repr(linestyle), **text_style)\n",
    "    ax.plot(y * points, linestyle=linestyle, color=color, linewidth=3)\n",
    "    format_axes(ax)\n",
    "    ax.set_title('line styles')\n",
    "\n",
    "plt.show()"
   ]
  },
  {
   "cell_type": "markdown",
   "metadata": {},
   "source": [
    "---"
   ]
  },
  {
   "cell_type": "markdown",
   "metadata": {},
   "source": [
    "**El converso del teorema anterior no es cierto.**\n",
    "\n",
    "### Actividad\n",
    "Considere $g(x)=(x-2)^3$. \n",
    "- Usando `sympy`, muestre que $g'(2)=0$.\n",
    "- Sin embargo, descartar que $x=2$ es un extremo de $g(x)$ viendo su **gráfica**."
   ]
  },
  {
   "cell_type": "code",
   "execution_count": 20,
   "metadata": {},
   "outputs": [],
   "source": [
    "def g(x):\n",
    "    return (x-2)**3"
   ]
  },
  {
   "cell_type": "code",
   "execution_count": 21,
   "metadata": {},
   "outputs": [
    {
     "data": {
      "text/latex": [
       "$$x$$"
      ],
      "text/plain": [
       "x"
      ]
     },
     "execution_count": 21,
     "metadata": {},
     "output_type": "execute_result"
    }
   ],
   "source": [
    "sym.var('x', real = True)"
   ]
  },
  {
   "cell_type": "code",
   "execution_count": 22,
   "metadata": {},
   "outputs": [
    {
     "data": {
      "text/latex": [
       "$$3 \\left(x - 2\\right)^{2}$$"
      ],
      "text/plain": [
       "         2\n",
       "3⋅(x - 2) "
      ]
     },
     "execution_count": 22,
     "metadata": {},
     "output_type": "execute_result"
    }
   ],
   "source": [
    "dg = sym.diff(g(x),x)\n",
    "dg\n"
   ]
  },
  {
   "cell_type": "code",
   "execution_count": 23,
   "metadata": {},
   "outputs": [
    {
     "data": {
      "text/latex": [
       "$$\\left [ 2\\right ]$$"
      ],
      "text/plain": [
       "[2]"
      ]
     },
     "execution_count": 23,
     "metadata": {},
     "output_type": "execute_result"
    }
   ],
   "source": [
    "xc = sym.solve (dg,x)\n",
    "xc"
   ]
  },
  {
   "cell_type": "code",
   "execution_count": 24,
   "metadata": {},
   "outputs": [
    {
     "data": {
      "text/latex": [
       "$$0$$"
      ],
      "text/plain": [
       "0"
      ]
     },
     "execution_count": 24,
     "metadata": {},
     "output_type": "execute_result"
    }
   ],
   "source": [
    "dg.subs(x,2)"
   ]
  },
  {
   "cell_type": "code",
   "execution_count": 25,
   "metadata": {},
   "outputs": [],
   "source": [
    "xnum = np.linspace (-5,9,1000000)\n",
    "ynum = g(xnum)"
   ]
  },
  {
   "cell_type": "code",
   "execution_count": 26,
   "metadata": {},
   "outputs": [
    {
     "data": {
      "image/png": "[encoded data removed]",
      "text/plain": [
       "<Figure size 1080x576 with 1 Axes>"
      ]
     },
     "metadata": {},
     "output_type": "display_data"
    }
   ],
   "source": [
    "# Graficar\n",
    "plt.figure(figsize = (15,8))\n",
    "\n",
    "plt.plot(xnum, ynum, ':m', lw=4, label = '$g(x) = (x-2)^3$' )\n",
    "plt.plot ([2],[0], 'Dc', ms=20, label='$(2,0)$')\n",
    "\n",
    "\n",
    "# Crear el tamaño de la figura a graficar\n",
    "\n",
    "\n",
    "\n",
    "\n",
    "#Nombrar los ejes de la gráfica\n",
    "\n",
    "plt.xlabel('$x$')\n",
    "plt.ylabel('$g(x) = (x-2)^3$')\n",
    "\n",
    "plt.legend(loc='best')\n",
    "plt.grid()\n",
    "plt.show()\n",
    "\n"
   ]
  },
  {
   "cell_type": "markdown",
   "metadata": {},
   "source": [
    "## 2. Criterio de la segunda derivada\n",
    "\n",
    "Sea $f(x)$ una función tal que $f’(c)=0$ y cuya segunda derivada existe en un intervalo abierto que contiene a $c$.\n",
    "- Si $f’’(c)>0$, entonces $f(c)$ es un mínimo relativo.\n",
    "- Si $f’’(c)<0$, entonces $f(c)$ es un máximo relativo.\n",
    "- Si $f’’(c)=0$, entonces el criterio no decide. "
   ]
  },
  {
   "cell_type": "markdown",
   "metadata": {},
   "source": [
    "### Ejemplo\n",
    "\n",
    "Mostrar, usando `sympy`, que la función $f(x)=(x-2)^2$ tiene un mínimo relativo en $x=2$.\n",
    "\n",
    "Ya vimos que $f'(2)=0$. Notemos que:"
   ]
  },
  {
   "cell_type": "code",
   "execution_count": 27,
   "metadata": {},
   "outputs": [],
   "source": [
    "def f(x): return (x-2)**2"
   ]
  },
  {
   "cell_type": "code",
   "execution_count": 28,
   "metadata": {},
   "outputs": [
    {
     "data": {
      "text/latex": [
       "$$2$$"
      ],
      "text/plain": [
       "2"
      ]
     },
     "execution_count": 28,
     "metadata": {},
     "output_type": "execute_result"
    }
   ],
   "source": [
    "d2f = sym.diff(f(x), x , 2)\n",
    "d2f"
   ]
  },
  {
   "cell_type": "code",
   "execution_count": 29,
   "metadata": {},
   "outputs": [],
   "source": [
    "def g(x):return (x-2)**3\n",
    "    "
   ]
  },
  {
   "cell_type": "code",
   "execution_count": 30,
   "metadata": {},
   "outputs": [
    {
     "data": {
      "text/latex": [
       "$$6 \\left(x - 2\\right)$$"
      ],
      "text/plain": [
       "6⋅(x - 2)"
      ]
     },
     "execution_count": 30,
     "metadata": {},
     "output_type": "execute_result"
    }
   ],
   "source": [
    "d2g = sym.diff(g(x) , x , 2)\n",
    "d2g"
   ]
  },
  {
   "cell_type": "code",
   "execution_count": 31,
   "metadata": {
    "scrolled": true
   },
   "outputs": [
    {
     "data": {
      "text/latex": [
       "$$0$$"
      ],
      "text/plain": [
       "0"
      ]
     },
     "execution_count": 31,
     "metadata": {},
     "output_type": "execute_result"
    }
   ],
   "source": [
    "d2g.subs(x,2)"
   ]
  },
  {
   "cell_type": "code",
   "execution_count": null,
   "metadata": {},
   "outputs": [],
   "source": []
  },
  {
   "cell_type": "markdown",
   "metadata": {},
   "source": [
    "Por tanto, por el criterio de la segunda derivada, $f(2)=0$ es un mínimo relativo (en efecto, el mínimo global)."
   ]
  },
  {
   "cell_type": "markdown",
   "metadata": {},
   "source": [
    "### Ejemplo\n",
    "¿Qué pasa con $g(x)=(x-2)^3$ al intentar utilizar el criterio de la segunda derivada? (usar `sympy`)."
   ]
  },
  {
   "cell_type": "code",
   "execution_count": 32,
   "metadata": {},
   "outputs": [
    {
     "ename": "SyntaxError",
     "evalue": "invalid syntax (<ipython-input-32-b7a65a85f9a7>, line 1)",
     "output_type": "error",
     "traceback": [
      "\u001b[1;36m  File \u001b[1;32m\"<ipython-input-32-b7a65a85f9a7>\"\u001b[1;36m, line \u001b[1;32m1\u001b[0m\n\u001b[1;33m    def h()\u001b[0m\n\u001b[1;37m           ^\u001b[0m\n\u001b[1;31mSyntaxError\u001b[0m\u001b[1;31m:\u001b[0m invalid syntax\n"
     ]
    }
   ],
   "source": [
    "def h()"
   ]
  },
  {
   "cell_type": "code",
   "execution_count": null,
   "metadata": {},
   "outputs": [],
   "source": []
  },
  {
   "cell_type": "code",
   "execution_count": null,
   "metadata": {},
   "outputs": [],
   "source": []
  },
  {
   "cell_type": "markdown",
   "metadata": {},
   "source": [
    "Como $g''(2)=0$ entonces el criterio de la segunda derivada no concluye."
   ]
  },
  {
   "cell_type": "markdown",
   "metadata": {},
   "source": [
    "### Actividad\n",
    "\n",
    "¿Qué pasa con $h(x)=(x-2)^4$ al intentar utilizar el criterio de la segunda derivada?."
   ]
  },
  {
   "cell_type": "code",
   "execution_count": 34,
   "metadata": {},
   "outputs": [
    {
     "data": {
      "text/latex": [
       "$$\\left(x - 2\\right)^{4}$$"
      ],
      "text/plain": [
       "       4\n",
       "(x - 2) "
      ]
     },
     "execution_count": 34,
     "metadata": {},
     "output_type": "execute_result"
    }
   ],
   "source": [
    "def h(x): return (x-2)**4\n",
    "h(x)"
   ]
  },
  {
   "cell_type": "code",
   "execution_count": 35,
   "metadata": {},
   "outputs": [
    {
     "data": {
      "text/latex": [
       "$$12 \\left(x - 2\\right)^{2}$$"
      ],
      "text/plain": [
       "          2\n",
       "12⋅(x - 2) "
      ]
     },
     "execution_count": 35,
     "metadata": {},
     "output_type": "execute_result"
    }
   ],
   "source": [
    "d2h = sym.diff (h(x),x,2)\n",
    "d2h"
   ]
  },
  {
   "cell_type": "code",
   "execution_count": 36,
   "metadata": {},
   "outputs": [
    {
     "data": {
      "text/latex": [
       "$$0$$"
      ],
      "text/plain": [
       "0"
      ]
     },
     "execution_count": 36,
     "metadata": {},
     "output_type": "execute_result"
    }
   ],
   "source": [
    "d2h.subs(x,2)"
   ]
  },
  {
   "cell_type": "code",
   "execution_count": 37,
   "metadata": {},
   "outputs": [],
   "source": [
    "xnum = np.linspace(-5,8,255)\n",
    "\n",
    "ynum = h(xnum)\n",
    "\n",
    "\n"
   ]
  },
  {
   "cell_type": "code",
   "execution_count": 38,
   "metadata": {},
   "outputs": [
    {
     "data": {
      "image/png": "[encoded data removed]",
      "text/plain": [
       "<Figure size 1080x576 with 1 Axes>"
      ]
     },
     "metadata": {},
     "output_type": "display_data"
    }
   ],
   "source": [
    "\n",
    "#crea la figura asi como su tmaño\n",
    "plt.figure(figsize = (15,8))\n",
    "\n",
    "#grafica los datos\n",
    "plt.plot (xnum, ynum, ':r', lw=4, label = '$h(x) = (x-2)^4$')\n",
    "\n",
    "\n",
    "plt.plot ([2],[0], 'Dk', ms = 15, label = '$(2,0)$' )\n",
    "\n",
    "\n",
    "#genera las etiquetas ar los ejes\n",
    "\n",
    "plt.xlabel ('$x$')\n",
    "plt.ylabel ('$h(x) = (x-2)^4$')\n",
    "\n",
    "\n",
    "#muestra las etiquetas \n",
    "plt.legend(loc = 'best')\n",
    "plt.grid()\n",
    "plt.show()\n",
    "\n",
    "\n"
   ]
  },
  {
   "cell_type": "markdown",
   "metadata": {},
   "source": [
    "## 3. Método para determinar extremos absolutos de una función continua y=f(x) en [a,b] \n",
    "\n",
    "- Determinar todos los valores críticos $c_1, c_2, c_3, \\dots, c_n$ en $(a,b)$.\n",
    "- Evaluar $f$ en todos los valores críticos y en los extremos $x=a$ y $x=b$.\n",
    "- El más grande y el más pequeño de los valores de la lista $f(a), f(b), f(c_1), f(c_2), \\dots, f(c_n)$ son el máximo absoluto y el mínimo absoluto, respectivamente, de $f$ en el intervalo $[a,b]$."
   ]
  },
  {
   "cell_type": "markdown",
   "metadata": {
    "collapsed": true
   },
   "source": [
    "### Ejemplo\n",
    "\n",
    "Determinar los extremos absolutos de $f(x)=x^2-2x+5$ en $\\left[0,3\\right]$.\n",
    "\n",
    "Obtenemos los puntos críticos de $f$ en $\\left[0,3\\right]$:"
   ]
  },
  {
   "cell_type": "code",
   "execution_count": 39,
   "metadata": {},
   "outputs": [],
   "source": [
    "def f(x):\n",
    "    return x**2-2*x+5"
   ]
  },
  {
   "cell_type": "code",
   "execution_count": 40,
   "metadata": {},
   "outputs": [
    {
     "data": {
      "text/latex": [
       "$$2 x - 2$$"
      ],
      "text/plain": [
       "2⋅x - 2"
      ]
     },
     "execution_count": 40,
     "metadata": {},
     "output_type": "execute_result"
    }
   ],
   "source": [
    "df = sym.diff(f(x),x)\n",
    "df"
   ]
  },
  {
   "cell_type": "code",
   "execution_count": 41,
   "metadata": {},
   "outputs": [
    {
     "data": {
      "text/latex": [
       "$$\\left [ 1\\right ]$$"
      ],
      "text/plain": [
       "[1]"
      ]
     },
     "execution_count": 41,
     "metadata": {},
     "output_type": "execute_result"
    }
   ],
   "source": [
    "xc = sym.solve (df,x)\n",
    "xc"
   ]
  },
  {
   "cell_type": "code",
   "execution_count": 42,
   "metadata": {},
   "outputs": [
    {
     "data": {
      "text/latex": [
       "$$\\left ( 5, \\quad 4, \\quad 8\\right )$$"
      ],
      "text/plain": [
       "(5, 4, 8)"
      ]
     },
     "execution_count": 42,
     "metadata": {},
     "output_type": "execute_result"
    }
   ],
   "source": [
    "f(0),f(1),f(3)"
   ]
  },
  {
   "cell_type": "markdown",
   "metadata": {},
   "source": [
    "Evaluamos $f$ en los extremos y en los puntos críticos:"
   ]
  },
  {
   "cell_type": "code",
   "execution_count": 43,
   "metadata": {},
   "outputs": [
    {
     "data": {
      "text/plain": [
       "array([0.00000000e+00, 3.00030003e-04, 6.00060006e-04, ...,\n",
       "       2.99939994e+00, 2.99969997e+00, 3.00000000e+00])"
      ]
     },
     "execution_count": 43,
     "metadata": {},
     "output_type": "execute_result"
    }
   ],
   "source": [
    "#definirdatos tabulados\n",
    "\n",
    "xnum = np.linspace (0,3,10000)\n",
    "ynum = f(xnum)\n",
    "\n",
    "xnum"
   ]
  },
  {
   "cell_type": "markdown",
   "metadata": {},
   "source": [
    "Concluimos que el máximo absoluto de $f$ en $\\left[0,3\\right]$ es $8$ y se alcanza en $x=3$, y que el mínimo absoluto es $4$ y se alcanza en $x=1$."
   ]
  },
  {
   "cell_type": "code",
   "execution_count": 44,
   "metadata": {},
   "outputs": [
    {
     "data": {
      "image/png": "[encoded data removed]",
      "text/plain": [
       "<Figure size 648x576 with 1 Axes>"
      ]
     },
     "metadata": {},
     "output_type": "display_data"
    }
   ],
   "source": [
    "#Gráfica\n",
    "\n",
    "plt.figure (figsize = (9,8))\n",
    "\n",
    "plt.plot (xnum, ynum, ':k', ms = 4, label = '$f(x)=x^2-2x+5$' )\n",
    "plt.plot ([3],[8], 'Pr', ms = 15, label = 'máximo absoluto en intervalo $(3,8)$')\n",
    "plt.plot ([1],[4], 'Pb', ms = 15, label = 'mínimo absoluto en intervalo $(1,4)$')\n",
    "\n",
    "#etiquea de los ejes\n",
    "plt.xlabel ('$x$')\n",
    "plt.ylabel('$f(x)=x^2-2x+5$')\n",
    "\n",
    "\n",
    "\n",
    "# generar cadricula y mostrar las etiquetas\n",
    "plt.legend (loc = 'best')\n",
    "plt.grid()\n",
    "plt.show()\n",
    "\n"
   ]
  },
  {
   "cell_type": "markdown",
   "metadata": {},
   "source": [
    "### Actividad\n",
    "Determinar los valores extremos absolutos de  $f(x) = (x-3)^2(x+3)^2$ en el intervalo $[1,\\,4]$, usando `sympy`. Mostrar en una gráfica."
   ]
  },
  {
   "cell_type": "code",
   "execution_count": 45,
   "metadata": {},
   "outputs": [
    {
     "data": {
      "text/latex": [
       "$$\\left(x - 3\\right)^{2} \\left(x + 3\\right)^{2}$$"
      ],
      "text/plain": [
       "       2        2\n",
       "(x - 3) ⋅(x + 3) "
      ]
     },
     "execution_count": 45,
     "metadata": {},
     "output_type": "execute_result"
    }
   ],
   "source": [
    "def g(x):\n",
    "    return (x-3)**2*(x+3)**2\n",
    "\n",
    "g(x)"
   ]
  },
  {
   "cell_type": "code",
   "execution_count": 46,
   "metadata": {},
   "outputs": [
    {
     "data": {
      "text/latex": [
       "$$\\left(x - 3\\right)^{2} \\left(2 x + 6\\right) + \\left(x + 3\\right)^{2} \\left(2 x - 6\\right)$$"
      ],
      "text/plain": [
       "       2                    2          \n",
       "(x - 3) ⋅(2⋅x + 6) + (x + 3) ⋅(2⋅x - 6)"
      ]
     },
     "execution_count": 46,
     "metadata": {},
     "output_type": "execute_result"
    }
   ],
   "source": [
    "dg = sym.diff(g(x),x)\n",
    "dg"
   ]
  },
  {
   "cell_type": "code",
   "execution_count": 47,
   "metadata": {},
   "outputs": [
    {
     "data": {
      "text/latex": [
       "$$3$$"
      ],
      "text/plain": [
       "3"
      ]
     },
     "execution_count": 47,
     "metadata": {},
     "output_type": "execute_result"
    }
   ],
   "source": [
    "xc =sym.solve (dg,x)\n",
    "xc\n",
    "xc[2]"
   ]
  },
  {
   "cell_type": "markdown",
   "metadata": {},
   "source": [
    "# Solamente se encuentra dentro del intervalo el punto critico 3"
   ]
  },
  {
   "cell_type": "code",
   "execution_count": 48,
   "metadata": {},
   "outputs": [
    {
     "data": {
      "text/latex": [
       "$$\\left ( 64, \\quad 0, \\quad 49\\right )$$"
      ],
      "text/plain": [
       "(64, 0, 49)"
      ]
     },
     "execution_count": 48,
     "metadata": {},
     "output_type": "execute_result"
    }
   ],
   "source": [
    "g(1),g(3),g(4)"
   ]
  },
  {
   "cell_type": "code",
   "execution_count": 49,
   "metadata": {},
   "outputs": [],
   "source": [
    "#elementos tabulados\n",
    "\n",
    "\n",
    "xnum = np.linspace (1,4,10000)\n",
    "ynum = g(xnum)\n"
   ]
  },
  {
   "cell_type": "code",
   "execution_count": 50,
   "metadata": {},
   "outputs": [
    {
     "data": {
      "image/png": "[encoded data removed]",
      "text/plain": [
       "<Figure size 648x576 with 1 Axes>"
      ]
     },
     "metadata": {},
     "output_type": "display_data"
    }
   ],
   "source": [
    "#Grafica\n",
    "plt.figure (figsize = (9,8))\n",
    "\n",
    "\n",
    "\n",
    "# Crear el tamaño de la figura a graficar\n",
    "plt.plot(xnum,ynum, ':k', ms = 4, label = '$f(x) = (x-3)^2(x+3)^2$' )\n",
    "plt.plot ([3],[0], 'Pr', ms = 15, label = 'mínimo abs en intervalo $(3,0)$')\n",
    "plt.plot ([1],[64], 'Pb', ms = 15, label ='máximo abs en intervalo $(1,64)$')\n",
    "\n",
    "\n",
    "\n",
    "#Nombrar los ejes de la gráfica\n",
    "\n",
    "plt.xlabel('$x$')\n",
    "plt.ylabel('$f(x) = (x-3)^2(x+3)^2$')\n",
    "\n",
    "\n",
    "# mostrar cuadricula y etiqetas \n",
    "plt.legend (loc = 'best')\n",
    "plt.grid()\n",
    "plt.show()\n",
    "\n",
    "\n"
   ]
  },
  {
   "cell_type": "code",
   "execution_count": null,
   "metadata": {},
   "outputs": [],
   "source": []
  },
  {
   "cell_type": "markdown",
   "metadata": {},
   "source": [
    "### En varias variables...\n",
    "\n",
    "El procedimiento es análogo. \n",
    "\n",
    "Si una función $f:\\mathbb{R}^n\\to\\mathbb{R}$ alcanza un máximo o mínimo local en $\\boldsymbol{x}=\\boldsymbol{c}\\in\\mathbb{R}^n$, y $f$ es diferenciable en el punto $\\boldsymbol{x}=\\boldsymbol{c}$, entonces $\\left.\\frac{\\partial f}{\\partial \\boldsymbol{x}}\\right|_{\\boldsymbol{x}=\\boldsymbol{c}}=\\boldsymbol{0}$ (todas las derivadas parciales en el punto $\\boldsymbol{x}=\\boldsymbol{c}$ son cero).\n",
    "\n",
    "**Criterio de la segunda derivada:** para ver si es máximo o mínimo, se toma la segunda derivada (matriz jacobiana) y se verifica definición negativa o positiva, respectivamente.\n",
    "\n",
    "Si se restringe a cierta región, hay ciertas técnicas. La más general, pero también la más compleja es la de **multiplicadores de Lagrange**."
   ]
  },
  {
   "cell_type": "markdown",
   "metadata": {},
   "source": [
    "**Ejemplo:** Determinar los valores extremo de $z(x,y)= (x-3)^2 + (y+5)^2$ usando el criterio de la segunda derivada y corroborarlo con la gráfica."
   ]
  },
  {
   "cell_type": "code",
   "execution_count": 51,
   "metadata": {},
   "outputs": [
    {
     "data": {
      "text/latex": [
       "$$\\left ( x, \\quad y\\right )$$"
      ],
      "text/plain": [
       "(x, y)"
      ]
     },
     "execution_count": 51,
     "metadata": {},
     "output_type": "execute_result"
    }
   ],
   "source": [
    "sym.var('x y')"
   ]
  },
  {
   "cell_type": "code",
   "execution_count": 53,
   "metadata": {},
   "outputs": [
    {
     "data": {
      "text/latex": [
       "$$\\left(x - 3\\right)^{2} + \\left(y + 5\\right)^{2}$$"
      ],
      "text/plain": [
       "       2          2\n",
       "(x - 3)  + (y + 5) "
      ]
     },
     "execution_count": 53,
     "metadata": {},
     "output_type": "execute_result"
    }
   ],
   "source": [
    "def z(x,y):\n",
    "    return (x-3)**2+(y+5)**2\n",
    "\n",
    "z(x,y)"
   ]
  },
  {
   "cell_type": "code",
   "execution_count": 55,
   "metadata": {},
   "outputs": [
    {
     "data": {
      "text/latex": [
       "$$\\left ( 2 x - 6, \\quad 2 y + 10\\right )$$"
      ],
      "text/plain": [
       "(2⋅x - 6, 2⋅y + 10)"
      ]
     },
     "execution_count": 55,
     "metadata": {},
     "output_type": "execute_result"
    }
   ],
   "source": [
    "dzx = sym.diff(z(x,y),x)\n",
    "dzy = sym.diff(z(x,y),y)\n",
    "\n",
    "dzx, dzy"
   ]
  },
  {
   "cell_type": "code",
   "execution_count": 60,
   "metadata": {},
   "outputs": [
    {
     "data": {
      "text/latex": [
       "$$\\left \\{ x : 3, \\quad y : -5\\right \\}$$"
      ],
      "text/plain": [
       "{x: 3, y: -5}"
      ]
     },
     "execution_count": 60,
     "metadata": {},
     "output_type": "execute_result"
    }
   ],
   "source": [
    "Xc = sym.solve([dzx,dzy],[x,y])\n",
    "Xc"
   ]
  },
  {
   "cell_type": "code",
   "execution_count": 62,
   "metadata": {},
   "outputs": [
    {
     "data": {
      "text/latex": [
       "$$\\left ( 2, \\quad 2, \\quad 0\\right )$$"
      ],
      "text/plain": [
       "(2, 2, 0)"
      ]
     },
     "execution_count": 62,
     "metadata": {},
     "output_type": "execute_result"
    }
   ],
   "source": [
    "d2zx = sym.diff(z(x,y),x,2)\n",
    "d2zy = sym.diff(z(x,y),y,2)\n",
    "d2zxy = sym.diff(z(x,y),x,y)\n",
    "\n",
    "d2zx, d2zy, d2zxy"
   ]
  },
  {
   "cell_type": "code",
   "execution_count": 63,
   "metadata": {},
   "outputs": [
    {
     "data": {
      "text/latex": [
       "$$\\left[\\begin{matrix}2 & 0\\\\0 & 2\\end{matrix}\\right]$$"
      ],
      "text/plain": [
       "⎡2  0⎤\n",
       "⎢    ⎥\n",
       "⎣0  2⎦"
      ]
     },
     "execution_count": 63,
     "metadata": {},
     "output_type": "execute_result"
    }
   ],
   "source": [
    "Jz = sym.Matrix([[d2zx,d2zxy],[d2zxy,d2zy]])\n",
    "\n",
    "Jz"
   ]
  },
  {
   "cell_type": "code",
   "execution_count": 64,
   "metadata": {},
   "outputs": [
    {
     "data": {
      "text/latex": [
       "$$\\left \\{ 2 : 2\\right \\}$$"
      ],
      "text/plain": [
       "{2: 2}"
      ]
     },
     "execution_count": 64,
     "metadata": {},
     "output_type": "execute_result"
    }
   ],
   "source": [
    "Jz.eigenvals()"
   ]
  },
  {
   "cell_type": "markdown",
   "metadata": {},
   "source": [
    "Ya que la matriz jacobiana tiene valores propios positivos, entonces la mtriz es definida positiva y se tiene un mínimo"
   ]
  },
  {
   "cell_type": "markdown",
   "metadata": {},
   "source": [
    "Para encontrar la coordenada z, hay que evaluar ambos valores para obtener z,,,,,para el ejemplo  $z = 0$"
   ]
  },
  {
   "cell_type": "code",
   "execution_count": 65,
   "metadata": {},
   "outputs": [],
   "source": [
    "from mpl_toolkits.mplot3d import Axes3D"
   ]
  },
  {
   "cell_type": "code",
   "execution_count": 79,
   "metadata": {},
   "outputs": [],
   "source": [
    "# Tabular\n",
    "\n",
    "xnum = np.linspace (-8,8,1000)\n",
    "ynum = xnum\n",
    "\n",
    "X,Y = np.meshgrid(x,y)\n"
   ]
  },
  {
   "cell_type": "code",
   "execution_count": 80,
   "metadata": {},
   "outputs": [
    {
     "ename": "ValueError",
     "evalue": "Argument Z must be 2-dimensional.",
     "output_type": "error",
     "traceback": [
      "\u001b[1;31m---------------------------------------------------------------------------\u001b[0m",
      "\u001b[1;31mValueError\u001b[0m                                Traceback (most recent call last)",
      "\u001b[1;32m<ipython-input-80-41254bb528fb>\u001b[0m in \u001b[0;36m<module>\u001b[1;34m()\u001b[0m\n\u001b[0;32m      5\u001b[0m \u001b[1;31m#agragar gráficos\u001b[0m\u001b[1;33m\u001b[0m\u001b[1;33m\u001b[0m\u001b[0m\n\u001b[0;32m      6\u001b[0m \u001b[1;33m\u001b[0m\u001b[0m\n\u001b[1;32m----> 7\u001b[1;33m \u001b[0max\u001b[0m\u001b[1;33m.\u001b[0m\u001b[0mplot_surface\u001b[0m\u001b[1;33m(\u001b[0m\u001b[0mX\u001b[0m\u001b[1;33m,\u001b[0m\u001b[0mY\u001b[0m\u001b[1;33m,\u001b[0m \u001b[0mz\u001b[0m\u001b[1;33m(\u001b[0m\u001b[0mxnum\u001b[0m\u001b[1;33m,\u001b[0m\u001b[0mynum\u001b[0m\u001b[1;33m)\u001b[0m\u001b[1;33m)\u001b[0m\u001b[1;33m\u001b[0m\u001b[0m\n\u001b[0m\u001b[0;32m      8\u001b[0m \u001b[1;33m\u001b[0m\u001b[0m\n\u001b[0;32m      9\u001b[0m \u001b[0max\u001b[0m\u001b[1;33m.\u001b[0m\u001b[0mplot\u001b[0m\u001b[1;33m(\u001b[0m\u001b[1;33m[\u001b[0m\u001b[1;36m3\u001b[0m\u001b[1;33m]\u001b[0m\u001b[1;33m,\u001b[0m\u001b[1;33m[\u001b[0m\u001b[1;33m-\u001b[0m\u001b[1;36m5\u001b[0m\u001b[1;33m]\u001b[0m\u001b[1;33m,\u001b[0m\u001b[1;33m[\u001b[0m\u001b[1;36m0\u001b[0m\u001b[1;33m]\u001b[0m\u001b[1;33m,\u001b[0m \u001b[1;34m'Pk'\u001b[0m\u001b[1;33m,\u001b[0m \u001b[0mms\u001b[0m \u001b[1;33m=\u001b[0m \u001b[1;36m15\u001b[0m\u001b[1;33m)\u001b[0m\u001b[1;33m\u001b[0m\u001b[0m\n",
      "\u001b[1;32mC:\\ProgramData\\Anaconda3\\lib\\site-packages\\mpl_toolkits\\mplot3d\\axes3d.py\u001b[0m in \u001b[0;36mplot_surface\u001b[1;34m(self, X, Y, Z, *args, **kwargs)\u001b[0m\n\u001b[0;32m   1634\u001b[0m \u001b[1;33m\u001b[0m\u001b[0m\n\u001b[0;32m   1635\u001b[0m         \u001b[1;32mif\u001b[0m \u001b[0mZ\u001b[0m\u001b[1;33m.\u001b[0m\u001b[0mndim\u001b[0m \u001b[1;33m!=\u001b[0m \u001b[1;36m2\u001b[0m\u001b[1;33m:\u001b[0m\u001b[1;33m\u001b[0m\u001b[0m\n\u001b[1;32m-> 1636\u001b[1;33m             \u001b[1;32mraise\u001b[0m \u001b[0mValueError\u001b[0m\u001b[1;33m(\u001b[0m\u001b[1;34m\"Argument Z must be 2-dimensional.\"\u001b[0m\u001b[1;33m)\u001b[0m\u001b[1;33m\u001b[0m\u001b[0m\n\u001b[0m\u001b[0;32m   1637\u001b[0m         \u001b[1;31m# TODO: Support masked arrays\u001b[0m\u001b[1;33m\u001b[0m\u001b[1;33m\u001b[0m\u001b[0m\n\u001b[0;32m   1638\u001b[0m         \u001b[0mX\u001b[0m\u001b[1;33m,\u001b[0m \u001b[0mY\u001b[0m\u001b[1;33m,\u001b[0m \u001b[0mZ\u001b[0m \u001b[1;33m=\u001b[0m \u001b[0mnp\u001b[0m\u001b[1;33m.\u001b[0m\u001b[0mbroadcast_arrays\u001b[0m\u001b[1;33m(\u001b[0m\u001b[0mX\u001b[0m\u001b[1;33m,\u001b[0m \u001b[0mY\u001b[0m\u001b[1;33m,\u001b[0m \u001b[0mZ\u001b[0m\u001b[1;33m)\u001b[0m\u001b[1;33m\u001b[0m\u001b[0m\n",
      "\u001b[1;31mValueError\u001b[0m: Argument Z must be 2-dimensional."
     ]
    },
    {
     "data": {
      "image/png": "[encoded data removed]",
      "text/plain": [
       "<Figure size 720x720 with 1 Axes>"
      ]
     },
     "metadata": {},
     "output_type": "display_data"
    }
   ],
   "source": [
    "#Crear gráfica y definir tamaño\n",
    "fig = plt.figure (figsize = (10,10))\n",
    "ax = fig.add_subplot(111, projection ='3d')\n",
    "\n",
    "#agragar gráficos\n",
    "\n",
    "ax.plot_surface(X,Y, z(xnum,ynum))\n",
    "\n",
    "ax.plot([3],[-5],[0], 'Pk', ms = 15)\n",
    "\n",
    "\n",
    "\n",
    "#Definir ejes coordenados\n"
   ]
  },
  {
   "cell_type": "code",
   "execution_count": null,
   "metadata": {},
   "outputs": [],
   "source": []
  },
  {
   "cell_type": "markdown",
   "metadata": {},
   "source": [
    "### Tarea 3.\n",
    "\n",
    "1. Obtener máximos y mínimos absolutos, usando `sympy`, de las funciones dadas en los intervalos dados, y graficar la función en dicho intervalo señalando los puntos máximo y mínimo.\n",
    "\n",
    "    + $f(x)=-3x^3+9x+2$ en $[-1.8,\\,1.5]$\n",
    "    + $g(x) = x^3-6x^2+9x-4$ en el intervalo $[0, \\,2.5]$"
   ]
  },
  {
   "cell_type": "markdown",
   "metadata": {},
   "source": [
    "<script>\n",
    "  $(document).ready(function(){\n",
    "    $('div.prompt').hide();\n",
    "    $('div.back-to-top').hide();\n",
    "    $('nav#menubar').hide();\n",
    "    $('.breadcrumb').hide();\n",
    "    $('.hidden-print').hide();\n",
    "  });\n",
    "</script>\n",
    "\n",
    "<footer id=\"attribution\" style=\"float:right; color:#808080; background:#fff;\">\n",
    "Created with Jupyter by Cristian Camilo Zapata Zuluaga.\n",
    "</footer>"
   ]
  }
 ],
 "metadata": {
  "kernelspec": {
   "display_name": "Python 3",
   "language": "python",
   "name": "python3"
  },
  "language_info": {
   "codemirror_mode": {
    "name": "ipython",
    "version": 3
   },
   "file_extension": ".py",
   "mimetype": "text/x-python",
   "name": "python",
   "nbconvert_exporter": "python",
   "pygments_lexer": "ipython3",
   "version": "3.6.6"
  }
 },
 "nbformat": 4,
 "nbformat_minor": 2
}
