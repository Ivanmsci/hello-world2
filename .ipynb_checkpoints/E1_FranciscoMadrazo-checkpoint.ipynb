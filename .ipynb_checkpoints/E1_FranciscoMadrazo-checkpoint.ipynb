{
 "cells": [
  {
   "cell_type": "markdown",
   "metadata": {},
   "source": [
    "# Examen Módulo 1 - Optimización. <font color=blue>Tipo de examen 1</font>.\n",
    "Lea cuidadosamente las siguientes **indicaciones** antes de comenzar el examen:\n",
    "- Para resolver el examen edite este mismo archivo y renómbrelo de la siguiente manera: *E1ApellidoNombre*, donde *ApellidoNombre* corresponde a su apellido paterno con la inicial en mayúscula, seguido de su primer nombre con la inicial en mayúscula **sin acentos**. Por ejemplo, en mi caso el nombre del archivo sería *E1ZapataCristian*.\n",
    "- Resuelva los puntos en el espacio provisto. Si requiere agregar más celdas para código o escritura, hágalo.\n",
    "- Recuerde que también se está evaluando su capacidad de interpretar los resultados. Escriba sus interpretaciones/conclusiones en celdas utilizando *Markdown*.\n",
    "- El formato de presentación de todo el examen en general debe ser adecuado. Use tamaños de letra, colores, etiquetas, etcétera.\n",
    "- No se resuelven dudas de ningún tipo por los profesores de la asignatura. Por favor, absténgase de preguntar.\n",
    "- Revise bien el tipo de examen. Sólo se le calificará si realiza el tipo de examen asignado."
   ]
  },
  {
   "cell_type": "markdown",
   "metadata": {},
   "source": [
    "## Primer punto. Optimización de funciones escalares usando `sympy` (30 puntos).\n",
    "\n",
    "**Enunciado.** Un granjero tiene $2400$ m de cerca y desea cercar un campo rectangular de longitud $x$ y altura $y$ que limita con un río recto. No necesita cercar a lo largo del río. ¿Cuáles son las dimensiones\n",
    "del campo que tiene el área más grande?\n",
    "\n",
    "Ver la siguiente figura como ayuda"
   ]
  },
  {
   "cell_type": "code",
   "execution_count": 1,
   "metadata": {},
   "outputs": [],
   "source": [
    "import numpy as np\n",
    "import matplotlib.pyplot as plt\n",
    "%matplotlib inline"
   ]
  },
  {
   "cell_type": "code",
   "execution_count": 2,
   "metadata": {},
   "outputs": [
    {
     "data": {
      "image/png": "[encoded data removed]",
      "text/plain": [
       "<Figure size 864x576 with 1 Axes>"
      ]
     },
     "metadata": {
      "needs_background": "light"
     },
     "output_type": "display_data"
    }
   ],
   "source": [
    "xr = [-1100, -1100, 1100, 1100]\n",
    "yr = [0, 100, 100, 0]\n",
    "\n",
    "xx = [-1100, 1100]\n",
    "yx = [0, 0]\n",
    "\n",
    "xy = [1100, 1100]\n",
    "yy = [0, 100]\n",
    "\n",
    "plt.figure(figsize = (12, 8))\n",
    "plt.plot(xr, yr, 'r')\n",
    "plt.plot(xx, yx, 'b')\n",
    "#plt.plot(xy, yy, 'g')\n",
    "plt.text(-50, 5, 'Río', fontsize = 16)\n",
    "plt.text(1140, 45, '$y$', fontsize = 16, color = 'k')\n",
    "plt.text(0, 102, '$x$', fontsize = 16, color = 'k')\n",
    "plt.show()"
   ]
  },
  {
   "cell_type": "markdown",
   "metadata": {},
   "source": [
    "**Punto 1 (10 puntos).** Encuentre el área del rectángulo en función de la variable $x$, $A_R(x)$. También provea el dominio de la función para que tenga sentido (Recuerde que las áreas no pueden ser negativas).\n",
    "\n",
    "Realice este punto usando fórmulas en LaTeX, en celdas Markdown."
   ]
  },
  {
   "cell_type": "markdown",
   "metadata": {},
   "source": [
    "**Solución punto 1.**"
   ]
  },
  {
   "cell_type": "markdown",
   "metadata": {},
   "source": [
    "El perimetro esta dado por:\n",
    "\n",
    "$$2y + x = 2400$$\n",
    "\n",
    "Mientras que el área esta dada por:\n",
    "\n",
    "$$x*y = A$$\n",
    "\n",
    "Por lo tanto, depejando para la variable y desde el perimetro, tenemos que:\n",
    "\n",
    "$$y = \\frac{24000}{2} - \\frac {x}{2} $$\n",
    "\n",
    "\n",
    "Y por lo tanto en el area, susituyendo la variable y encontrada:\n",
    "\n",
    "$$A(x) = x(1200 - \\frac{x}{2})$$\n",
    " Esta es la función a maximizar\n",
    " \n",
    " \n",
    " Mientras que su dominio esta dado en $$(0,2400)$$\n",
    " \n",
    " "
   ]
  },
  {
   "cell_type": "markdown",
   "metadata": {},
   "source": [
    "**Punto 2 (15 puntos).** Usando `sympy` maximice la función $A_R(x)$ en su dominio."
   ]
  },
  {
   "cell_type": "markdown",
   "metadata": {},
   "source": [
    "**Solución punto 2.**"
   ]
  },
  {
   "cell_type": "code",
   "execution_count": 3,
   "metadata": {},
   "outputs": [],
   "source": [
    "import sympy as sym\n",
    "import numpy as np"
   ]
  },
  {
   "cell_type": "code",
   "execution_count": 4,
   "metadata": {},
   "outputs": [
    {
     "data": {
      "text/latex": [
       "$\\displaystyle x$"
      ],
      "text/plain": [
       "x"
      ]
     },
     "execution_count": 4,
     "metadata": {},
     "output_type": "execute_result"
    }
   ],
   "source": [
    "#Definición de la variable x\n",
    "\n",
    "sym.var('x')"
   ]
  },
  {
   "cell_type": "code",
   "execution_count": 5,
   "metadata": {},
   "outputs": [
    {
     "data": {
      "text/latex": [
       "$\\displaystyle - \\frac{x^{2}}{2} + 1200 x$"
      ],
      "text/plain": [
       "-x**2/2 + 1200*x"
      ]
     },
     "execution_count": 5,
     "metadata": {},
     "output_type": "execute_result"
    }
   ],
   "source": [
    "#Definicion de la funcion a maximizar\n",
    "\n",
    "def A(x):\n",
    "    return 1200*x - x**2/2\n",
    "\n",
    "A(x)"
   ]
  },
  {
   "cell_type": "code",
   "execution_count": 6,
   "metadata": {},
   "outputs": [
    {
     "data": {
      "text/latex": [
       "$\\displaystyle 1200 - x$"
      ],
      "text/plain": [
       "1200 - x"
      ]
     },
     "execution_count": 6,
     "metadata": {},
     "output_type": "execute_result"
    }
   ],
   "source": [
    "#Primera derivada de la funcion\n",
    "\n",
    "dA = sym.diff (A(x),x)\n",
    "dA"
   ]
  },
  {
   "cell_type": "code",
   "execution_count": 7,
   "metadata": {},
   "outputs": [
    {
     "data": {
      "text/plain": [
       "[1200]"
      ]
     },
     "execution_count": 7,
     "metadata": {},
     "output_type": "execute_result"
    }
   ],
   "source": [
    "#Solución de a primera derivada para encontrar el punto crítico\n",
    "\n",
    "xc = sym.solve(dA,x)\n",
    "\n",
    "xc"
   ]
  },
  {
   "cell_type": "markdown",
   "metadata": {},
   "source": [
    "El punto crítico es $1200$, que ademas entra en el dominio de la función."
   ]
  },
  {
   "cell_type": "code",
   "execution_count": 8,
   "metadata": {},
   "outputs": [
    {
     "data": {
      "text/latex": [
       "$\\displaystyle -1$"
      ],
      "text/plain": [
       "-1"
      ]
     },
     "execution_count": 8,
     "metadata": {},
     "output_type": "execute_result"
    }
   ],
   "source": [
    "#Segunda derivada de la función\n",
    "\n",
    "dA2 = sym.diff (A(x),x,2)\n",
    "dA2"
   ]
  },
  {
   "cell_type": "markdown",
   "metadata": {},
   "source": [
    "Por lo tanto, dado que el criterio de la segunda derivada es negativo, el punto que se tiene corresponde a un máximo, falta comprobar que se trata de un máximo global."
   ]
  },
  {
   "cell_type": "code",
   "execution_count": 9,
   "metadata": {},
   "outputs": [
    {
     "data": {
      "text/plain": [
       "(0.0, 720000, 0.0)"
      ]
     },
     "execution_count": 9,
     "metadata": {},
     "output_type": "execute_result"
    }
   ],
   "source": [
    "#Evaluaciones de la función en los extremos y en xc\n",
    "\n",
    "A(0), A(xc[0]), A(2400)"
   ]
  },
  {
   "cell_type": "markdown",
   "metadata": {},
   "source": [
    "Evaluando la función tanto en los extremos de su dominio, como en el punto crítico, podemos comprobar que el  punto crítico en efecto corresponde a un máximo global"
   ]
  },
  {
   "cell_type": "markdown",
   "metadata": {},
   "source": []
  },
  {
   "cell_type": "markdown",
   "metadata": {},
   "source": [
    "**Punto 3 (5 puntos).** ¿Cuáles son las dimensiones $x$ y $y$ del rectángulo resultante?"
   ]
  },
  {
   "cell_type": "markdown",
   "metadata": {},
   "source": [
    "**Solución punto 3.**"
   ]
  },
  {
   "cell_type": "markdown",
   "metadata": {},
   "source": [
    "Las dimensiones del rectagulo son:\n",
    "\n",
    "$$x = 1200 \\;\\;\\; ; \\;\\;\\; y = 600 $$\n",
    "\n",
    "con un área total: \n",
    "\n",
    "$$A=720000m^2$$"
   ]
  },
  {
   "cell_type": "markdown",
   "metadata": {},
   "source": [
    "---"
   ]
  },
  {
   "cell_type": "markdown",
   "metadata": {},
   "source": [
    "## Segundo punto. Programación lineal (35 puntos)."
   ]
  },
  {
   "cell_type": "markdown",
   "metadata": {},
   "source": [
    "**Enunciado.** Una compañía aérea dispone de dos tipos de aviones $A_1$, y $A_2$., para cubrir un determinado\n",
    "trayecto. El avión $A_1$, debe hacer el trayecto más veces que el avión $A_2$ pero no puede sobrepasar $120$\n",
    "viajes. Entre los dos aviones deben hacer más de $60$ vuelos, pero menos de $200$. En cada viaje del avión $A_1$ la empresa gana $\\$30000$ y $\\$20000$ por cada viaje del avión $A_2$. ¿Cuántos viajes debe hacer cada avión para obtener el máximo de ganancias?"
   ]
  },
  {
   "cell_type": "markdown",
   "metadata": {},
   "source": [
    "*Definición de variables*: Sea $x_1$ la cantidad de viajes del avión $A_1$ y $x_2$ la cantidad de e viajes del avión $A_2$."
   ]
  },
  {
   "cell_type": "markdown",
   "metadata": {},
   "source": [
    "**Punto 1 (20 puntos).** Escriba la función a minimizar junto con las restricciones, explicando detalladamente cada paso (usando fórmulas en LaTeX, en celdas Markdown). Además escriba el problema en la forma \n",
    "\\begin{equation}\n",
    "\\begin{array}{ll}\n",
    "\\min_{\\boldsymbol{x}} & \\boldsymbol{c}^T\\boldsymbol{x} \\\\\n",
    "\\text{s. a. }        & \\boldsymbol{A}_{eq}\\boldsymbol{x}=\\boldsymbol{b}_{eq} \\\\\n",
    "                     & \\boldsymbol{A}\\boldsymbol{x}\\leq\\boldsymbol{b},\n",
    "\\end{array}\n",
    "\\end{equation}\n",
    "\n",
    "proporcionando $\\boldsymbol{c}$, $\\boldsymbol{A}$ y $\\boldsymbol{b}$ ($\\boldsymbol{A}_{eq}$ y $\\boldsymbol{b}_{eq}$, de ser necesario) como arreglos de `NumPy` (no es necesario escribir en LaTeX el problema en la forma indicada, solo proporcionar las matrices como arreglos de `NumPy`). Adicionalmente, si se requiere, recuerde escribir las cotas (límites superiores e inferiores) para cada una de las variables."
   ]
  },
  {
   "cell_type": "markdown",
   "metadata": {},
   "source": [
    "**Solución punto 1.**"
   ]
  },
  {
   "cell_type": "markdown",
   "metadata": {},
   "source": [
    "La función objetivo es:\n",
    "\n",
    "$$30000*x_1 + 20000*x_2$$\n",
    "\n",
    "\n",
    "Las restricciones quedarian como sigue:\n",
    "\n",
    "$$x_1>x_2$$\n",
    "\n",
    "$$x_1 \\leq 120$$\n",
    "\n",
    "$$x_1+x_2 > 60$$\n",
    "\n",
    "$$x_1 + x_2 < 200$$\n",
    "\n",
    "\n",
    "Llevando a cabo los despejes y cambiando de signo las desigualdades que son $\\geq$ o $>$, se obtienen las funciones para ingresarlas a las matrices:\n",
    "\n",
    "$$-x_1 + x_2 < 0$$\n",
    "\n",
    "$$x_1 \\leq 120$$\n",
    "\n",
    "$$-x_1 - x_2 < -60$$\n",
    "\n",
    "$$x_1 + x_2 < 200$$"
   ]
  },
  {
   "cell_type": "code",
   "execution_count": 33,
   "metadata": {},
   "outputs": [],
   "source": [
    "# Escriba acá las matrices como arreglos de Numpy\n",
    "\n",
    "#Funcion objetivo\n",
    "\n",
    "c = -np.array([30000,20000])\n",
    "\n",
    "\n",
    "#Matrices de desigualdad (restricciones)\n",
    "\n",
    "A = np.array([[-1,1],[1,0],[-1,-1],[1,1]])\n",
    "\n",
    "b = np.array([0,120,-60,200])"
   ]
  },
  {
   "cell_type": "markdown",
   "metadata": {},
   "source": [
    "**Punto 2 (15 puntos).** Resuelva el problema utilizando la función `linprog`. ¿Cuántos será la ganancia total?, ¿Cuántos viajes debe hacer cada avión?"
   ]
  },
  {
   "cell_type": "code",
   "execution_count": 34,
   "metadata": {},
   "outputs": [],
   "source": [
    "import scipy.optimize as opt"
   ]
  },
  {
   "cell_type": "code",
   "execution_count": 35,
   "metadata": {},
   "outputs": [
    {
     "data": {
      "text/plain": [
       "     con: array([], dtype=float64)\n",
       "     fun: -5199999.987158018\n",
       " message: 'Optimization terminated successfully.'\n",
       "     nit: 6\n",
       "   slack: array([3.99999999e+01, 2.96189015e-07, 1.40000000e+02, 4.94004610e-07])\n",
       "  status: 0\n",
       " success: True\n",
       "       x: array([119.9999997,  79.9999998])"
      ]
     },
     "execution_count": 35,
     "metadata": {},
     "output_type": "execute_result"
    }
   ],
   "source": [
    "#Solución del problema de optimización, mediante la función de linprog\n",
    "\n",
    "sol = opt.linprog(c,A,b)\n",
    "sol"
   ]
  },
  {
   "cell_type": "markdown",
   "metadata": {},
   "source": [
    "El avion $A_1$ debe realizar 120 viajes, mientras que el avion $A_2$ requiere de 80 viajes, obteniendo una ganancia total de $5,200,000$\n",
    "\n",
    "**Nota: los valores fueron redondeados, el valor negativo se debe a que python solo puede minimizar y por tanto, se toma el valor como positivo (5,200,000).**"
   ]
  },
  {
   "cell_type": "markdown",
   "metadata": {},
   "source": [
    "## Tercer punto. Ajuste de curvas (35 puntos).\n",
    "\n",
    "**Enunciado**. El archivo `renewable_energy.csv` contiene información histórica anual de México relativa al consumo de energías de fuentes renovables en porcentaje desde el año 1990 hasta el año 2015. La primer columna corresponde al consecutivo, la segunda a los años, y la tercera al consumo.\n",
    "\n",
    "Tomado de: https://data.worldbank.org/indicator/EG.FEC.RNEW.ZS?view=chart\n",
    "\n",
    "**Punto 1 (10 puntos).** Importar los datos en un DataFrame de pandas."
   ]
  },
  {
   "cell_type": "markdown",
   "metadata": {},
   "source": [
    "**Solución punto 1.**"
   ]
  },
  {
   "cell_type": "code",
   "execution_count": 13,
   "metadata": {},
   "outputs": [],
   "source": [
    "import pandas as pd"
   ]
  },
  {
   "cell_type": "code",
   "execution_count": 14,
   "metadata": {},
   "outputs": [
    {
     "data": {
      "text/html": [
       "<div>\n",
       "<style scoped>\n",
       "    .dataframe tbody tr th:only-of-type {\n",
       "        vertical-align: middle;\n",
       "    }\n",
       "\n",
       "    .dataframe tbody tr th {\n",
       "        vertical-align: top;\n",
       "    }\n",
       "\n",
       "    .dataframe thead th {\n",
       "        text-align: right;\n",
       "    }\n",
       "</style>\n",
       "<table border=\"1\" class=\"dataframe\">\n",
       "  <thead>\n",
       "    <tr style=\"text-align: right;\">\n",
       "      <th></th>\n",
       "      <th>Consecutivo</th>\n",
       "      <th>Year</th>\n",
       "      <th>% of total final energy consumption</th>\n",
       "    </tr>\n",
       "  </thead>\n",
       "  <tbody>\n",
       "    <tr>\n",
       "      <td>0</td>\n",
       "      <td>1</td>\n",
       "      <td>1990</td>\n",
       "      <td>14.413302</td>\n",
       "    </tr>\n",
       "    <tr>\n",
       "      <td>1</td>\n",
       "      <td>2</td>\n",
       "      <td>1991</td>\n",
       "      <td>13.195512</td>\n",
       "    </tr>\n",
       "    <tr>\n",
       "      <td>2</td>\n",
       "      <td>3</td>\n",
       "      <td>1992</td>\n",
       "      <td>13.427092</td>\n",
       "    </tr>\n",
       "    <tr>\n",
       "      <td>3</td>\n",
       "      <td>4</td>\n",
       "      <td>1993</td>\n",
       "      <td>13.303969</td>\n",
       "    </tr>\n",
       "    <tr>\n",
       "      <td>4</td>\n",
       "      <td>5</td>\n",
       "      <td>1994</td>\n",
       "      <td>11.863103</td>\n",
       "    </tr>\n",
       "    <tr>\n",
       "      <td>5</td>\n",
       "      <td>6</td>\n",
       "      <td>1995</td>\n",
       "      <td>13.261833</td>\n",
       "    </tr>\n",
       "    <tr>\n",
       "      <td>6</td>\n",
       "      <td>7</td>\n",
       "      <td>1996</td>\n",
       "      <td>13.064724</td>\n",
       "    </tr>\n",
       "    <tr>\n",
       "      <td>7</td>\n",
       "      <td>8</td>\n",
       "      <td>1997</td>\n",
       "      <td>12.699777</td>\n",
       "    </tr>\n",
       "    <tr>\n",
       "      <td>8</td>\n",
       "      <td>9</td>\n",
       "      <td>1998</td>\n",
       "      <td>12.238453</td>\n",
       "    </tr>\n",
       "    <tr>\n",
       "      <td>9</td>\n",
       "      <td>10</td>\n",
       "      <td>1999</td>\n",
       "      <td>12.748461</td>\n",
       "    </tr>\n",
       "    <tr>\n",
       "      <td>10</td>\n",
       "      <td>11</td>\n",
       "      <td>2000</td>\n",
       "      <td>12.167360</td>\n",
       "    </tr>\n",
       "    <tr>\n",
       "      <td>11</td>\n",
       "      <td>12</td>\n",
       "      <td>2001</td>\n",
       "      <td>11.343885</td>\n",
       "    </tr>\n",
       "    <tr>\n",
       "      <td>12</td>\n",
       "      <td>13</td>\n",
       "      <td>2002</td>\n",
       "      <td>10.682781</td>\n",
       "    </tr>\n",
       "    <tr>\n",
       "      <td>13</td>\n",
       "      <td>14</td>\n",
       "      <td>2003</td>\n",
       "      <td>10.169039</td>\n",
       "    </tr>\n",
       "    <tr>\n",
       "      <td>14</td>\n",
       "      <td>15</td>\n",
       "      <td>2004</td>\n",
       "      <td>10.213293</td>\n",
       "    </tr>\n",
       "    <tr>\n",
       "      <td>15</td>\n",
       "      <td>16</td>\n",
       "      <td>2005</td>\n",
       "      <td>10.305756</td>\n",
       "    </tr>\n",
       "    <tr>\n",
       "      <td>16</td>\n",
       "      <td>17</td>\n",
       "      <td>2006</td>\n",
       "      <td>9.824107</td>\n",
       "    </tr>\n",
       "    <tr>\n",
       "      <td>17</td>\n",
       "      <td>18</td>\n",
       "      <td>2007</td>\n",
       "      <td>9.456580</td>\n",
       "    </tr>\n",
       "    <tr>\n",
       "      <td>18</td>\n",
       "      <td>19</td>\n",
       "      <td>2008</td>\n",
       "      <td>9.769618</td>\n",
       "    </tr>\n",
       "    <tr>\n",
       "      <td>19</td>\n",
       "      <td>20</td>\n",
       "      <td>2009</td>\n",
       "      <td>9.168405</td>\n",
       "    </tr>\n",
       "    <tr>\n",
       "      <td>20</td>\n",
       "      <td>21</td>\n",
       "      <td>2010</td>\n",
       "      <td>9.359978</td>\n",
       "    </tr>\n",
       "    <tr>\n",
       "      <td>21</td>\n",
       "      <td>22</td>\n",
       "      <td>2011</td>\n",
       "      <td>9.066472</td>\n",
       "    </tr>\n",
       "    <tr>\n",
       "      <td>22</td>\n",
       "      <td>23</td>\n",
       "      <td>2012</td>\n",
       "      <td>8.964824</td>\n",
       "    </tr>\n",
       "    <tr>\n",
       "      <td>23</td>\n",
       "      <td>24</td>\n",
       "      <td>2013</td>\n",
       "      <td>9.231363</td>\n",
       "    </tr>\n",
       "    <tr>\n",
       "      <td>24</td>\n",
       "      <td>25</td>\n",
       "      <td>2014</td>\n",
       "      <td>9.758462</td>\n",
       "    </tr>\n",
       "    <tr>\n",
       "      <td>25</td>\n",
       "      <td>26</td>\n",
       "      <td>2015</td>\n",
       "      <td>9.215213</td>\n",
       "    </tr>\n",
       "  </tbody>\n",
       "</table>\n",
       "</div>"
      ],
      "text/plain": [
       "    Consecutivo  Year  % of total final energy consumption\n",
       "0             1  1990                            14.413302\n",
       "1             2  1991                            13.195512\n",
       "2             3  1992                            13.427092\n",
       "3             4  1993                            13.303969\n",
       "4             5  1994                            11.863103\n",
       "5             6  1995                            13.261833\n",
       "6             7  1996                            13.064724\n",
       "7             8  1997                            12.699777\n",
       "8             9  1998                            12.238453\n",
       "9            10  1999                            12.748461\n",
       "10           11  2000                            12.167360\n",
       "11           12  2001                            11.343885\n",
       "12           13  2002                            10.682781\n",
       "13           14  2003                            10.169039\n",
       "14           15  2004                            10.213293\n",
       "15           16  2005                            10.305756\n",
       "16           17  2006                             9.824107\n",
       "17           18  2007                             9.456580\n",
       "18           19  2008                             9.769618\n",
       "19           20  2009                             9.168405\n",
       "20           21  2010                             9.359978\n",
       "21           22  2011                             9.066472\n",
       "22           23  2012                             8.964824\n",
       "23           24  2013                             9.231363\n",
       "24           25  2014                             9.758462\n",
       "25           26  2015                             9.215213"
      ]
     },
     "execution_count": 14,
     "metadata": {},
     "output_type": "execute_result"
    }
   ],
   "source": [
    "archivo = 'renewable_energy.csv'\n",
    "data = pd.read_csv(archivo)\n",
    "data"
   ]
  },
  {
   "cell_type": "markdown",
   "metadata": {},
   "source": [
    "**Punto 2 (15 puntos).** Usando el consecutivo como variable independiente $x$ y el consumo de energías renovables como variable dependiente $y$, ajustar polinomios de grado 1 hasta grado 3.\n",
    "\n",
    "Mostrar en un solo gráfico los datos de consumo contra los años, y los polinomios ajustados.\n",
    "\n",
    "Graficar el error cuadrático acumulado contra el número de términos. ¿Cuál es el polinomio que mejor se ajusta?"
   ]
  },
  {
   "cell_type": "markdown",
   "metadata": {},
   "source": [
    "**Solución punto 2.**"
   ]
  },
  {
   "cell_type": "code",
   "execution_count": 15,
   "metadata": {},
   "outputs": [],
   "source": [
    "import numpy as np\n",
    "import scipy.optimize  as opt\n",
    "import matplotlib.pyplot as plt\n"
   ]
  },
  {
   "cell_type": "code",
   "execution_count": 16,
   "metadata": {},
   "outputs": [],
   "source": [
    "\n",
    "#Definición de variable, mediante los datos de la tabla\n",
    "\n",
    "x = data.iloc[:,0]\n",
    "y = data.iloc[:,2]"
   ]
  },
  {
   "cell_type": "code",
   "execution_count": 17,
   "metadata": {},
   "outputs": [],
   "source": [
    "def fun_obj(beta,x,y,n):\n",
    "    return np.sum((y-beta.dot([x**i for i in range(n+1)]))**2)"
   ]
  },
  {
   "cell_type": "code",
   "execution_count": 18,
   "metadata": {},
   "outputs": [],
   "source": [
    "#Generar los distintos ajustes de grado 1 hasta 3, junto a sus betas iniciales\n",
    "\n",
    "b01 = np.zeros(2)\n",
    "ajuste1 = opt.minimize(fun_obj, b01, args=(x,y,1))\n",
    "b02 = np.zeros(3)\n",
    "ajuste2 = opt.minimize(fun_obj, b02, args=(x,y,2))\n",
    "b03 = np.zeros(4)\n",
    "ajuste3 = opt.minimize(fun_obj, b03, args=(x,y,3))"
   ]
  },
  {
   "cell_type": "code",
   "execution_count": 19,
   "metadata": {},
   "outputs": [
    {
     "data": {
      "text/plain": [
       "      fun: 8.127439608947885\n",
       " hess_inv: array([[ 0.081543  , -0.00461618],\n",
       "       [-0.00461618,  0.00034202]])\n",
       "      jac: array([-1.19209290e-07, -1.90734863e-06])\n",
       "  message: 'Optimization terminated successfully.'\n",
       "     nfev: 28\n",
       "      nit: 6\n",
       "     njev: 7\n",
       "   status: 0\n",
       "  success: True\n",
       "        x: array([14.00697767, -0.21443891])"
      ]
     },
     "execution_count": 19,
     "metadata": {},
     "output_type": "execute_result"
    }
   ],
   "source": [
    "ajuste1"
   ]
  },
  {
   "cell_type": "code",
   "execution_count": 20,
   "metadata": {},
   "outputs": [
    {
     "data": {
      "text/plain": [
       "      fun: 6.773933447387343\n",
       " hess_inv: array([[ 2.02692325e-01, -3.05769267e-02,  9.61538588e-04],\n",
       "       [-3.05769267e-02,  5.90506783e-03, -2.06043979e-04],\n",
       "       [ 9.61538588e-04, -2.06043979e-04,  7.63125843e-06]])\n",
       "      jac: array([ 0.00000000e+00, -5.96046448e-08,  0.00000000e+00])\n",
       "  message: 'Optimization terminated successfully.'\n",
       "     nfev: 40\n",
       "      nit: 5\n",
       "     njev: 8\n",
       "   status: 0\n",
       "  success: True\n",
       "        x: array([ 1.45796249e+01, -3.37149024e-01,  4.54481905e-03])"
      ]
     },
     "execution_count": 20,
     "metadata": {},
     "output_type": "execute_result"
    }
   ],
   "source": [
    "ajuste2"
   ]
  },
  {
   "cell_type": "code",
   "execution_count": 21,
   "metadata": {},
   "outputs": [
    {
     "data": {
      "text/plain": [
       "      fun: 4.722277479350717\n",
       " hess_inv: array([[ 4.16555249e-01, -1.17530679e-01,  8.86287794e-03,\n",
       "        -1.95094799e-04],\n",
       "       [-1.17530679e-01,  4.12592791e-02, -3.41862094e-03,\n",
       "         7.93228880e-05],\n",
       "       [ 8.86287794e-03, -3.41862094e-03,  2.99552663e-04,\n",
       "        -7.20793605e-06],\n",
       "       [-1.95094799e-04,  7.93228880e-05, -7.20793605e-06,\n",
       "         1.77973736e-07]])\n",
       "      jac: array([5.96046448e-08, 0.00000000e+00, 5.96046448e-08, 0.00000000e+00])\n",
       "  message: 'Optimization terminated successfully.'\n",
       "     nfev: 54\n",
       "      nit: 6\n",
       "     njev: 9\n",
       "   status: 0\n",
       "  success: True\n",
       "        x: array([ 1.36463465e+01,  4.23092405e-02, -2.99359071e-02,  8.51375954e-04])"
      ]
     },
     "execution_count": 21,
     "metadata": {},
     "output_type": "execute_result"
    }
   ],
   "source": [
    "ajuste3"
   ]
  },
  {
   "cell_type": "code",
   "execution_count": 22,
   "metadata": {},
   "outputs": [],
   "source": [
    "\n",
    "xpoints = x\n",
    "ypoints = y\n",
    "\n",
    "yhat1 = (ajuste1.x[0]+ajuste1.x[1]*xpoints)\n",
    "\n",
    "yhat2 = (ajuste2.x[0]+ajuste2.x[1]*xpoints+ajuste2.x[2]*(xpoints**2))\n",
    "\n",
    "yhat3 = (ajuste3.x[0]+ajuste3.x[1]*xpoints+ajuste3.x[2]*(xpoints**2)+ajuste3.x[3]*(xpoints**3))"
   ]
  },
  {
   "cell_type": "code",
   "execution_count": 26,
   "metadata": {},
   "outputs": [
    {
     "data": {
      "image/png": "[encoded data removed]",
      "text/plain": [
       "<Figure size 576x432 with 1 Axes>"
      ]
     },
     "metadata": {
      "needs_background": "light"
     },
     "output_type": "display_data"
    }
   ],
   "source": [
    "#Crear la figura\n",
    "\n",
    "plt.figure(figsize=(8,6))\n",
    "\n",
    "#Graficar los datos\n",
    "\n",
    "plt.plot(xpoints+1989, ypoints, 'pk', ms=5, label='Datos')\n",
    "plt.plot(xpoints+1989, yhat1, ':b', lw=2, label='Grado 1')\n",
    "plt.plot(xpoints+1989, yhat2, ':k', lw=2, label='Grado 2')\n",
    "plt.plot(xpoints+1989, yhat3, 'r', lw=2, label='Grado 3')\n",
    "\n",
    "#Mostrar las etiquetas, los ejes, el  mallado y la figura\n",
    "\n",
    "plt.grid()\n",
    "plt.xlabel('Años')\n",
    "plt.ylabel('% of total final energy consumption')\n",
    "plt.legend(loc = 'best')\n",
    "\n",
    "\n",
    "plt.show()"
   ]
  },
  {
   "cell_type": "markdown",
   "metadata": {},
   "source": [
    "**Punto 3 (10 puntos).** Con los polinomios ajustados en el punto anterior, estime el consumo en el año 2015 y compare con el dato real $9.215\\%$.\n",
    "\n",
    "¿Cuál polinomio estima mejor este dato? ¿Es el polinomio que mejor se ajusta? Concluya."
   ]
  },
  {
   "cell_type": "code",
   "execution_count": 32,
   "metadata": {},
   "outputs": [
    {
     "data": {
      "text/plain": [
       "(8.43156603350928, 8.886047940631927, 9.473497346116204, 9.215213455)"
      ]
     },
     "execution_count": 32,
     "metadata": {},
     "output_type": "execute_result"
    }
   ],
   "source": [
    "#Evaluacion de las distintas funciones ajustadas.\n",
    "\n",
    "yhat1[25],yhat2[25],yhat3[25], data.iloc[25,2]"
   ]
  },
  {
   "cell_type": "markdown",
   "metadata": {
    "collapsed": true
   },
   "source": [
    "**Solución punto 3.**"
   ]
  },
  {
   "cell_type": "markdown",
   "metadata": {},
   "source": [
    "El polinomio que mas se acerca al valor real y por tanto que produce el mejor ajuste es el de orden orden 3, con un valor estimado de 9.4734, contra el valor real de 9.215"
   ]
  },
  {
   "cell_type": "markdown",
   "metadata": {},
   "source": [
    "Como dato adicional, el porcentaje de error entre las mediciones se puede tomar como sigue:\n",
    "\n",
    "$$ e_r = \\frac{(valor \\; real)-(valor\\; medido)}{valor\\; real}*100$$\n",
    "\n",
    "\n",
    "$$e_r = \\frac{|(0.09215)-(0.09473)|}{0.09215}*100 =  2.72\\% $$\n",
    "\n",
    "\n",
    "Por lo tanto el error no es tan relevante para el polinomio de grado 3 y este puede ser utilizado para predecir valores futuros.\n"
   ]
  },
  {
   "cell_type": "code",
   "execution_count": null,
   "metadata": {},
   "outputs": [],
   "source": []
  }
 ],
 "metadata": {
  "kernelspec": {
   "display_name": "Python 3",
   "language": "python",
   "name": "python3"
  },
  "language_info": {
   "codemirror_mode": {
    "name": "ipython",
    "version": 3
   },
   "file_extension": ".py",
   "mimetype": "text/x-python",
   "name": "python",
   "nbconvert_exporter": "python",
   "pygments_lexer": "ipython3",
   "version": "3.7.4"
  }
 },
 "nbformat": 4,
 "nbformat_minor": 2
}
