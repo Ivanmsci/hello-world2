{
 "cells": [
  {
   "cell_type": "markdown",
   "metadata": {},
   "source": [
    "# Cálculo de la carga encerrada en una esfera doble polarizada por integración Montecarlo"
   ]
  },
  {
   "cell_type": "markdown",
   "metadata": {},
   "source": [
    "## 1.2 Objetivos.\n",
    "\n",
    "### 1.1 Objetivo General.\n",
    "\n",
    "* Hacer uso de la integración Montecarlo para obtener la carga encerrada y poder obtener el campo eléctrico en una esfera doble polarizada de cierta forma.\n",
    "\n",
    "### 1.2 Objetivos específicos.\n",
    "\n",
    "* Utilizar el material visto en clase acerca del método Montecarlo, con el módulo random de la libreria numpy en específico para el cálculo de integrales, en este caso siendo integrales dobles y triples.\n",
    "\n",
    "* Utilizar la librería pandas para el acomodo de los ajustes realizados por la integración Montecarlo para observar como afecta el número de iteraciones al resultado de la integral y compararlos al resultado real.\n"
   ]
  },
  {
   "cell_type": "markdown",
   "metadata": {},
   "source": [
    "## 1.3 Modelo que representa el problema\n",
    "\n",
    "\n"
   ]
  },
  {
   "cell_type": "markdown",
   "metadata": {},
   "source": [
    "## 1.4-1.5 Solución y visualización del problema\n",
    "\n",
    "* Encontrar el campo eléctrico **E**  en todos los puntos del espacio debido a un cascarón esférico hueco de radio interior $a=0.5m$ y radio exterior $b=1 m$ que posee la polarización dada por:\n",
    "\n",
    "$$\\overrightarrow { P } =\\frac{{ P }_{ 0 }\\widehat { r }}{r} $$\n",
    "\n",
    "$$P_0=5 [Cm^2]$$ \n"
   ]
  },
  {
   "cell_type": "markdown",
   "metadata": {},
   "source": [
    "> Solución utilizando la ley de Gauss por la simetría y características del problema dada una polarización:\n",
    "\n",
    "$$\\oint { \\vec { E } \\cdot d\\vec { a } =\\frac { { Q }_{ e } }{ {\\varepsilon}_{ 0 } }} $$\n",
    "\n",
    "* Al ser radial tanto el vector del diferencial de área como el del campo eléctrico y tener una simetría esférica altamente simétrica se tendrá:\n",
    "$$EA\\cos{0}=\\frac{Q_e}{\\varepsilon_0}$$\n",
    "\n",
    "$$\\vec{E}=\\frac{Q_e}{4\\pi r^2 \\varepsilon_0}  \\hat{r}$$\n",
    "\n",
    "* En donde la carga encerrada debido a las polarizaciones conocidas como densidades de carga volumétrica/superficiales ligadas se obtienen de la siguiente manera general a analizar para cada uno de los casos:\n",
    "\n",
    "$$Q_e= \\int_{\\tau}^{} \\rho_b d \\tau  +\\oint_{S}^{}\\sigma_{ab} d S $$\n",
    "\n",
    "* En donde las expresiones de densidades de carga volumétrica y superficial ligadas son las siguientes:\n",
    "\n",
    "$$\\sigma_{ab}=\\overrightarrow{P}\\cdot\\hat{n}$$\n",
    "\n",
    "$$\\rho_b=-\\triangledown\\cdot\\overrightarrow{P}$$\n",
    "\n",
    "* Finalmente se obtiene la expresión a integrar para los distintos casos: (la primera tratándose de una integral triple y la segunda de una integral doble):\n",
    "\n",
    "$$Q_e= \\int_{\\tau}^{} -\\triangledown\\cdot\\overrightarrow{P} d \\tau  +\\oint_{S}^{}\\overrightarrow{P}\\cdot\\hat{n} d S $$\n",
    "\n",
    "\n"
   ]
  },
  {
   "cell_type": "code",
   "execution_count": 1,
   "metadata": {},
   "outputs": [],
   "source": [
    "import numpy as np\n",
    "import pandas as pd\n",
    "import sympy as sym\n",
    "import matplotlib.pyplot as plt\n",
    "%matplotlib inline\n"
   ]
  },
  {
   "cell_type": "markdown",
   "metadata": {},
   "source": [
    "> Para el cálculo de la densidad de carga volumétrica de polarización se tiene que la divergencia en coordenadas esféricas tomando en cuenta que solo hay un vector radial sin componentes angulares quedará de la siguiente manera para el cálculo de la de cargas ligadas:\n",
    "\n",
    "$$-\\triangledown\\cdot\\overrightarrow{P}= -(\\frac{1}{r^2}\\frac{\\partial{}}{\\partial{r}}(r^2 P_r)$$\n",
    "\n",
    "$$-\\triangledown\\cdot\\overrightarrow{P}= -(\\frac{1}{r^2}\\frac{\\partial{}}{\\partial{r}}(r^2 \\frac{P_0}{r})=\\rho_b$$"
   ]
  },
  {
   "cell_type": "markdown",
   "metadata": {},
   "source": [
    "Por lo que la densidad de carga volumétrica de polarización es de $\\rho_b=-\\frac{5}{r^2 }$"
   ]
  },
  {
   "cell_type": "markdown",
   "metadata": {},
   "source": [
    "> Para el cálculo de la densidad de carga superficial de polarización se tiene en cuenta que el vector normal será igual al unitario radial (cambiando el signo dependiendo del radio usado ya que va perpendicular a la superficial) y que hay dos distintas densidades de cargas superficiales, una para el radio interior a y otra para el radio exterior b quedando:\n",
    "\n",
    "$$\\sigma_a=\\frac{P_0}{0.5} \\hat{r} \\cdot \\hat{-r}$$\n",
    "\n",
    "$$\\sigma_b=\\frac{P_0}{1} \\hat{r} \\cdot \\hat{r}$$\n",
    "\n",
    "Como el producto punto entre $\\hat {r} y \\hat {r}$ es igual a 1 quedarán de la siguiente manera:\n",
    "\n",
    "$$\\sigma_a=-\\frac{5}{0.5} $$\n",
    "\n",
    "$$\\sigma_b=\\frac{5}{1} $$"
   ]
  },
  {
   "cell_type": "markdown",
   "metadata": {},
   "source": [
    "* a)Caso para r<a, específicamente *r=0.25m*:"
   ]
  },
  {
   "cell_type": "markdown",
   "metadata": {},
   "source": [
    "La carga encerrada es 0 (es hueca la esfera polarizada) por lo que el campo eléctrico es 0."
   ]
  },
  {
   "cell_type": "markdown",
   "metadata": {},
   "source": [
    "* b) Caso para a<r<b, específicamente *r=0.75m*:\n",
    "\n",
    "$$Q_e= \\int_{0.5}^{0.75} \\int_{0}^{\\pi} \\int_{0}^{2\\pi} -\\frac{5}{0.75^2}0.75^2\\sin{\\theta} d \\varphi d \\theta d r +\\int_{0}^{\\pi} \\int_{0}^{2\\pi} -\\frac{5}{0.5}0.5^2\\sin{\\theta} d \\varphi d \\theta$$"
   ]
  },
  {
   "cell_type": "code",
   "execution_count": 32,
   "metadata": {},
   "outputs": [],
   "source": [
    "def integral(r,theta):\n",
    "    return ((-5*r**2)/(r**2))*np.sin(theta)"
   ]
  },
  {
   "cell_type": "code",
   "execution_count": 35,
   "metadata": {},
   "outputs": [],
   "source": [
    "def MC(integral,a1,b1,a2,b2,a3,b3,N):\n",
    "    V=(b1-a1)*(b2-a2)*(b3-a3)\n",
    "    r=np.random.uniform(a1,b1,N)\n",
    "    theta=np.random.uniform(a2,b2,N)\n",
    "    return V*np.mean(integral(r,theta))"
   ]
  },
  {
   "cell_type": "code",
   "execution_count": null,
   "metadata": {},
   "outputs": [],
   "source": []
  },
  {
   "cell_type": "code",
   "execution_count": 36,
   "metadata": {},
   "outputs": [
    {
     "data": {
      "text/html": [
       "<div>\n",
       "<style scoped>\n",
       "    .dataframe tbody tr th:only-of-type {\n",
       "        vertical-align: middle;\n",
       "    }\n",
       "\n",
       "    .dataframe tbody tr th {\n",
       "        vertical-align: top;\n",
       "    }\n",
       "\n",
       "    .dataframe thead th {\n",
       "        text-align: right;\n",
       "    }\n",
       "</style>\n",
       "<table border=\"1\" class=\"dataframe\">\n",
       "  <thead>\n",
       "    <tr style=\"text-align: right;\">\n",
       "      <th></th>\n",
       "      <th>Aprox integral triple</th>\n",
       "    </tr>\n",
       "  </thead>\n",
       "  <tbody>\n",
       "    <tr>\n",
       "      <td>10</td>\n",
       "      <td>-15.278</td>\n",
       "    </tr>\n",
       "    <tr>\n",
       "      <td>100</td>\n",
       "      <td>-15.6647</td>\n",
       "    </tr>\n",
       "    <tr>\n",
       "      <td>1000</td>\n",
       "      <td>-16.0115</td>\n",
       "    </tr>\n",
       "    <tr>\n",
       "      <td>10000</td>\n",
       "      <td>-15.8633</td>\n",
       "    </tr>\n",
       "    <tr>\n",
       "      <td>100000</td>\n",
       "      <td>-15.7293</td>\n",
       "    </tr>\n",
       "    <tr>\n",
       "      <td>1000000</td>\n",
       "      <td>-15.715</td>\n",
       "    </tr>\n",
       "    <tr>\n",
       "      <td>10000000</td>\n",
       "      <td>-15.7092</td>\n",
       "    </tr>\n",
       "  </tbody>\n",
       "</table>\n",
       "</div>"
      ],
      "text/plain": [
       "         Aprox integral triple\n",
       "10                     -15.278\n",
       "100                   -15.6647\n",
       "1000                  -16.0115\n",
       "10000                 -15.8633\n",
       "100000                -15.7293\n",
       "1000000                -15.715\n",
       "10000000              -15.7092"
      ]
     },
     "execution_count": 36,
     "metadata": {},
     "output_type": "execute_result"
    }
   ],
   "source": [
    "a1,b1,a2,b2,a3,b3=0.5,0.75,0,np.pi,0,2*np.pi\n",
    "N=np.logspace(1,7,7).astype(int)\n",
    "\n",
    "df=pd.DataFrame(index=N,columns=['Aprox integral triple'])\n",
    "\n",
    "for n in N:\n",
    "    df.loc[n,'Aprox integral triple']= MC(integral,a1,b1,a2,b2,a3,b3,n)\n",
    "df"
   ]
  },
  {
   "cell_type": "code",
   "execution_count": 28,
   "metadata": {},
   "outputs": [],
   "source": [
    "def integral_2(theta):\n",
    "    return (-5/0.5)*(0.5**2)*np.sin(theta)"
   ]
  },
  {
   "cell_type": "code",
   "execution_count": 29,
   "metadata": {},
   "outputs": [],
   "source": [
    "def MC_2(integral_2,a1,b1,a2,b2,N):\n",
    "    V=(b1-a1)*(b2-a2)\n",
    "    theta=np.random.uniform(a1,b1,N.astype(int))\n",
    "    return V*np.mean(integral_2(theta))"
   ]
  },
  {
   "cell_type": "code",
   "execution_count": 44,
   "metadata": {},
   "outputs": [
    {
     "data": {
      "text/html": [
       "<div>\n",
       "<style scoped>\n",
       "    .dataframe tbody tr th:only-of-type {\n",
       "        vertical-align: middle;\n",
       "    }\n",
       "\n",
       "    .dataframe tbody tr th {\n",
       "        vertical-align: top;\n",
       "    }\n",
       "\n",
       "    .dataframe thead th {\n",
       "        text-align: right;\n",
       "    }\n",
       "</style>\n",
       "<table border=\"1\" class=\"dataframe\">\n",
       "  <thead>\n",
       "    <tr style=\"text-align: right;\">\n",
       "      <th></th>\n",
       "      <th>Aprox integral doble</th>\n",
       "    </tr>\n",
       "  </thead>\n",
       "  <tbody>\n",
       "    <tr>\n",
       "      <td>10.0</td>\n",
       "      <td>-24.3133</td>\n",
       "    </tr>\n",
       "    <tr>\n",
       "      <td>100.0</td>\n",
       "      <td>-32.2324</td>\n",
       "    </tr>\n",
       "    <tr>\n",
       "      <td>1000.0</td>\n",
       "      <td>-32.1783</td>\n",
       "    </tr>\n",
       "    <tr>\n",
       "      <td>10000.0</td>\n",
       "      <td>-31.3675</td>\n",
       "    </tr>\n",
       "    <tr>\n",
       "      <td>100000.0</td>\n",
       "      <td>-31.409</td>\n",
       "    </tr>\n",
       "    <tr>\n",
       "      <td>1000000.0</td>\n",
       "      <td>-31.4328</td>\n",
       "    </tr>\n",
       "    <tr>\n",
       "      <td>10000000.0</td>\n",
       "      <td>-31.4137</td>\n",
       "    </tr>\n",
       "  </tbody>\n",
       "</table>\n",
       "</div>"
      ],
      "text/plain": [
       "           Aprox integral doble\n",
       "10.0                   -24.3133\n",
       "100.0                  -32.2324\n",
       "1000.0                 -32.1783\n",
       "10000.0                -31.3675\n",
       "100000.0                -31.409\n",
       "1000000.0              -31.4328\n",
       "10000000.0             -31.4137"
      ]
     },
     "execution_count": 44,
     "metadata": {},
     "output_type": "execute_result"
    }
   ],
   "source": [
    "a1,b1,a2,b2=0,np.pi,0,2*np.pi\n",
    "N=np.logspace(1,7,7)\n",
    "\n",
    "df1=pd.DataFrame(index=N,columns=['Aprox integral doble'])\n",
    "\n",
    "for n in N:\n",
    "    df1.loc[n,'Aprox integral doble']= MC_2(integral_2,a1,b1,a2,b2,n)\n",
    "df1"
   ]
  },
  {
   "cell_type": "code",
   "execution_count": 45,
   "metadata": {},
   "outputs": [
    {
     "data": {
      "text/latex": [
       "$\\displaystyle -47.12286826014903$"
      ],
      "text/plain": [
       "-47.12286826014903"
      ]
     },
     "execution_count": 45,
     "metadata": {},
     "output_type": "execute_result"
    }
   ],
   "source": [
    "Q=df.iloc[6,0] + df1.iloc[6,0]\n",
    "Q"
   ]
  },
  {
   "cell_type": "code",
   "execution_count": 12,
   "metadata": {},
   "outputs": [
    {
     "data": {
      "text/latex": [
       "$\\displaystyle -251043194353.9656$"
      ],
      "text/plain": [
       "-251043194353.9656"
      ]
     },
     "execution_count": 12,
     "metadata": {},
     "output_type": "execute_result"
    }
   ],
   "source": [
    "E=-15.7045/(4*np.pi*0.75**2*8.85E-12)\n",
    "E"
   ]
  },
  {
   "cell_type": "markdown",
   "metadata": {},
   "source": [
    "### Conclusión caso 2:\n",
    "\n",
    "> Ya que la carga encerrada no es 0 si es posible aplicar la ley de Gauss en forma integral para obtener un campo eléctrico negativo en dirección radial con un valor de $-7.532E11 [N/C]$. Las líneas del campo eléctrico por su signo van hacía dentro por lo que se atraen las cargas hacía dentro, si es posible llegar a un resultado factible."
   ]
  },
  {
   "cell_type": "markdown",
   "metadata": {},
   "source": [
    "* c) Caso para r>b, específicamente *r=1.5m*:\n",
    "    \n",
    "$$Q_e= \\int_{0.5}^{1} \\int_{0}^{\\pi} \\int_{0}^{2\\pi} -\\frac{5}{1.5^2}1.5^2\\sin{\\theta} d \\varphi d \\theta d r +\\int_{0}^{\\pi} \\int_{0}^{2\\pi} -\\frac{5}{0.5}0.5^2\\sin{\\theta} d \\varphi d \\theta+\\int_{0}^{\\pi} \\int_{0}^{2\\pi} -\\frac{5}{1}1^2\\sin{\\theta} d \\varphi d \\theta$$"
   ]
  },
  {
   "cell_type": "code",
   "execution_count": 57,
   "metadata": {},
   "outputs": [],
   "source": [
    "def integral(r, theta, phi):\n",
    "    return ((-5*r**2)/(r**2))*np.sin(theta)"
   ]
  },
  {
   "cell_type": "code",
   "execution_count": 58,
   "metadata": {},
   "outputs": [],
   "source": [
    "def MC(integral,a1,b1,a2,b2,a3,b3,N):\n",
    "    V=(b1-a1)*(b2-a2)*(b3-a3)\n",
    "    r=np.random.uniform(a1,b1,N.astype(int))\n",
    "    theta=np.random.uniform(a2,b2,N.astype(int))\n",
    "    phi=np.random.uniform(a3,b3,N.astype(int))\n",
    "    return V*np.mean(integral(r,theta,phi))"
   ]
  },
  {
   "cell_type": "code",
   "execution_count": 59,
   "metadata": {},
   "outputs": [
    {
     "data": {
      "text/html": [
       "<div>\n",
       "<style scoped>\n",
       "    .dataframe tbody tr th:only-of-type {\n",
       "        vertical-align: middle;\n",
       "    }\n",
       "\n",
       "    .dataframe tbody tr th {\n",
       "        vertical-align: top;\n",
       "    }\n",
       "\n",
       "    .dataframe thead th {\n",
       "        text-align: right;\n",
       "    }\n",
       "</style>\n",
       "<table border=\"1\" class=\"dataframe\">\n",
       "  <thead>\n",
       "    <tr style=\"text-align: right;\">\n",
       "      <th></th>\n",
       "      <th>Aprox integral triple</th>\n",
       "    </tr>\n",
       "  </thead>\n",
       "  <tbody>\n",
       "    <tr>\n",
       "      <td>10.0</td>\n",
       "      <td>-31.9804</td>\n",
       "    </tr>\n",
       "    <tr>\n",
       "      <td>100.0</td>\n",
       "      <td>-29.3275</td>\n",
       "    </tr>\n",
       "    <tr>\n",
       "      <td>1000.0</td>\n",
       "      <td>-31.9119</td>\n",
       "    </tr>\n",
       "    <tr>\n",
       "      <td>10000.0</td>\n",
       "      <td>-31.4343</td>\n",
       "    </tr>\n",
       "    <tr>\n",
       "      <td>100000.0</td>\n",
       "      <td>-31.4336</td>\n",
       "    </tr>\n",
       "    <tr>\n",
       "      <td>1000000.0</td>\n",
       "      <td>-31.4237</td>\n",
       "    </tr>\n",
       "    <tr>\n",
       "      <td>10000000.0</td>\n",
       "      <td>-31.4139</td>\n",
       "    </tr>\n",
       "  </tbody>\n",
       "</table>\n",
       "</div>"
      ],
      "text/plain": [
       "           Aprox integral triple\n",
       "10.0                    -31.9804\n",
       "100.0                   -29.3275\n",
       "1000.0                  -31.9119\n",
       "10000.0                 -31.4343\n",
       "100000.0                -31.4336\n",
       "1000000.0               -31.4237\n",
       "10000000.0              -31.4139"
      ]
     },
     "execution_count": 59,
     "metadata": {},
     "output_type": "execute_result"
    }
   ],
   "source": [
    "a1,b1,a2,b2,a3,b3=0.5,1,0,np.pi,0,2*np.pi\n",
    "N=np.logspace(1,7,7)\n",
    "\n",
    "df=pd.DataFrame(index=N,columns=['Aprox integral triple'])\n",
    "\n",
    "for n in N:\n",
    "    df.loc[n,'Aprox integral triple']= MC(integral,a1,b1,a2,b2,a3,b3,n)\n",
    "df"
   ]
  },
  {
   "cell_type": "code",
   "execution_count": 60,
   "metadata": {},
   "outputs": [],
   "source": [
    "def integral_2(theta, phi):\n",
    "    return (-5/0.5)*(0.5**2)*np.sin(theta)"
   ]
  },
  {
   "cell_type": "code",
   "execution_count": 61,
   "metadata": {},
   "outputs": [],
   "source": [
    "def MC_2(integral_2,a1,b1,a2,b2,N):\n",
    "    V=(b1-a1)*(b2-a2)\n",
    "    theta=np.random.uniform(a1,b1,N.astype(int))\n",
    "    phi=np.random.uniform(a2,b2,N.astype(int))\n",
    "    return V*np.sum(integral_2(theta,phi))/N"
   ]
  },
  {
   "cell_type": "code",
   "execution_count": 62,
   "metadata": {},
   "outputs": [
    {
     "data": {
      "text/html": [
       "<div>\n",
       "<style scoped>\n",
       "    .dataframe tbody tr th:only-of-type {\n",
       "        vertical-align: middle;\n",
       "    }\n",
       "\n",
       "    .dataframe tbody tr th {\n",
       "        vertical-align: top;\n",
       "    }\n",
       "\n",
       "    .dataframe thead th {\n",
       "        text-align: right;\n",
       "    }\n",
       "</style>\n",
       "<table border=\"1\" class=\"dataframe\">\n",
       "  <thead>\n",
       "    <tr style=\"text-align: right;\">\n",
       "      <th></th>\n",
       "      <th>Aprox integral doble</th>\n",
       "    </tr>\n",
       "  </thead>\n",
       "  <tbody>\n",
       "    <tr>\n",
       "      <td>10.0</td>\n",
       "      <td>-33.4282</td>\n",
       "    </tr>\n",
       "    <tr>\n",
       "      <td>100.0</td>\n",
       "      <td>-32.099</td>\n",
       "    </tr>\n",
       "    <tr>\n",
       "      <td>1000.0</td>\n",
       "      <td>-31.4215</td>\n",
       "    </tr>\n",
       "    <tr>\n",
       "      <td>10000.0</td>\n",
       "      <td>-31.2972</td>\n",
       "    </tr>\n",
       "    <tr>\n",
       "      <td>100000.0</td>\n",
       "      <td>-31.3992</td>\n",
       "    </tr>\n",
       "    <tr>\n",
       "      <td>1000000.0</td>\n",
       "      <td>-31.4273</td>\n",
       "    </tr>\n",
       "    <tr>\n",
       "      <td>10000000.0</td>\n",
       "      <td>-31.4122</td>\n",
       "    </tr>\n",
       "  </tbody>\n",
       "</table>\n",
       "</div>"
      ],
      "text/plain": [
       "           Aprox integral doble\n",
       "10.0                   -33.4282\n",
       "100.0                   -32.099\n",
       "1000.0                 -31.4215\n",
       "10000.0                -31.2972\n",
       "100000.0               -31.3992\n",
       "1000000.0              -31.4273\n",
       "10000000.0             -31.4122"
      ]
     },
     "execution_count": 62,
     "metadata": {},
     "output_type": "execute_result"
    }
   ],
   "source": [
    "a1,b1,a2,b2=0,np.pi,0,2*np.pi\n",
    "N=np.logspace(1,7,7)\n",
    "\n",
    "df1=pd.DataFrame(index=N,columns=['Aprox integral doble'])\n",
    "\n",
    "for n in N:\n",
    "    df1.loc[n,'Aprox integral doble']= MC_2(integral_2,a1,b1,a2,b2,n)\n",
    "df1"
   ]
  },
  {
   "cell_type": "code",
   "execution_count": 63,
   "metadata": {},
   "outputs": [],
   "source": [
    "def integral_3(theta, phi):\n",
    "    return (5/1)*(1**2)*np.sin(theta)"
   ]
  },
  {
   "cell_type": "code",
   "execution_count": 64,
   "metadata": {},
   "outputs": [],
   "source": [
    "def MC_3(integral_3,a1,b1,a2,b2,N):\n",
    "    V=(b1-a1)*(b2-a2)\n",
    "    theta=np.random.uniform(a1,b1,N.astype(int))\n",
    "    phi=np.random.uniform(a2,b2,N.astype(int))\n",
    "    return V*np.sum(integral_3(theta,phi))/N"
   ]
  },
  {
   "cell_type": "code",
   "execution_count": 65,
   "metadata": {},
   "outputs": [
    {
     "data": {
      "text/html": [
       "<div>\n",
       "<style scoped>\n",
       "    .dataframe tbody tr th:only-of-type {\n",
       "        vertical-align: middle;\n",
       "    }\n",
       "\n",
       "    .dataframe tbody tr th {\n",
       "        vertical-align: top;\n",
       "    }\n",
       "\n",
       "    .dataframe thead th {\n",
       "        text-align: right;\n",
       "    }\n",
       "</style>\n",
       "<table border=\"1\" class=\"dataframe\">\n",
       "  <thead>\n",
       "    <tr style=\"text-align: right;\">\n",
       "      <th></th>\n",
       "      <th>Aprox integral doble</th>\n",
       "    </tr>\n",
       "  </thead>\n",
       "  <tbody>\n",
       "    <tr>\n",
       "      <td>10.0</td>\n",
       "      <td>59.4367</td>\n",
       "    </tr>\n",
       "    <tr>\n",
       "      <td>100.0</td>\n",
       "      <td>66.6191</td>\n",
       "    </tr>\n",
       "    <tr>\n",
       "      <td>1000.0</td>\n",
       "      <td>62.6719</td>\n",
       "    </tr>\n",
       "    <tr>\n",
       "      <td>10000.0</td>\n",
       "      <td>63.0295</td>\n",
       "    </tr>\n",
       "    <tr>\n",
       "      <td>100000.0</td>\n",
       "      <td>62.9952</td>\n",
       "    </tr>\n",
       "    <tr>\n",
       "      <td>1000000.0</td>\n",
       "      <td>62.772</td>\n",
       "    </tr>\n",
       "    <tr>\n",
       "      <td>10000000.0</td>\n",
       "      <td>62.833</td>\n",
       "    </tr>\n",
       "  </tbody>\n",
       "</table>\n",
       "</div>"
      ],
      "text/plain": [
       "           Aprox integral doble\n",
       "10.0                    59.4367\n",
       "100.0                   66.6191\n",
       "1000.0                  62.6719\n",
       "10000.0                 63.0295\n",
       "100000.0                62.9952\n",
       "1000000.0                62.772\n",
       "10000000.0               62.833"
      ]
     },
     "execution_count": 65,
     "metadata": {},
     "output_type": "execute_result"
    }
   ],
   "source": [
    "a1,b1,a2,b2=0,np.pi,0,2*np.pi\n",
    "N=np.logspace(1,7,7)\n",
    "\n",
    "df2=pd.DataFrame(index=N,columns=['Aprox integral doble'])\n",
    "\n",
    "for n in N:\n",
    "    df2.loc[n,'Aprox integral doble']= MC_3(integral_3,a1,b1,a2,b2,n)\n",
    "df2"
   ]
  },
  {
   "cell_type": "markdown",
   "metadata": {},
   "source": [
    "> Se extraen los resultados de las integrales realizadas con montecarlo del arreglo para poder realizar la suma total y dar con la carga encerrada."
   ]
  },
  {
   "cell_type": "code",
   "execution_count": 66,
   "metadata": {},
   "outputs": [
    {
     "data": {
      "text/latex": [
       "$\\displaystyle 0.0068521683816342716$"
      ],
      "text/plain": [
       "0.0068521683816342716"
      ]
     },
     "execution_count": 66,
     "metadata": {},
     "output_type": "execute_result"
    }
   ],
   "source": [
    "Q=df.iloc[6,0] + df1.iloc[6,0] + df2.iloc[6,0]\n",
    "Q"
   ]
  },
  {
   "cell_type": "markdown",
   "metadata": {},
   "source": [
    "### Conclusión caso 3\n",
    "\n",
    "> Ya que la carga encerrada es igual a 0, no importa la distancia a la que te coloques ( en el caso se utilizó 1.5m arbitratiamente) , no habrá un campo eléctrico ya que quedará la expresión como:\n",
    "\n",
    "$$\\vec{E}=\\frac{0}{4\\pi r^2 \\varepsilon_0}  \\hat{r}=0$$\n",
    "\n",
    "> Se obtuvo un resultado de 0.0048 en carga encerrada al realizar las integrales por método Montecarlo, siendo este resultado muy parecido al real para que el campo resultante sea 0, se alude el error tan pequeño a las iteraciones empleadas pero es satisfactorio el uso de Montecarlo."
   ]
  },
  {
   "cell_type": "markdown",
   "metadata": {},
   "source": [
    "## 1.6 Conclusiones\n",
    "\n",
    "Con el uso de la integración Montecarlo fue posible realizar un ejercicio de complejidad elevada de teoría electromagnética conduciendo a las soluciones correctas previamente resueltas de manera teórica para todos los casos proporcionados de r<a (solamente conceptual), a<r<b, r>b. \n",
    "\n",
    "Utilizando el conocimiento de clase para el uso de las librerias de numpy y pandas. Con el uso de la opción de random y logspace adicionalmente a las del módulo anterior en el caso de numpy y de los dataframes para pandas."
   ]
  },
  {
   "cell_type": "markdown",
   "metadata": {},
   "source": [
    "## 1.7 Referencias\n",
    "\n",
    "* Griffiths David (2005) \"Introduction to electrodynamics\", 4ta edición, Pearson Education International, Reed College, Portland, Estados Unidos.\n",
    "* Sin autor (2010) \"Densidades de carga de polarización\", Departamento de física aplicada III, Universidad de Sevilla, Sevilla, España. *Fuente*: http://laplace.us.es/wiki/index.php/Densidades_de_carga_de_polarizaci%C3%B3n#Volum.C3.A9trica "
   ]
  }
 ],
 "metadata": {
  "kernelspec": {
   "display_name": "Python 3",
   "language": "python",
   "name": "python3"
  },
  "language_info": {
   "codemirror_mode": {
    "name": "ipython",
    "version": 3
   },
   "file_extension": ".py",
   "mimetype": "text/x-python",
   "name": "python",
   "nbconvert_exporter": "python",
   "pygments_lexer": "ipython3",
   "version": "3.7.4"
  }
 },
 "nbformat": 4,
 "nbformat_minor": 2
}
