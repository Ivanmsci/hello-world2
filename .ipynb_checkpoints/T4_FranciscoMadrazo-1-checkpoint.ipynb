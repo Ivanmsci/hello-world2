{
 "cells": [
  {
   "cell_type": "markdown",
   "metadata": {},
   "source": [
    " ### Ejercicio 1"
   ]
  },
  {
   "cell_type": "markdown",
   "metadata": {},
   "source": [
    "La empresa Carbones de oriente debe ingresar a la empresa un requerimiento mínimo diario de carbón de $5000$ kg de carbón de alto volátil, $4000$ kg de medio volátil y $3000$ kg de bajo volátil para su debido proceso y trasformación. \n",
    "\n",
    "La entrada de estos se da en la siguiente tabla (los valores corresponden a un viaje en kg): \n",
    "\n",
    "-|Alto volátil|Medio volátil|Bajo volátil\n",
    ":----|----|----|----\n",
    "Mina sur|80|70|65\n",
    "Mina norte|60|50|40\n",
    "Mina central|40|30|20\n",
    "\n",
    "El costo del trasporte de un viaje de cada mina es de 2500 dólares, 1500 dólares y 900 dólares, respectivamente. ¿Cuántos viajes de cada mina se deben recibir a diario para suplir los requerimientos mínimos y generar el menor costo de transporte? \n",
    "\n",
    "Para simplificar la notación use las siguientes variables: \n",
    "\n",
    "+ $x_1:$ Cantidad de viajes de la mina sur  \n",
    "+ $x_2:$ Cantidad de viajes de la mina norte  \n",
    "+ $x_3:$ Cantidad de viajes de la mina central  \n",
    "\n",
    "\n",
    "El objetivo consiste en plantear el problema de programación lineal que permita satisfacer los requerimientos de la empresa Carbones de oriente y resolverlo con `linprog`."
   ]
  },
  {
   "cell_type": "markdown",
   "metadata": {},
   "source": [
    ">1- Las variables son los viajes\n",
    "\n",
    ">2- La función objetivo esta basada en minimizar el costo, tomando en cuenta cada viaje: 2500x1 + 1500x2 + 900x3\n",
    "\n",
    ">3- las restricciones estan dadas en la cantidad minima de kg asi como en los kg/viaje de cada mina: Alto volátil(80x1 + 60x2 + 40x3 >= 5000); medio volatil(70x1 + 50x2 + 30x3 >= 4000); bajo volatil(65x1 + 40x2 + 20x3 >= 3000)\n",
    "\n",
    "\n"
   ]
  },
  {
   "cell_type": "code",
   "execution_count": 2,
   "metadata": {},
   "outputs": [],
   "source": [
    "# librerias \n",
    "\n",
    "import scipy.optimize as opt\n",
    "import numpy as np\n"
   ]
  },
  {
   "cell_type": "code",
   "execution_count": 3,
   "metadata": {},
   "outputs": [],
   "source": [
    "# Matrices \n",
    "\n",
    "#matriz objetivo\n",
    "c = np.array ([2500,1500,900])\n",
    "\n",
    "#matriz de restricciones\n",
    "A = -np.array([[80,60,40],[70,50,30],[65,40,20]])\n",
    "\n",
    "#matriz de \"igualdades\"\n",
    "b = -np.array ([5000,4000,3000])\n",
    "\n",
    "\n"
   ]
  },
  {
   "cell_type": "code",
   "execution_count": 4,
   "metadata": {
    "scrolled": true
   },
   "outputs": [
    {
     "data": {
      "text/plain": [
       "     con: array([], dtype=float64)\n",
       "     fun: 119999.99942520668\n",
       " message: 'Optimization terminated successfully.'\n",
       "     nit: 5\n",
       "   slack: array([-2.40441423e-05, -1.91948993e-05, -1.43324860e-05])\n",
       "  status: 0\n",
       " success: True\n",
       "       x: array([2.63411476e-09, 4.99999998e+01, 4.99999998e+01])"
      ]
     },
     "execution_count": 4,
     "metadata": {},
     "output_type": "execute_result"
    }
   ],
   "source": [
    "# Solucionador\n",
    "\n",
    "sol_viajes = opt.linprog(c,A,b)\n",
    "sol_viajes"
   ]
  },
  {
   "cell_type": "markdown",
   "metadata": {},
   "source": [
    "**Interpretacion:**\n",
    "\n",
    "En la parte \"x\" se observa un valor extremadamente pequeño para x1 y puesto que los viajes logicamente deben ser enteros, la mina sur no hace viajes, mientras que la mina norte y centro hacen 50 cada una, con un costo total de 120,000\n"
   ]
  },
  {
   "cell_type": "markdown",
   "metadata": {},
   "source": [
    "---"
   ]
  },
  {
   "cell_type": "markdown",
   "metadata": {},
   "source": [
    "### Ejercicio 2"
   ]
  },
  {
   "cell_type": "markdown",
   "metadata": {},
   "source": [
    "Una empresa de muebles rústicos fabrica entre muchos otros productos cinco tipos de sillas A, B, C, D Y E, las cuales se venden a precio de $1100$, $1300$, $1200$, $980$ y $1010$ pesos cada una y respectivamente. \n",
    "\n",
    "Las sillas pasan por cinco procesos: corte, ensamblado, lijado, pintado y sellado, para lo cual se dispone máximo de $17$, $11$, $15$, $12$ y $14$ horas respectivamente a la semana para dedicar a estas operaciones a estos productos.\n",
    "\n",
    "Los requerimientos, en horas, para cada una de las sillas está dado en la siguiente tabla:\n",
    "\n",
    "-|Corte|Ensamblado|Lijado|Pintado|Sellado\n",
    ":----|----|----|----|----|----\n",
    "Silla A|3|1|3|1|1\n",
    "Silla B|2|3|2|2|3\n",
    "Silla C|5|2|2|3|1\n",
    "Silla D|2|4|1|1|2\n",
    "Silla E|1|0|2|2|3\n",
    "\n",
    "¿Cuántas sillas de cada tipo se deben fabricar para suplir los requerimientos de disponibiladas semanal y generar la mayor utilidad en ventas? \n",
    "\n",
    "Para simplificar la notación use las siguientes variables: \n",
    "\n",
    "+ $x_A:$ Cantidad de sillas tipo A \n",
    "+ $x_B:$ Cantidad de sillas tipo B \n",
    "+ $x_C:$ Cantidad de sillas tipo C \n",
    "+ $x_D:$ Cantidad de sillas tipo D  \n",
    "+ $x_E:$ Cantidad de sillas tipo E\n",
    "\n",
    "\n",
    "El objetivo consiste consiste en plantear el problemade programación lineal que permita satisfacer los requerimientos de la empresa empresa de muebles y resolverlo con `linprog`."
   ]
  },
  {
   "cell_type": "markdown",
   "metadata": {},
   "source": [
    ">1- Las variables son la cantidad de sillas de cada tipo\n",
    "\n",
    ">2- La función objetivo esta dada a maximizar la utilidad de ventas, de forma que se basa en los precios individuales: 1100xa + 1300xb + 1200xc + 980xd + 1010xe\n",
    "\n",
    ">3- Las restricciones estan dadas por las horas limite por proceso, ademas de lo que toma cada proceso por si solo:\n",
    "corte(3xa + 2xb + 5xc + 2xd + xe <= 17); ensamblado(xa + 3xb + 2xd + 4xc + 0xe <= 11); lijado (3xa + 2xb + 2xc + xd + 2xe <= 15); pintado(xa + 2xb + 3xc + xd + 2xe <= 12); sellado( xa + 3xb + xc + 2xd + 3xe <= 14)\n"
   ]
  },
  {
   "cell_type": "code",
   "execution_count": 5,
   "metadata": {},
   "outputs": [],
   "source": [
    "\n",
    "\n",
    "# Matrices para linprog\n",
    "\n",
    "#matriz objetivo\n",
    "c = -np.array([1100,1300,1200,980,1010])\n",
    "\n",
    "#matriz de restricciones\n",
    "A = np.array([[3,2,5,2,1],[1,3,2,4,0],[3,2,2,1,2],[1,2,3,1,2],[1,3,1,2,3,]])\n",
    "\n",
    "\n",
    "#matriz de \"igualdades\"\n",
    "b = np.array([17,11,15,12,14])\n",
    "\n",
    "\n",
    "\n"
   ]
  },
  {
   "cell_type": "code",
   "execution_count": 6,
   "metadata": {},
   "outputs": [
    {
     "data": {
      "text/plain": [
       "     con: array([], dtype=float64)\n",
       "     fun: -7699.99999995647\n",
       " message: 'Optimization terminated successfully.'\n",
       "     nit: 6\n",
       "   slack: array([7.59570185e-11, 4.23661106e-12, 9.51558832e-11, 1.70608416e-10,\n",
       "       7.71080977e-11])\n",
       "  status: 0\n",
       " success: True\n",
       "       x: array([2., 1., 1., 1., 2.])"
      ]
     },
     "execution_count": 6,
     "metadata": {},
     "output_type": "execute_result"
    }
   ],
   "source": [
    "\n",
    "# solucionador\n",
    "\n",
    "sol_c_sillas = opt.linprog(c,A,b)\n",
    "\n",
    "sol_c_sillas"
   ]
  },
  {
   "cell_type": "markdown",
   "metadata": {},
   "source": [
    "**Interpretación:**\n",
    "\n",
    "el signo negativo esta dado por la necesidad de python por minimizar funciones, por lo que la ganancia máxima es de 7,700 pesos, fabricando 2 sillas A, 1 silla B, 1 silla C, 1 silla D y 2 sillas E.\n"
   ]
  },
  {
   "cell_type": "code",
   "execution_count": null,
   "metadata": {},
   "outputs": [],
   "source": []
  }
 ],
 "metadata": {
  "kernelspec": {
   "display_name": "Python 3",
   "language": "python",
   "name": "python3"
  },
  "language_info": {
   "codemirror_mode": {
    "name": "ipython",
    "version": 3
   },
   "file_extension": ".py",
   "mimetype": "text/x-python",
   "name": "python",
   "nbconvert_exporter": "python",
   "pygments_lexer": "ipython3",
   "version": "3.7.4"
  }
 },
 "nbformat": 4,
 "nbformat_minor": 2
}
