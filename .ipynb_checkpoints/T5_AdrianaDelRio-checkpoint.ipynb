{
 "cells": [
  {
   "cell_type": "markdown",
   "metadata": {},
   "source": [
    "## TAREA Integración Montecarlo\n",
    "\n",
    "### 1. Realizar las siguientes integrales. \n",
    "\n",
    "Poner los resultados en una tabla cuyas filas correspondan a la cantidad de términos utilizados en la aproximación (usar 10, 100, 1000, 10000 y 100000 términos) y cuyas columnas correspondan a las funciones.\n"
   ]
  },
  {
   "cell_type": "markdown",
   "metadata": {},
   "source": [
    "$\\int_{1}^{3} e^{x}\\log(x)\\text{d}x$.\n",
    "\n",
    "$\\int_1^3 \\sin(x)\\ln(x) \\text{d}x$"
   ]
  },
  {
   "cell_type": "code",
   "execution_count": 2,
   "metadata": {},
   "outputs": [],
   "source": [
    "import numpy as np \n",
    "import matplotlib.pyplot as plt \n",
    "%matplotlib inline\n",
    "import pandas as pd"
   ]
  },
  {
   "cell_type": "code",
   "execution_count": 3,
   "metadata": {},
   "outputs": [],
   "source": [
    "def montecarlo1(f,a,b,N):\n",
    "    u = (b-a)*np.random.rand(N)+ a\n",
    "    return (b-a)*np.mean(f(u))"
   ]
  },
  {
   "cell_type": "code",
   "execution_count": 4,
   "metadata": {},
   "outputs": [],
   "source": [
    "#definir ecuaciones a integrar\n",
    "def f(x):\n",
    "    return np.exp(x)*np.log10(x)\n",
    "def f1(x):\n",
    "    return np.sin(x)*np.log(x)\n",
    "#definir limites\n",
    "a,b =1,3\n",
    "#escala logaritmica\n",
    "N=np.logspace(1,5,5)"
   ]
  },
  {
   "cell_type": "code",
   "execution_count": 5,
   "metadata": {},
   "outputs": [
    {
     "data": {
      "text/html": [
       "<div>\n",
       "<style scoped>\n",
       "    .dataframe tbody tr th:only-of-type {\n",
       "        vertical-align: middle;\n",
       "    }\n",
       "\n",
       "    .dataframe tbody tr th {\n",
       "        vertical-align: top;\n",
       "    }\n",
       "\n",
       "    .dataframe thead th {\n",
       "        text-align: right;\n",
       "    }\n",
       "</style>\n",
       "<table border=\"1\" class=\"dataframe\">\n",
       "  <thead>\n",
       "    <tr style=\"text-align: right;\">\n",
       "      <th></th>\n",
       "      <th>Aprox</th>\n",
       "      <th>Aprox1</th>\n",
       "    </tr>\n",
       "    <tr>\n",
       "      <th>Términos</th>\n",
       "      <th></th>\n",
       "      <th></th>\n",
       "    </tr>\n",
       "  </thead>\n",
       "  <tbody>\n",
       "    <tr>\n",
       "      <th>10.0</th>\n",
       "      <td>5.8206</td>\n",
       "      <td>0.756976</td>\n",
       "    </tr>\n",
       "    <tr>\n",
       "      <th>100.0</th>\n",
       "      <td>6.72814</td>\n",
       "      <td>0.943833</td>\n",
       "    </tr>\n",
       "    <tr>\n",
       "      <th>1000.0</th>\n",
       "      <td>6.03285</td>\n",
       "      <td>0.870133</td>\n",
       "    </tr>\n",
       "    <tr>\n",
       "      <th>10000.0</th>\n",
       "      <td>6.07522</td>\n",
       "      <td>0.876207</td>\n",
       "    </tr>\n",
       "    <tr>\n",
       "      <th>100000.0</th>\n",
       "      <td>6.10251</td>\n",
       "      <td>0.869563</td>\n",
       "    </tr>\n",
       "  </tbody>\n",
       "</table>\n",
       "</div>"
      ],
      "text/plain": [
       "            Aprox    Aprox1\n",
       "Términos                   \n",
       "10.0       5.8206  0.756976\n",
       "100.0     6.72814  0.943833\n",
       "1000.0    6.03285  0.870133\n",
       "10000.0   6.07522  0.876207\n",
       "100000.0  6.10251  0.869563"
      ]
     },
     "execution_count": 5,
     "metadata": {},
     "output_type": "execute_result"
    }
   ],
   "source": [
    "tabla = pd.DataFrame(index=N, columns = ['Aprox','Aprox1'])\n",
    "tabla.index.name ='Términos'\n",
    "\n",
    "for n in N : \n",
    "    tabla.loc[n,'Aprox'] = montecarlo1(f,a,b,n.astype(int))\n",
    "    tabla.loc[n,'Aprox1'] = montecarlo1(f1,a,b,n.astype(int))\n",
    "    \n",
    "tabla"
   ]
  },
  {
   "cell_type": "code",
   "execution_count": null,
   "metadata": {},
   "outputs": [],
   "source": []
  }
 ],
 "metadata": {
  "kernelspec": {
   "display_name": "Python 3",
   "language": "python",
   "name": "python3"
  },
  "language_info": {
   "codemirror_mode": {
    "name": "ipython",
    "version": 3
   },
   "file_extension": ".py",
   "mimetype": "text/x-python",
   "name": "python",
   "nbconvert_exporter": "python",
   "pygments_lexer": "ipython3",
   "version": "3.7.6"
  }
 },
 "nbformat": 4,
 "nbformat_minor": 4
}
