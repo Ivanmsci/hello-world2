{
 "cells": [
  {
   "cell_type": "markdown",
   "metadata": {},
   "source": [
    "## TAREA 6\n",
    "1. Aproximar el área de la región descrita por\n",
    "\n",
    "$$x^2+2y^2\\leq-2x+8y-7$$\n",
    "\n",
    "Poner los resultados en una tabla cuyas filas correspondan a la cantidad de términos utilizados en la aproximación (usar 10, 100, 1000, 10000 y 100000 términos) y en las columnas el valor de aproximación y el error relativo.\n",
    "\n",
    "Definir unos límites adecuados $a_1$, $b_1$, $a_2$ y $b_2$, para la región $R=\\left[a_1,b_1\\right]\\times\\left[a_2,b_2\\right]$\n",
    "\n"
   ]
  },
  {
   "cell_type": "code",
   "execution_count": 1,
   "metadata": {},
   "outputs": [],
   "source": [
    "#Librerias\n",
    "\n",
    "import numpy as np\n",
    "import matplotlib.pyplot as plt\n",
    "import pandas as pd\n"
   ]
  },
  {
   "cell_type": "code",
   "execution_count": 2,
   "metadata": {},
   "outputs": [],
   "source": [
    "#Funcion montecarlo para la aproximación del área\n",
    "\n",
    "def montecarlo2(region,a1,b1,a2,b2,N):\n",
    "    \n",
    "    AR = (b1-a1)*(b2-a2)\n",
    "        \n",
    "    x = np.random.uniform(a1,b1,N)\n",
    "    y = np.random.uniform(a2,b2,N)\n",
    "    \n",
    "    b = region(x,y)\n",
    "    \n",
    "    area = AR*np.mean(b)\n",
    "    \n",
    "    \n",
    "    return area"
   ]
  },
  {
   "cell_type": "code",
   "execution_count": 3,
   "metadata": {},
   "outputs": [],
   "source": [
    "# Definición de los puntos aleatorios\n",
    "\n",
    "N = 100\n",
    "xnum = np.linspace(-5,5,N)\n",
    "ynum = np.linspace(-5,5,N)"
   ]
  },
  {
   "cell_type": "code",
   "execution_count": 4,
   "metadata": {},
   "outputs": [
    {
     "data": {
      "image/png": "[encoded data removed]",
      "text/plain": [
       "<Figure size 720x720 with 1 Axes>"
      ]
     },
     "metadata": {
      "needs_background": "light"
     },
     "output_type": "display_data"
    }
   ],
   "source": [
    "#Definición de la funcion de interes\n",
    "\n",
    "def region(x,y):\n",
    "        return x**2 + 2*y**2 <= -2*x + 8*y - 7\n",
    "\n",
    "    \n",
    "#Creación del area que representa la desigualdad\n",
    "X,Y = np.meshgrid(xnum,ynum)\n",
    "\n",
    "\n",
    "plt.figure(figsize=(10,10))\n",
    "plt.scatter(X,Y,c=~region(X,Y),cmap = 'bone')\n",
    "plt.grid()\n",
    "plt.show()"
   ]
  },
  {
   "cell_type": "markdown",
   "metadata": {},
   "source": [
    "Los limites ideales del rectangulo, para la aproximación de la superficie serán $(a1,b1 = -3,1) \\, y\\, (a2,b2 = 0,4)$"
   ]
  },
  {
   "cell_type": "code",
   "execution_count": 54,
   "metadata": {},
   "outputs": [
    {
     "data": {
      "text/html": [
       "<div>\n",
       "<style scoped>\n",
       "    .dataframe tbody tr th:only-of-type {\n",
       "        vertical-align: middle;\n",
       "    }\n",
       "\n",
       "    .dataframe tbody tr th {\n",
       "        vertical-align: top;\n",
       "    }\n",
       "\n",
       "    .dataframe thead th {\n",
       "        text-align: right;\n",
       "    }\n",
       "</style>\n",
       "<table border=\"1\" class=\"dataframe\">\n",
       "  <thead>\n",
       "    <tr style=\"text-align: right;\">\n",
       "      <th></th>\n",
       "      <th>Area aproximada</th>\n",
       "    </tr>\n",
       "    <tr>\n",
       "      <th>cantidad de terminos</th>\n",
       "      <th></th>\n",
       "    </tr>\n",
       "  </thead>\n",
       "  <tbody>\n",
       "    <tr>\n",
       "      <td>10</td>\n",
       "      <td>8</td>\n",
       "    </tr>\n",
       "    <tr>\n",
       "      <td>100</td>\n",
       "      <td>5.76</td>\n",
       "    </tr>\n",
       "    <tr>\n",
       "      <td>1000</td>\n",
       "      <td>4.32</td>\n",
       "    </tr>\n",
       "    <tr>\n",
       "      <td>10000</td>\n",
       "      <td>4.328</td>\n",
       "    </tr>\n",
       "    <tr>\n",
       "      <td>100000</td>\n",
       "      <td>4.46048</td>\n",
       "    </tr>\n",
       "    <tr>\n",
       "      <td>1000000</td>\n",
       "      <td>4.44941</td>\n",
       "    </tr>\n",
       "    <tr>\n",
       "      <td>10000000</td>\n",
       "      <td>4.44233</td>\n",
       "    </tr>\n",
       "  </tbody>\n",
       "</table>\n",
       "</div>"
      ],
      "text/plain": [
       "                     Area aproximada\n",
       "cantidad de terminos                \n",
       "10                                 8\n",
       "100                             5.76\n",
       "1000                            4.32\n",
       "10000                          4.328\n",
       "100000                       4.46048\n",
       "1000000                      4.44941\n",
       "10000000                     4.44233"
      ]
     },
     "execution_count": 54,
     "metadata": {},
     "output_type": "execute_result"
    }
   ],
   "source": [
    "# Definicion de los límites del rectángulo\n",
    "\n",
    "#parte de x\n",
    "a1 = -3\n",
    "b1=1\n",
    "\n",
    "#parte de y\n",
    "a2=0\n",
    "b2=4\n",
    "\n",
    "\n",
    "N = np.logspace(1,7,7).astype(int)\n",
    "\n",
    "#Creación de la tabla que mostrra los datos (sin el error)\n",
    "\n",
    "tabla = pd.DataFrame(index = N, columns = ['Area aproximada'])\n",
    "tabla.index.name = 'cantidad de terminos'\n",
    "\n",
    "\n",
    "for n in N:\n",
    "    \n",
    "    area = montecarlo2(region,a1,b1,a2,b2,n)\n",
    "    tabla.loc[n,'Area aproximada'] = area\n",
    "\n",
    "\n",
    "tabla"
   ]
  },
  {
   "cell_type": "markdown",
   "metadata": {},
   "source": [
    "El área que se obtuvo mediante wolfram mathematica, para la alipse del problema es de: \n",
    "\n",
    "$Area = 4.44288u^2$\n",
    "\n",
    "Por tanto, el error para cada caso estara dado por la resta entre el área real y el área aproximada\n"
   ]
  },
  {
   "cell_type": "code",
   "execution_count": 55,
   "metadata": {},
   "outputs": [
    {
     "data": {
      "text/html": [
       "<div>\n",
       "<style scoped>\n",
       "    .dataframe tbody tr th:only-of-type {\n",
       "        vertical-align: middle;\n",
       "    }\n",
       "\n",
       "    .dataframe tbody tr th {\n",
       "        vertical-align: top;\n",
       "    }\n",
       "\n",
       "    .dataframe thead th {\n",
       "        text-align: right;\n",
       "    }\n",
       "</style>\n",
       "<table border=\"1\" class=\"dataframe\">\n",
       "  <thead>\n",
       "    <tr style=\"text-align: right;\">\n",
       "      <th></th>\n",
       "      <th>Area aproximada</th>\n",
       "      <th>error</th>\n",
       "    </tr>\n",
       "    <tr>\n",
       "      <th>cantidad de terminos</th>\n",
       "      <th></th>\n",
       "      <th></th>\n",
       "    </tr>\n",
       "  </thead>\n",
       "  <tbody>\n",
       "    <tr>\n",
       "      <td>10</td>\n",
       "      <td>8</td>\n",
       "      <td>3.55712</td>\n",
       "    </tr>\n",
       "    <tr>\n",
       "      <td>100</td>\n",
       "      <td>5.76</td>\n",
       "      <td>1.31712</td>\n",
       "    </tr>\n",
       "    <tr>\n",
       "      <td>1000</td>\n",
       "      <td>4.32</td>\n",
       "      <td>0.12288</td>\n",
       "    </tr>\n",
       "    <tr>\n",
       "      <td>10000</td>\n",
       "      <td>4.328</td>\n",
       "      <td>0.11488</td>\n",
       "    </tr>\n",
       "    <tr>\n",
       "      <td>100000</td>\n",
       "      <td>4.46048</td>\n",
       "      <td>0.0176</td>\n",
       "    </tr>\n",
       "    <tr>\n",
       "      <td>1000000</td>\n",
       "      <td>4.44941</td>\n",
       "      <td>0.006528</td>\n",
       "    </tr>\n",
       "    <tr>\n",
       "      <td>10000000</td>\n",
       "      <td>4.44233</td>\n",
       "      <td>0.000552</td>\n",
       "    </tr>\n",
       "  </tbody>\n",
       "</table>\n",
       "</div>"
      ],
      "text/plain": [
       "                     Area aproximada     error\n",
       "cantidad de terminos                          \n",
       "10                                 8   3.55712\n",
       "100                             5.76   1.31712\n",
       "1000                            4.32   0.12288\n",
       "10000                          4.328   0.11488\n",
       "100000                       4.46048    0.0176\n",
       "1000000                      4.44941  0.006528\n",
       "10000000                     4.44233  0.000552"
      ]
     },
     "execution_count": 55,
     "metadata": {},
     "output_type": "execute_result"
    }
   ],
   "source": [
    "#Área real de la elipse\n",
    "\n",
    "Area = 4.44288\n",
    "\n",
    "#Creación de la tabla que mostrara los datos (con el error)\n",
    "\n",
    "tabla2 = tabla\n",
    "\n",
    "tabla2['error']=np.abs(Area-tabla2['Area aproximada'])\n",
    "\n",
    "tabla2\n"
   ]
  },
  {
   "cell_type": "markdown",
   "metadata": {},
   "source": [
    "Por lo tanto, para una aproximación mediante 10 millones de terminos, se obtiene un error bastante aceptable, de $5.52x10^[-3]-3$"
   ]
  },
  {
   "cell_type": "code",
   "execution_count": null,
   "metadata": {},
   "outputs": [],
   "source": []
  }
 ],
 "metadata": {
  "kernelspec": {
   "display_name": "Python 3",
   "language": "python",
   "name": "python3"
  },
  "language_info": {
   "codemirror_mode": {
    "name": "ipython",
    "version": 3
   },
   "file_extension": ".py",
   "mimetype": "text/x-python",
   "name": "python",
   "nbconvert_exporter": "python",
   "pygments_lexer": "ipython3",
   "version": "3.7.4"
  }
 },
 "nbformat": 4,
 "nbformat_minor": 2
}
