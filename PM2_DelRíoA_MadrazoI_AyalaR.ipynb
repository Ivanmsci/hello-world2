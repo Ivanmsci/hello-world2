{
 "cells": [
  {
   "cell_type": "markdown",
   "metadata": {},
   "source": [
    "<img style=\"float:center\" src=\"https://upload.wikimedia.org/wikipedia/commons/d/db/Logo_ITESO_normal.jpg\" width=\"150px\"/>\n",
    "<div align=\"center\">\n",
    "\n",
    "____\n",
    "## SIMULACIÓN MATEMÁTICA\n",
    "### PROYECTO MÓDULO II:\n",
    "### Cálculo de la carga eléctrica encerrada en un sistema por medio de integración Montecarlo\n",
    "\n",
    "____\n",
    "<div align=\"left\">\n",
    "    \n",
    "__Integrantes__\n",
    "+ Adriana Del Río Ramírez\n",
    "    - Estudiante de Ing. en nanotecnología\n",
    "        - nt717047 \n",
    "+ Iván Madrazo Álvarez\n",
    "    - Estudiante de Ing. en nanotecnología \n",
    "        - nt710381\n",
    "\n",
    "+ Rodrigo Ayala Padilla\n",
    "    + Estudiante de Ing. en nanotecnología\n",
    "        + nt716733"
   ]
  },
  {
   "cell_type": "markdown",
   "metadata": {},
   "source": [
    "## INTRODUCCIÓN\n",
    "\n",
    "\n",
    "Uno de los problemas más comunes de teoría electromagnética, consta de la obtención del campo eléctrico encerrado por dos esferas concéntricas, una de menor tamaño que la otra como se muestra en la siguiente imagen:\n",
    "\n",
    "![Image](https://dademuchconnection.files.wordpress.com/2018/08/null27.png?w=364&h=296)\n",
    "\n",
    "La esfera más pequeña describe a un cascarón es decir una esfera vacía de radio a, sin embargo, para poder realizar la integración Montecarlo asignaremos un valor real de $1 cm$, mientras que la esfera mayor que rodea al cascarón posee un radio b de $2 cm$ y se encentra rellena de un material aislante dieléctrico, para hacer más fácil el cálculo, el sistema se dispondrá en el vacío. \n",
    "\n",
    "El problema plantea lo siguiente; Calcular el campo eléctrico en los puntos en que este no sea cero para el sistema que presenta una polarización $P0 = 3 cm^2$. Para solucionar el problema, primero es importante conocer ciertos conceptos que nos serán de ayuda descritos a continuación.\n",
    "\n",
    "#### Ley de Gauss\n",
    ">La ley de Gauss fue descrita por el físico, astrónomo y matemático, Johann Carl Friedrich Gauss y establece que el flujo eléctrico, que atraviesa cualquier superficie, es proporcional a la carga que dicha superficie encierra. Sin embargo, la principal limitante de esta ley es que el caso que se analice debe poseer gran simetría, dado que se debe poder “encerrar” la zona de interés por una superficie ficticia, conocida como superficie gaussiana y dicha superficie debe ser una superficie conocida para que este método tenga relevancia.\n",
    "#### Dieléctricos\n",
    ">Al estar sometido a un campo eléctrico, un cuerpo puede cambiar sus propiedades de diferentes maneras. Esto se debe a que los cuerpos están compuestos por partículas cargadas, los cuales interactúan con dicho campo eléctrico.   \n",
    ">Los tipos más comunes de material o sustancias, según sus propiedades eléctrica, se pueden clasificar en conductores y dieléctricos (no conductores).\n",
    ">La principal característica que distingue a un material conductor de uno dieléctrico, es que a diferencia de los conductores, el dieléctrico no permite el libre movimiento de partículas cargadas, los cual hace que no pueda fluir una corriente eléctrica en éste. A pesar de no haber movimiento en las partículas cargadas, los dieléctricos si presentan interacción con un campo eléctrico externo, lo cual permite que ocurran fenóenos tales como el dipolo inducido.\n",
    "\n",
    "(Redondo Quintera, F. & Redondo Melchor, R., 2007)\n",
    "\n",
    "#### Dipolo inducido\n",
    ">Si bien, un átomo en su totalidad es eléctricamente neutro y mediante tal afirmación se podría llegar a la conclusión de que el campo eléctrico no le debería de afectar, tanto su núcleo, como la nube electrónica que lo rodea se tienen regiones eléctricamente cargadas, las cuales si se verán afectadas por algún campo eléctrico externo. Si el campo que se aplica no es demasiado fuerte, se establece un equilibrio rápidamente, de tal forma que si el centro de la nube electrónica no coincide con el núcleo, hace que estas cargas se atraen mutuamente, manteniendo al átomo unido.   \n",
    ">Ahora, si tomamos en cuenta que el campo eléctrico que se aplique sobre un átomo cualquiera, generara que una fuerza que intenta separar tanto la nube electrónica del átomo de su núcleo, mientras que la atracción mutua los mantiene unidos, esta combinación de fuerzas llega a un balance llamado polarización, ya que tanto la carga positiva como la negativa están ligeramente desplazadas de su punto de equilibrio natural. Esto genera un ligero momento dipolar (lo que genera un dipolo) en el átomo y puesto que no es algo propio del átomo en sí, sino que esta dado gracias a la acción e un campo externo, se le nombra dipolo inducido.\n",
    "\n",
    "(Becerra, A., 2007)\n",
    "\n",
    "#### Polarización\n",
    ">El desplaza miento de las partículas cargadas genera un momento dipolar. ​\n",
    "El momento dipolar generado en cada unidad del material, se conoce como densidad de polarización (Que es un campo vectorial).​\n",
    "\n",
    "(Electrostática en presencia de dieléctricos, 2011)"
   ]
  },
  {
   "cell_type": "markdown",
   "metadata": {},
   "source": [
    "## OBJETIVOS\n",
    "\n",
    "__`Objetivo general`__\n",
    ">Hacer uso de la integración Montecarlo para obtener la carga encerrada de un cascarón dieléctrico encerrado por otro de mayor tamaño, de esta forma obtener el campo eléctrico dentro en una esfera doble polarizada de cierta forma.\n",
    "\n",
    "__`Objetivos específicos`__\n",
    "+ Utilizar el método de integración Montecarlo visto en clase, con el módulo random de la libreria numpy para el cálculo de integrales, en este caso siendo una integral triple.\n",
    "+ Utilizar la librería pandas para el acomodo de los ajustes realizados por la integración Montecarlo para observar cómo evoluciona la aproximación de la integración con el número de términos empleados, con respecto al resultado real de la integración."
   ]
  },
  {
   "cell_type": "markdown",
   "metadata": {},
   "source": [
    "## MODELO\n",
    "\n",
    "Dada la simetría del sistema, se puede suponer que el potencial eléctrico depende exclusivamente de la distancia r al centro del sistema y el campo eléctrico es, por lo tanto, central. Fácilmente se puede partir de la aplicación de la ley de Gauss para resolver el sistema. En este caso, el flujo del campo eléctrico a través de la superficie esférica concéntrica se describe de la siguiente manera:\n",
    "\n",
    "$$\\oint { \\vec { E } \\cdot d\\vec { a } =\\frac { { Q }_{ e } }{ {\\varepsilon}_{ 0 } }} \\rightarrow \\vec{E}=\\frac{Q_e}{4\\pi r^2 \\varepsilon_0}  \\hat{r} = \\overrightarrow{E} = \\frac{-18 \\pi}{4\\pi 1.5^2 8.85x10^{-12}}  \\hat{r} = \\frac{-18 \\pi}{4\\pi 1.5^2 8.85x10^{-12}}  \\hat{r} $$\n",
    "\n",
    "\n",
    "$$\\overrightarrow{E} = -226028274091.20285[𝑁/𝐶]  $$ \n",
    "\n",
    "Donde:\n",
    "- ${ Q }_{ e }$ es la carga encerrada por la superficie gaussiana\n",
    "- $\\varepsilon_0$ es la permitibilidad eléctrica del vacío\n",
    "- $r$ es el radio de la superficie gaussiana\n",
    "\n",
    "Donde todos los parámetros son conocidos, a excepción de la carga encerrada por la superficie gaussiana. \n",
    "Al tratarse de materiales dieléctricos, consideramos una polarización inducida en el material, por lo que los cascarones esféricos se encuentran polarizados, es decir existe carga no nula. \n",
    "Ya que la carga de polarización (o cargas ligadas),  se deben a un volumen polarizado, ésta puede transformarse en suma de dos integrales:\n",
    "\n",
    "$$Q_e= \\int_{\\tau}^{} \\rho_b d \\tau  +\\oint_{S}^{}\\sigma_{ab} d S $$\n",
    "\n",
    "Donde:\n",
    "- $\\tau$ es el volúmen que ocupa el dieléctrico polarizado, y $d \\tau$ es el diferencial de volumen\n",
    "- $S$ es la superficie cerrada que limita a $\\tau$, y $d S$ es el diferencial de superficie\n",
    "- $\\rho_b$ es la densidad volumétrica de carga ligada\n",
    "- $\\sigma_{p}$ es la densidad superficial de carga ligada\n",
    "\n",
    "La ventaja de esta transformación, es que este tipo de integrales corresponden a la carga debida a la distribución de carga eléctrica.\n",
    "En términos físicos, esto podría entenderse como que una polarización  es equivalente a una superposición de dos distribuciones de carga, una volumétrica y otra superficial.\n",
    "Una reformulación en las ecuaciones de Maxwell, puede permitir expresarlas en función del vector de densidad de polarización, donde:\n",
    "\n",
    "$$\\sigma_{p}=\\overrightarrow{P}\\cdot\\hat{n}$$\n",
    "\n",
    "$$\\rho_b=-\\triangledown\\cdot\\overrightarrow{P}$$\n",
    "\n",
    "Aquí $\\overrightarrow{P}$ es el vector desnidad de polarización\n",
    "El vector densidad de polarización se compone por la dirección radial del momento dipolar generado y por la densidad de polarización:\n",
    "\n",
    "$$\\overrightarrow { P } =\\frac{{ P }_{ 0 }\\widehat { r }}{r} $$\n",
    "\n",
    "De modo que la densidad volumétrica de carga de polarización tiene la expresión general\n",
    "\n",
    "$$\\rho_b=-\\triangledown\\cdot\\frac{{ P }_{ 0 }\\widehat { r }}{r}$$\n",
    "\n",
    "Haciendo uso de la siguiente identidad sobre la divergencia de una función en coordenadas esféricas: \n",
    "\n",
    "$$-\\triangledown\\cdot\\overrightarrow{F}= -(\\frac{1}{r^2}\\frac{\\partial{}}{\\partial{r}}(r^2 F_r)) + \\frac{1}{r \\sin(\\theta)}\\frac{\\partial{}}{\\partial{\\theta}}(\\sin(\\theta) F_\\theta)) + \\frac{1}{r \\sin(\\phi)}\\frac{\\partial{}}{\\partial{\\phi}}(\\sin(\\phi) F_\\phi))$$\n",
    "\n",
    "Y tomando en cuenta que sólo existe un vector radial sin componentes angulares, la densidad de volumétrica de carga ligada resulta:\n",
    "\n",
    "$$-\\triangledown\\cdot\\overrightarrow{P}= -(\\frac{1}{r^2}\\frac{\\partial{}}{\\partial{r}}(r^2 P_r))$$\n",
    "\n",
    "$$-\\triangledown\\cdot\\overrightarrow{P}= -(\\frac{1}{r^2}\\frac{\\partial{}}{\\partial{r}}(r^2 \\frac{P_0}{r})=\\rho_b$$\n",
    "\n",
    "Mientras que la densidad superficial de carga de polarización, dado un volumen $\\tau$, viene dado por la expresión:\n",
    "\n",
    "$$\\sigma_p=\\frac{{ P }_{ 0 }\\widehat { r }}{r} \\cdot \\hat{n}$$\n",
    "\n",
    "Esta expresión se puede generalizar al caso de que se tenga una interfaz entre dos dieléctricos con polarización P1 y P2, en cuyo caso la densidad superficial será la suma de las correspondientes a cada dieléctrico. \n",
    "\n",
    "$$\\sigma_p=\\sigma_a + \\sigma_b = \\overrightarrow{P_a}\\cdot\\hat{n} + \\overrightarrow{P_b}\\cdot\\hat{n}$$\n",
    "\n",
    "Por último, las densidades superficiales de carga ligada se descomponen en el vector de polarización producto punto con el vector unitario normal a la superficie. Así, las dos densidades de carga superficiales correspondientes a cada cascarón resultan:\n",
    "\n",
    "$$\\sigma_a=\\frac{P_0}{r_a} \\hat{r} \\cdot \\hat{-r}$$\n",
    "\n",
    "$$\\sigma_b=\\frac{P_0}{r_b} \\hat{r} \\cdot \\hat{r}$$\n",
    "\n",
    "Volviendo a la expresión de carga ligada, se analizará el caso en donde $a<r<b$, el cual queda como sigue:\n",
    "\n",
    "$$Q_e= \\int_{0}^{2\\pi} \\int_{0}^{\\pi} \\int_{1}^{1.5} -\\frac{3}{r^2}r^2\\sin{\\theta} d r d \\theta d \\varphi +\\int_{0}^{2\\pi} \\int_{0}^{\\pi} -\\frac{3}{1}1^2\\sin{\\theta} d \\theta d \\varphi$$\n",
    "\n",
    "\n",
    "#### Nota:\n",
    "\n",
    "Para el caso del analisis dentro de la esfera, se tiene que la carga que se encierra mediante la superfiecie gaussiana es inexistente (ya que la esfera es hueca). Por lo tanto, el campo dentro de la esfera es cero $$\\overrightarrow{E} = 0$$\n",
    "\n",
    "\n",
    "Mientras que si analizamos la parte externa de la esfera, se obtiene un modelo matemático similar al caso intermedio, con la excepción de que se debe de incluir una integral superficial de la parte externa, de tal modo que (por facilidad no se hará uso de limites establecidos ni de la polarización inicial):\n",
    "\n",
    "$$Q_e= \\int_{0}^{2\\pi} \\int_{0}^{\\pi} \\int_{a}^{b} -\\frac{P_0}{r^2}r^2\\sin{\\theta} d r d \\theta d \\varphi +\\int_{0}^{2\\pi} \\int_{0}^{\\pi} -\\frac{P_0}{a}a^2\\sin{\\theta} d \\theta d \\varphi + \\int_{0}^{2\\pi} \\int_{0}^{\\pi} -\\frac{P_0}{b}b^2\\sin{\\theta} d \\theta d \\varphi$$\n",
    "\n",
    "Las integrales dan como resultado lo siguiente:\n",
    "\n",
    "$$ Q_e = 4\\pi P_0 (a-b) + 4\\pi P_0 b - 4\\pi P_0 a = 4\\pi P_0 (a-b) + 4\\pi P_0 (b-a) = 0  $$\n",
    "\n",
    "Lo que da como resultado $$\\overrightarrow{E} = 0$$ \n",
    "\n",
    "\n",
    "Por lo que ambos resultados dan cero y el único punto donde es relevante calcular el campo eléctrico es en la parte intermedia del cascaron."
   ]
  },
  {
   "cell_type": "markdown",
   "metadata": {},
   "source": [
    "# Solución del problema"
   ]
  },
  {
   "cell_type": "code",
   "execution_count": 1,
   "metadata": {},
   "outputs": [],
   "source": [
    "import numpy as np\n",
    "import pandas as pd\n",
    "import matplotlib.pyplot as plt\n",
    "%matplotlib inline"
   ]
  },
  {
   "cell_type": "code",
   "execution_count": 2,
   "metadata": {},
   "outputs": [],
   "source": [
    "#Definición de la integral volumétrica\n",
    "\n",
    "def integral_volumen(r,theta):\n",
    "    return ((-3*r**2)/(r**2))*np.sin(theta)"
   ]
  },
  {
   "cell_type": "code",
   "execution_count": 3,
   "metadata": {},
   "outputs": [],
   "source": [
    "#Definición de la función montecarlo\n",
    "\n",
    "def integracion_montecarlo(integral_volumen,a1,b1,a2,b2,a3,b3,N):\n",
    "    Vr=(b1-a1)*(b2-a2)*(b3-a3)\n",
    "    r=np.random.uniform(a1,b1,N)\n",
    "    theta=np.random.uniform(a2,b2,N)\n",
    "    return Vr*np.mean(integral_volumen(r,theta))"
   ]
  },
  {
   "cell_type": "code",
   "execution_count": 4,
   "metadata": {},
   "outputs": [
    {
     "data": {
      "text/html": [
       "<div>\n",
       "<style scoped>\n",
       "    .dataframe tbody tr th:only-of-type {\n",
       "        vertical-align: middle;\n",
       "    }\n",
       "\n",
       "    .dataframe tbody tr th {\n",
       "        vertical-align: top;\n",
       "    }\n",
       "\n",
       "    .dataframe thead th {\n",
       "        text-align: right;\n",
       "    }\n",
       "</style>\n",
       "<table border=\"1\" class=\"dataframe\">\n",
       "  <thead>\n",
       "    <tr style=\"text-align: right;\">\n",
       "      <th></th>\n",
       "      <th>Aprox integral de volumen</th>\n",
       "    </tr>\n",
       "  </thead>\n",
       "  <tbody>\n",
       "    <tr>\n",
       "      <td>10</td>\n",
       "      <td>-20.8204</td>\n",
       "    </tr>\n",
       "    <tr>\n",
       "      <td>100</td>\n",
       "      <td>-19.4981</td>\n",
       "    </tr>\n",
       "    <tr>\n",
       "      <td>1000</td>\n",
       "      <td>-19.0408</td>\n",
       "    </tr>\n",
       "    <tr>\n",
       "      <td>10000</td>\n",
       "      <td>-18.8465</td>\n",
       "    </tr>\n",
       "    <tr>\n",
       "      <td>100000</td>\n",
       "      <td>-18.8248</td>\n",
       "    </tr>\n",
       "    <tr>\n",
       "      <td>1000000</td>\n",
       "      <td>-18.8478</td>\n",
       "    </tr>\n",
       "    <tr>\n",
       "      <td>10000000</td>\n",
       "      <td>-18.8526</td>\n",
       "    </tr>\n",
       "  </tbody>\n",
       "</table>\n",
       "</div>"
      ],
      "text/plain": [
       "         Aprox integral de volumen\n",
       "10                        -20.8204\n",
       "100                       -19.4981\n",
       "1000                      -19.0408\n",
       "10000                     -18.8465\n",
       "100000                    -18.8248\n",
       "1000000                   -18.8478\n",
       "10000000                  -18.8526"
      ]
     },
     "execution_count": 4,
     "metadata": {},
     "output_type": "execute_result"
    }
   ],
   "source": [
    "#Limites y creacion del data frame\n",
    "\n",
    "a1,b1,a2,b2,a3,b3=1,1.5,0,np.pi,0,2*np.pi\n",
    "N=np.logspace(1,7,7).astype(int)\n",
    "\n",
    "solucion = pd.DataFrame(index=N,columns=['Aprox integral de volumen'])\n",
    "\n",
    "for n in N:\n",
    "    solucion.loc[n,'Aprox integral de volumen']= integracion_montecarlo(integral_volumen,a1,b1,a2,b2,a3,b3,n)\n",
    "    \n",
    "solucion"
   ]
  },
  {
   "cell_type": "code",
   "execution_count": 5,
   "metadata": {},
   "outputs": [],
   "source": [
    "#Definición de la integral de superficie\n",
    "\n",
    "def integral_superficie(theta):\n",
    "    return (-3/1)*(1)*np.sin(theta)"
   ]
  },
  {
   "cell_type": "code",
   "execution_count": 6,
   "metadata": {},
   "outputs": [],
   "source": [
    "#Definición de la solucion de la integral superficial mediante montecarlo\n",
    "\n",
    "def integracion_montecarlo2(integral_superficie,a1,b1,a2,b2,N):\n",
    "    Vr=(b1-a1)*(b2-a2)\n",
    "    theta=np.random.uniform(a1,b1,N.astype(int))\n",
    "    return Vr*np.mean(integral_superficie(theta))"
   ]
  },
  {
   "cell_type": "code",
   "execution_count": 7,
   "metadata": {},
   "outputs": [
    {
     "data": {
      "text/html": [
       "<div>\n",
       "<style scoped>\n",
       "    .dataframe tbody tr th:only-of-type {\n",
       "        vertical-align: middle;\n",
       "    }\n",
       "\n",
       "    .dataframe tbody tr th {\n",
       "        vertical-align: top;\n",
       "    }\n",
       "\n",
       "    .dataframe thead th {\n",
       "        text-align: right;\n",
       "    }\n",
       "</style>\n",
       "<table border=\"1\" class=\"dataframe\">\n",
       "  <thead>\n",
       "    <tr style=\"text-align: right;\">\n",
       "      <th></th>\n",
       "      <th>Aprox integral superficial</th>\n",
       "    </tr>\n",
       "  </thead>\n",
       "  <tbody>\n",
       "    <tr>\n",
       "      <td>10.0</td>\n",
       "      <td>-36.4576</td>\n",
       "    </tr>\n",
       "    <tr>\n",
       "      <td>100.0</td>\n",
       "      <td>-37.8103</td>\n",
       "    </tr>\n",
       "    <tr>\n",
       "      <td>1000.0</td>\n",
       "      <td>-37.4773</td>\n",
       "    </tr>\n",
       "    <tr>\n",
       "      <td>10000.0</td>\n",
       "      <td>-37.9337</td>\n",
       "    </tr>\n",
       "    <tr>\n",
       "      <td>100000.0</td>\n",
       "      <td>-37.7154</td>\n",
       "    </tr>\n",
       "    <tr>\n",
       "      <td>1000000.0</td>\n",
       "      <td>-37.6987</td>\n",
       "    </tr>\n",
       "    <tr>\n",
       "      <td>10000000.0</td>\n",
       "      <td>-37.706</td>\n",
       "    </tr>\n",
       "  </tbody>\n",
       "</table>\n",
       "</div>"
      ],
      "text/plain": [
       "           Aprox integral superficial\n",
       "10.0                         -36.4576\n",
       "100.0                        -37.8103\n",
       "1000.0                       -37.4773\n",
       "10000.0                      -37.9337\n",
       "100000.0                     -37.7154\n",
       "1000000.0                    -37.6987\n",
       "10000000.0                    -37.706"
      ]
     },
     "execution_count": 7,
     "metadata": {},
     "output_type": "execute_result"
    }
   ],
   "source": [
    "#Limites y data frame\n",
    "\n",
    "a1,b1,a2,b2=0,np.pi,0,2*np.pi\n",
    "N=np.logspace(1,7,7)\n",
    "\n",
    "solucion2=pd.DataFrame(index=N,columns=['Aprox integral superficial'])\n",
    "\n",
    "for n in N:\n",
    "    solucion2.loc[n,'Aprox integral superficial']= integracion_montecarlo2(integral_superficie,a1,b1,a2,b2,n)\n",
    "solucion2"
   ]
  },
  {
   "cell_type": "markdown",
   "metadata": {},
   "source": [
    "**Entre mayor sea la cantidad de terminos que se utilice en el método, mejor será el resultado. Es por esta razon que se utiliza la aproximación con 10 millones de valores.**"
   ]
  },
  {
   "cell_type": "code",
   "execution_count": 8,
   "metadata": {},
   "outputs": [
    {
     "data": {
      "text/plain": [
       "-56.55857016319426"
      ]
     },
     "execution_count": 8,
     "metadata": {},
     "output_type": "execute_result"
    }
   ],
   "source": [
    "# Valor aproximado para la carga encerrada\n",
    "\n",
    "carga_encerrada = solucion.iloc[6,0] + solucion2.iloc[6,0]\n",
    "carga_encerrada"
   ]
  },
  {
   "cell_type": "code",
   "execution_count": 9,
   "metadata": {},
   "outputs": [
    {
     "data": {
      "text/plain": [
       "-226028274091.20285"
      ]
     },
     "execution_count": 9,
     "metadata": {},
     "output_type": "execute_result"
    }
   ],
   "source": [
    "#Campo electrico calculado mediante el valor aproximado de la carga encerrada\n",
    "\n",
    "E=carga_encerrada/(4*np.pi*(1.5**2)*(8.85*(10**(-12))))\n",
    "E"
   ]
  },
  {
   "cell_type": "markdown",
   "metadata": {},
   "source": [
    "Utilizando el valor obtenido para la carga encerrada, mediante el método montecarlo, se obtuvo el campo electrico para la region comprendida en el cascaron. Dando como resultado $-226028274091.20285[N/C]$"
   ]
  },
  {
   "cell_type": "markdown",
   "metadata": {},
   "source": [
    "Para Poder calcular el error obtenido en la aproximación, es necesario crear una tabla con la suma de los valores para cada aproximación, para poder incluir esos valores en la resta con el valor real.\n"
   ]
  },
  {
   "cell_type": "code",
   "execution_count": 10,
   "metadata": {},
   "outputs": [
    {
     "data": {
      "text/html": [
       "<div>\n",
       "<style scoped>\n",
       "    .dataframe tbody tr th:only-of-type {\n",
       "        vertical-align: middle;\n",
       "    }\n",
       "\n",
       "    .dataframe tbody tr th {\n",
       "        vertical-align: top;\n",
       "    }\n",
       "\n",
       "    .dataframe thead th {\n",
       "        text-align: right;\n",
       "    }\n",
       "</style>\n",
       "<table border=\"1\" class=\"dataframe\">\n",
       "  <thead>\n",
       "    <tr style=\"text-align: right;\">\n",
       "      <th></th>\n",
       "      <th>Valor aproximado Qe</th>\n",
       "    </tr>\n",
       "  </thead>\n",
       "  <tbody>\n",
       "    <tr>\n",
       "      <td>10.0</td>\n",
       "      <td>-57.278</td>\n",
       "    </tr>\n",
       "    <tr>\n",
       "      <td>100.0</td>\n",
       "      <td>-57.3083</td>\n",
       "    </tr>\n",
       "    <tr>\n",
       "      <td>1000.0</td>\n",
       "      <td>-56.5181</td>\n",
       "    </tr>\n",
       "    <tr>\n",
       "      <td>10000.0</td>\n",
       "      <td>-56.7802</td>\n",
       "    </tr>\n",
       "    <tr>\n",
       "      <td>100000.0</td>\n",
       "      <td>-56.5401</td>\n",
       "    </tr>\n",
       "    <tr>\n",
       "      <td>1000000.0</td>\n",
       "      <td>-56.5466</td>\n",
       "    </tr>\n",
       "    <tr>\n",
       "      <td>10000000.0</td>\n",
       "      <td>-56.5586</td>\n",
       "    </tr>\n",
       "  </tbody>\n",
       "</table>\n",
       "</div>"
      ],
      "text/plain": [
       "           Valor aproximado Qe\n",
       "10.0                   -57.278\n",
       "100.0                 -57.3083\n",
       "1000.0                -56.5181\n",
       "10000.0               -56.7802\n",
       "100000.0              -56.5401\n",
       "1000000.0             -56.5466\n",
       "10000000.0            -56.5586"
      ]
     },
     "execution_count": 10,
     "metadata": {},
     "output_type": "execute_result"
    }
   ],
   "source": [
    "#Creacion de la tabla que contiene la suma de los valores aproximados para cada integral, usando x como cambio de fila.\n",
    "\n",
    "\n",
    "\n",
    "tabla = pd.DataFrame(index = N, columns = ['Valor aproximado Qe'])\n",
    "\n",
    "x = 0\n",
    "\n",
    "for n in N:\n",
    "    \n",
    "    tabla.loc[n,'Valor aproximado Qe']= solucion.iloc[x,0] + solucion2.iloc[x,0]\n",
    "    \n",
    "    x  = x +  1\n",
    "    \n",
    "tabla\n",
    "\n",
    "\n"
   ]
  },
  {
   "cell_type": "markdown",
   "metadata": {},
   "source": [
    "El valor real obtenido mediante integración directa es de $-18\\pi$. Por tanto solo falta restar este valor de de los valores caclulados por aproximación, para poder obtener el error."
   ]
  },
  {
   "cell_type": "code",
   "execution_count": 11,
   "metadata": {},
   "outputs": [
    {
     "data": {
      "text/html": [
       "<div>\n",
       "<style scoped>\n",
       "    .dataframe tbody tr th:only-of-type {\n",
       "        vertical-align: middle;\n",
       "    }\n",
       "\n",
       "    .dataframe tbody tr th {\n",
       "        vertical-align: top;\n",
       "    }\n",
       "\n",
       "    .dataframe thead th {\n",
       "        text-align: right;\n",
       "    }\n",
       "</style>\n",
       "<table border=\"1\" class=\"dataframe\">\n",
       "  <thead>\n",
       "    <tr style=\"text-align: right;\">\n",
       "      <th></th>\n",
       "      <th>Valor aproximado Qe</th>\n",
       "      <th>error</th>\n",
       "    </tr>\n",
       "  </thead>\n",
       "  <tbody>\n",
       "    <tr>\n",
       "      <td>10.0</td>\n",
       "      <td>-57.278</td>\n",
       "      <td>0.729343</td>\n",
       "    </tr>\n",
       "    <tr>\n",
       "      <td>100.0</td>\n",
       "      <td>-57.3083</td>\n",
       "      <td>0.759679</td>\n",
       "    </tr>\n",
       "    <tr>\n",
       "      <td>1000.0</td>\n",
       "      <td>-56.5181</td>\n",
       "      <td>0.0306145</td>\n",
       "    </tr>\n",
       "    <tr>\n",
       "      <td>10000.0</td>\n",
       "      <td>-56.7802</td>\n",
       "      <td>0.231579</td>\n",
       "    </tr>\n",
       "    <tr>\n",
       "      <td>100000.0</td>\n",
       "      <td>-56.5401</td>\n",
       "      <td>0.00854909</td>\n",
       "    </tr>\n",
       "    <tr>\n",
       "      <td>1000000.0</td>\n",
       "      <td>-56.5466</td>\n",
       "      <td>0.00209098</td>\n",
       "    </tr>\n",
       "    <tr>\n",
       "      <td>10000000.0</td>\n",
       "      <td>-56.5586</td>\n",
       "      <td>0.0099024</td>\n",
       "    </tr>\n",
       "  </tbody>\n",
       "</table>\n",
       "</div>"
      ],
      "text/plain": [
       "           Valor aproximado Qe       error\n",
       "10.0                   -57.278    0.729343\n",
       "100.0                 -57.3083    0.759679\n",
       "1000.0                -56.5181   0.0306145\n",
       "10000.0               -56.7802    0.231579\n",
       "100000.0              -56.5401  0.00854909\n",
       "1000000.0             -56.5466  0.00209098\n",
       "10000000.0            -56.5586   0.0099024"
      ]
     },
     "execution_count": 11,
     "metadata": {},
     "output_type": "execute_result"
    }
   ],
   "source": [
    "#Error obtenido \n",
    "\n",
    "Valor_real = -18*np.pi\n",
    "\n",
    "tabla2 = tabla\n",
    "\n",
    "tabla2['error']=np.abs(Valor_real-tabla2['Valor aproximado Qe'])\n",
    "\n",
    "tabla2"
   ]
  },
  {
   "cell_type": "markdown",
   "metadata": {},
   "source": [
    "# conclusiones"
   ]
  },
  {
   "cell_type": "markdown",
   "metadata": {},
   "source": [
    "Mediante el método de integracion Montecarlo, en conjunto con el modulo random de numpy, para la generacion de números aleatorios con distribución uniforme, variando la cantidad de numeros generados en potencias de 10, iniciando en 10 numeros aleatorios, hasta 10 millones. Con lo que se obtuvo la solucion tanto para la integral triple (volumétrica), como para la integral doble (superficial). Los resultados fueron colocados en \"data frames\" , gracias al uso del módulo pandas, con la finalidad de poder observar los diferentes resultados arrojados por el método montecarlo, conforme se aumentaba la cantidad de términos utilizados.\n",
    "\n",
    "Como cabria eserar, el mejor resultado se obtuvo con 10 millones de terminos, dicho resultado fue comparado con el valor real de la carga encerrada, calculado mediante integración directa, lo que dio un error de 0.0099024 (para el caso de la última corrida llevada a cabo), el cual es un error bastante aceptable, dada la simplicidad del método Montecarlo.\n"
   ]
  },
  {
   "cell_type": "markdown",
   "metadata": {},
   "source": [
    "# Referencias\n",
    "\n",
    "Becerra, A., 2007​\n",
    "\n",
    "Electrostática en presencia de dieléctricos, 2011​\n",
    "\n",
    "Griffiths, D. J. (2005). Introduction to electrodynamics. New Jersey: Prentice Hall.​\n",
    "\n",
    "Jackson, J. D. (2007). Classical electrodynamics. John Wiley & Sons.​\n",
    "\n",
    "Redondo Quintera, F. & Redondo Melchor, R., 2007\n"
   ]
  }
 ],
 "metadata": {
  "kernelspec": {
   "display_name": "Python 3",
   "language": "python",
   "name": "python3"
  },
  "language_info": {
   "codemirror_mode": {
    "name": "ipython",
    "version": 3
   },
   "file_extension": ".py",
   "mimetype": "text/x-python",
   "name": "python",
   "nbconvert_exporter": "python",
   "pygments_lexer": "ipython3",
   "version": "3.7.4"
  }
 },
 "nbformat": 4,
 "nbformat_minor": 2
}
